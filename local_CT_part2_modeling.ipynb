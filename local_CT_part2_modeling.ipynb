{
 "cells": [
  {
   "cell_type": "markdown",
   "id": "90701934-6743-42fd-80f9-091171f1477c",
   "metadata": {},
   "source": [
    "# Allianz Pricing: From Data Preparation to Risk Modeling Modeling (Modeling Part)"
   ]
  },
  {
   "cell_type": "markdown",
   "id": "8c536c37-0926-46ca-a160-ac6e8f9ce439",
   "metadata": {},
   "source": [
    "## 1. Feature pre-processing"
   ]
  },
  {
   "cell_type": "markdown",
   "id": "eef5a7e3-95b0-47a5-8fe6-bb198bb1dd25",
   "metadata": {},
   "source": [
    "**[Insert Instructions Below]**\n",
    "\n",
    "Please cut `VehAge` into 3 categorical bins [0, 1), [1, 10), (10, +inf), store the result in new variable `VehAgeGLM` "
   ]
  },
  {
   "cell_type": "markdown",
   "id": "b44185f6-1830-46f1-8e7b-127ffc659a46",
   "metadata": {
    "tags": []
   },
   "source": [
    "**[Add Context for Task 1]**\n",
    "\n",
    "The foundation of the premium is to choose a premium as per the risk of the customer. To do this, the risk of the customer seeking insurance, must be estimated. The underlying assumption is that there is a correlation between these variables and the risk.\n",
    "\n",
    "Feature pre-processing\n",
    "\n",
    "How to set a reasonable sub-groups (levels) for categorical variables is not always easy. But the main aim is to find as much homogeneity as possible within different class labels (levels) and every class label should receive a sufficient volume of observations. This can be done based on expert opinion or by resorting to some automatic algorithm to seek for homogeneity. \n",
    "\n",
    "Feature pre-processing in this section:\n",
    "\n",
    "`Area`: {A, ..., F} -> {1, ..., 6} (Has been set in previous exploratory data analysis section);\n",
    "\n",
    "`VehPower`: categorical feature, where we merge vehicle power groups bigger and equal to 9. In total, 6 classes based on expert opinion.\n",
    "\n",
    "`VehAge`: 3 categorical classes [0, 1), [1, 10), (10, +inf) based on expert opinion;\n",
    "\n",
    "`DrivAge`: 7 categorical classes [18; 21), [21; 26), [26; 31), [31; 41), [41; 51), [51; 71), [71;+inf) based on expert opinion.\n",
    "\n",
    "`BonusMalus`: continuous feature component (capping at value 150);\n",
    "\n",
    "`VehBrand`: categorical feature component (totally 11 classes);\n",
    "\n",
    "`VehGas`: binary feature component;\n",
    "\n",
    "`Density`: log-density is chosen as continuous log-linear feature component;\n",
    "\n",
    "`Region`: categorical feature component (totally 22 classes).\n",
    "\n",
    "Thus, we consider 3 continuous feature components (`Area`, `BonusMalus`, `log-Density`), 1 binary feature component (`VehGas`) and 5 categorical feature components (`VehPower`, `VehAge`, `DrivAge`, `VehBrand`, `Region`).\n",
    "\n",
    "\n",
    "## Good to know\n",
    "\n",
    "This project assumes you have a solid foundation in Python, statistics, and machine learning. Before attempting this project, it is recommended that you complete the prerequisite courses."
   ]
  },
  {
   "cell_type": "markdown",
   "id": "9f627775-87b8-47cc-8921-c55efde22f0d",
   "metadata": {},
   "source": [
    "### Sample Code"
   ]
  },
  {
   "cell_type": "code",
   "execution_count": 6,
   "id": "5e849f38-aea4-48d0-89ff-bb03e764d613",
   "metadata": {},
   "outputs": [],
   "source": [
    "import pandas as pd\n",
    "import numpy as np\n",
    "pol_clm_db = pd.read_csv('./datasets/pol_clm_db.csv')"
   ]
  },
  {
   "cell_type": "markdown",
   "id": "5146ee1c-7897-4ce7-92a5-395af5b15d19",
   "metadata": {},
   "source": [
    "#### Comment\n",
    "I will first look into the data to see what I have.  I was already familiar from the previous tasks, however there are new variables and we did preprocessing in the first part.\n",
    "- IdPol and the first column are unique.\n",
    "- Exposure and ClaimNr are already capped.\n",
    "- vehicle and driver age are not in  classes.\n",
    "- The levels of Gas are Regular and Diesel\n",
    "- brands 12, 1 and 2 are very common.\n",
    "- No columns have missing values.\n",
    "\n"
   ]
  },
  {
   "cell_type": "code",
   "execution_count": 8,
   "id": "3c917a2c-c619-4c1e-8124-f7ceefef541f",
   "metadata": {},
   "outputs": [],
   "source": [
    "# print without scientific notation\n",
    "\n",
    "def printd(a):\n",
    "        print('{:.10f}'.format(a))"
   ]
  },
  {
   "cell_type": "code",
   "execution_count": 9,
   "id": "55dec147-b41d-448e-aba0-526f85330864",
   "metadata": {},
   "outputs": [
    {
     "data": {
      "text/html": [
       "<div>\n",
       "<style scoped>\n",
       "    .dataframe tbody tr th:only-of-type {\n",
       "        vertical-align: middle;\n",
       "    }\n",
       "\n",
       "    .dataframe tbody tr th {\n",
       "        vertical-align: top;\n",
       "    }\n",
       "\n",
       "    .dataframe thead th {\n",
       "        text-align: right;\n",
       "    }\n",
       "</style>\n",
       "<table border=\"1\" class=\"dataframe\">\n",
       "  <thead>\n",
       "    <tr style=\"text-align: right;\">\n",
       "      <th></th>\n",
       "      <th>Unnamed: 0</th>\n",
       "      <th>IDpol</th>\n",
       "      <th>ClaimNb</th>\n",
       "      <th>Exposure</th>\n",
       "      <th>Area</th>\n",
       "      <th>VehPower</th>\n",
       "      <th>VehAge</th>\n",
       "      <th>DrivAge</th>\n",
       "      <th>BonusMalus</th>\n",
       "      <th>VehBrand</th>\n",
       "      <th>VehGas</th>\n",
       "      <th>Density</th>\n",
       "      <th>Region</th>\n",
       "      <th>ClaimAmount</th>\n",
       "      <th>LogDensity</th>\n",
       "    </tr>\n",
       "  </thead>\n",
       "  <tbody>\n",
       "    <tr>\n",
       "      <th>0</th>\n",
       "      <td>0</td>\n",
       "      <td>1.0</td>\n",
       "      <td>1</td>\n",
       "      <td>0.10</td>\n",
       "      <td>4</td>\n",
       "      <td>5.0</td>\n",
       "      <td>0.0</td>\n",
       "      <td>55.0</td>\n",
       "      <td>50.0</td>\n",
       "      <td>B12</td>\n",
       "      <td>Regular</td>\n",
       "      <td>1217.0</td>\n",
       "      <td>R82</td>\n",
       "      <td>0.0</td>\n",
       "      <td>7.0</td>\n",
       "    </tr>\n",
       "    <tr>\n",
       "      <th>1</th>\n",
       "      <td>1</td>\n",
       "      <td>3.0</td>\n",
       "      <td>1</td>\n",
       "      <td>0.77</td>\n",
       "      <td>4</td>\n",
       "      <td>5.0</td>\n",
       "      <td>0.0</td>\n",
       "      <td>55.0</td>\n",
       "      <td>50.0</td>\n",
       "      <td>B12</td>\n",
       "      <td>Regular</td>\n",
       "      <td>1217.0</td>\n",
       "      <td>R82</td>\n",
       "      <td>0.0</td>\n",
       "      <td>7.0</td>\n",
       "    </tr>\n",
       "  </tbody>\n",
       "</table>\n",
       "</div>"
      ],
      "text/plain": [
       "   Unnamed: 0  IDpol  ClaimNb  Exposure  Area  VehPower  VehAge  DrivAge  \\\n",
       "0           0    1.0        1      0.10     4       5.0     0.0     55.0   \n",
       "1           1    3.0        1      0.77     4       5.0     0.0     55.0   \n",
       "\n",
       "   BonusMalus VehBrand   VehGas  Density Region  ClaimAmount  LogDensity  \n",
       "0        50.0      B12  Regular   1217.0    R82          0.0         7.0  \n",
       "1        50.0      B12  Regular   1217.0    R82          0.0         7.0  "
      ]
     },
     "execution_count": 9,
     "metadata": {},
     "output_type": "execute_result"
    }
   ],
   "source": [
    "pol_clm_db.head(2)"
   ]
  },
  {
   "cell_type": "code",
   "execution_count": 10,
   "id": "3caf64f0-816e-40a9-a232-161190abdce6",
   "metadata": {},
   "outputs": [
    {
     "data": {
      "text/html": [
       "<div>\n",
       "<style scoped>\n",
       "    .dataframe tbody tr th:only-of-type {\n",
       "        vertical-align: middle;\n",
       "    }\n",
       "\n",
       "    .dataframe tbody tr th {\n",
       "        vertical-align: top;\n",
       "    }\n",
       "\n",
       "    .dataframe thead th {\n",
       "        text-align: right;\n",
       "    }\n",
       "</style>\n",
       "<table border=\"1\" class=\"dataframe\">\n",
       "  <thead>\n",
       "    <tr style=\"text-align: right;\">\n",
       "      <th></th>\n",
       "      <th>Unnamed: 0</th>\n",
       "      <th>IDpol</th>\n",
       "      <th>ClaimNb</th>\n",
       "      <th>Exposure</th>\n",
       "      <th>Area</th>\n",
       "      <th>VehPower</th>\n",
       "      <th>VehAge</th>\n",
       "      <th>DrivAge</th>\n",
       "      <th>BonusMalus</th>\n",
       "      <th>Density</th>\n",
       "      <th>ClaimAmount</th>\n",
       "      <th>LogDensity</th>\n",
       "    </tr>\n",
       "  </thead>\n",
       "  <tbody>\n",
       "    <tr>\n",
       "      <th>count</th>\n",
       "      <td>678013.000000</td>\n",
       "      <td>6.780130e+05</td>\n",
       "      <td>678013.000000</td>\n",
       "      <td>678013.000000</td>\n",
       "      <td>678013.000000</td>\n",
       "      <td>678013.000000</td>\n",
       "      <td>678013.000000</td>\n",
       "      <td>678013.000000</td>\n",
       "      <td>678013.000000</td>\n",
       "      <td>678013.000000</td>\n",
       "      <td>6.780130e+05</td>\n",
       "      <td>678013.000000</td>\n",
       "    </tr>\n",
       "    <tr>\n",
       "      <th>mean</th>\n",
       "      <td>339006.000000</td>\n",
       "      <td>2.621857e+06</td>\n",
       "      <td>0.053179</td>\n",
       "      <td>0.528545</td>\n",
       "      <td>3.289698</td>\n",
       "      <td>6.255635</td>\n",
       "      <td>6.976124</td>\n",
       "      <td>45.496871</td>\n",
       "      <td>59.757211</td>\n",
       "      <td>1792.422405</td>\n",
       "      <td>8.835998e+01</td>\n",
       "      <td>5.956151</td>\n",
       "    </tr>\n",
       "    <tr>\n",
       "      <th>std</th>\n",
       "      <td>195725.638368</td>\n",
       "      <td>1.641783e+06</td>\n",
       "      <td>0.237954</td>\n",
       "      <td>0.364081</td>\n",
       "      <td>1.382685</td>\n",
       "      <td>1.603689</td>\n",
       "      <td>5.398963</td>\n",
       "      <td>14.129872</td>\n",
       "      <td>15.607906</td>\n",
       "      <td>3958.646564</td>\n",
       "      <td>5.822454e+03</td>\n",
       "      <td>1.867370</td>\n",
       "    </tr>\n",
       "    <tr>\n",
       "      <th>min</th>\n",
       "      <td>0.000000</td>\n",
       "      <td>1.000000e+00</td>\n",
       "      <td>0.000000</td>\n",
       "      <td>0.002732</td>\n",
       "      <td>1.000000</td>\n",
       "      <td>4.000000</td>\n",
       "      <td>0.000000</td>\n",
       "      <td>18.000000</td>\n",
       "      <td>50.000000</td>\n",
       "      <td>1.000000</td>\n",
       "      <td>0.000000e+00</td>\n",
       "      <td>0.000000</td>\n",
       "    </tr>\n",
       "    <tr>\n",
       "      <th>25%</th>\n",
       "      <td>169503.000000</td>\n",
       "      <td>1.157951e+06</td>\n",
       "      <td>0.000000</td>\n",
       "      <td>0.180000</td>\n",
       "      <td>2.000000</td>\n",
       "      <td>5.000000</td>\n",
       "      <td>2.000000</td>\n",
       "      <td>34.000000</td>\n",
       "      <td>50.000000</td>\n",
       "      <td>92.000000</td>\n",
       "      <td>0.000000e+00</td>\n",
       "      <td>5.000000</td>\n",
       "    </tr>\n",
       "    <tr>\n",
       "      <th>50%</th>\n",
       "      <td>339006.000000</td>\n",
       "      <td>2.272152e+06</td>\n",
       "      <td>0.000000</td>\n",
       "      <td>0.490000</td>\n",
       "      <td>3.000000</td>\n",
       "      <td>6.000000</td>\n",
       "      <td>6.000000</td>\n",
       "      <td>44.000000</td>\n",
       "      <td>50.000000</td>\n",
       "      <td>393.000000</td>\n",
       "      <td>0.000000e+00</td>\n",
       "      <td>6.000000</td>\n",
       "    </tr>\n",
       "    <tr>\n",
       "      <th>75%</th>\n",
       "      <td>508509.000000</td>\n",
       "      <td>4.046274e+06</td>\n",
       "      <td>0.000000</td>\n",
       "      <td>0.990000</td>\n",
       "      <td>4.000000</td>\n",
       "      <td>7.000000</td>\n",
       "      <td>11.000000</td>\n",
       "      <td>55.000000</td>\n",
       "      <td>64.000000</td>\n",
       "      <td>1658.000000</td>\n",
       "      <td>0.000000e+00</td>\n",
       "      <td>7.000000</td>\n",
       "    </tr>\n",
       "    <tr>\n",
       "      <th>max</th>\n",
       "      <td>678012.000000</td>\n",
       "      <td>6.114330e+06</td>\n",
       "      <td>4.000000</td>\n",
       "      <td>1.000000</td>\n",
       "      <td>6.000000</td>\n",
       "      <td>9.000000</td>\n",
       "      <td>20.000000</td>\n",
       "      <td>90.000000</td>\n",
       "      <td>150.000000</td>\n",
       "      <td>27000.000000</td>\n",
       "      <td>4.075401e+06</td>\n",
       "      <td>10.000000</td>\n",
       "    </tr>\n",
       "  </tbody>\n",
       "</table>\n",
       "</div>"
      ],
      "text/plain": [
       "          Unnamed: 0         IDpol        ClaimNb       Exposure  \\\n",
       "count  678013.000000  6.780130e+05  678013.000000  678013.000000   \n",
       "mean   339006.000000  2.621857e+06       0.053179       0.528545   \n",
       "std    195725.638368  1.641783e+06       0.237954       0.364081   \n",
       "min         0.000000  1.000000e+00       0.000000       0.002732   \n",
       "25%    169503.000000  1.157951e+06       0.000000       0.180000   \n",
       "50%    339006.000000  2.272152e+06       0.000000       0.490000   \n",
       "75%    508509.000000  4.046274e+06       0.000000       0.990000   \n",
       "max    678012.000000  6.114330e+06       4.000000       1.000000   \n",
       "\n",
       "                Area       VehPower         VehAge        DrivAge  \\\n",
       "count  678013.000000  678013.000000  678013.000000  678013.000000   \n",
       "mean        3.289698       6.255635       6.976124      45.496871   \n",
       "std         1.382685       1.603689       5.398963      14.129872   \n",
       "min         1.000000       4.000000       0.000000      18.000000   \n",
       "25%         2.000000       5.000000       2.000000      34.000000   \n",
       "50%         3.000000       6.000000       6.000000      44.000000   \n",
       "75%         4.000000       7.000000      11.000000      55.000000   \n",
       "max         6.000000       9.000000      20.000000      90.000000   \n",
       "\n",
       "          BonusMalus        Density   ClaimAmount     LogDensity  \n",
       "count  678013.000000  678013.000000  6.780130e+05  678013.000000  \n",
       "mean       59.757211    1792.422405  8.835998e+01       5.956151  \n",
       "std        15.607906    3958.646564  5.822454e+03       1.867370  \n",
       "min        50.000000       1.000000  0.000000e+00       0.000000  \n",
       "25%        50.000000      92.000000  0.000000e+00       5.000000  \n",
       "50%        50.000000     393.000000  0.000000e+00       6.000000  \n",
       "75%        64.000000    1658.000000  0.000000e+00       7.000000  \n",
       "max       150.000000   27000.000000  4.075401e+06      10.000000  "
      ]
     },
     "execution_count": 10,
     "metadata": {},
     "output_type": "execute_result"
    }
   ],
   "source": [
    "pol_clm_db.describe()"
   ]
  },
  {
   "cell_type": "code",
   "execution_count": 11,
   "id": "f939bba9-8d5c-4a6f-8b69-8a772026f548",
   "metadata": {},
   "outputs": [
    {
     "data": {
      "text/plain": [
       "0"
      ]
     },
     "execution_count": 11,
     "metadata": {},
     "output_type": "execute_result"
    }
   ],
   "source": [
    "pol_clm_db['Unnamed: 0'].duplicated().sum()"
   ]
  },
  {
   "cell_type": "code",
   "execution_count": 12,
   "id": "c8cdb8af-f6b8-403d-bd33-8f0a16c805b0",
   "metadata": {},
   "outputs": [
    {
     "data": {
      "text/plain": [
       "36056"
      ]
     },
     "execution_count": 12,
     "metadata": {},
     "output_type": "execute_result"
    }
   ],
   "source": [
    "pol_clm_db['ClaimNb'].sum()"
   ]
  },
  {
   "cell_type": "code",
   "execution_count": 13,
   "id": "a7289ab0-a2d8-4083-85c0-19f76db46aa6",
   "metadata": {},
   "outputs": [
    {
     "data": {
      "text/plain": [
       "Index(['Unnamed: 0', 'IDpol', 'ClaimNb', 'Exposure', 'Area', 'VehPower',\n",
       "       'VehAge', 'DrivAge', 'BonusMalus', 'VehBrand', 'VehGas', 'Density',\n",
       "       'Region', 'ClaimAmount', 'LogDensity'],\n",
       "      dtype='object')"
      ]
     },
     "execution_count": 13,
     "metadata": {},
     "output_type": "execute_result"
    }
   ],
   "source": [
    "pol_clm_db.columns"
   ]
  },
  {
   "cell_type": "code",
   "execution_count": 14,
   "id": "ce4cbefa-0424-4228-84c2-61d7a95edfce",
   "metadata": {},
   "outputs": [
    {
     "data": {
      "text/plain": [
       "array([[<AxesSubplot:title={'center':'ClaimNb'}>,\n",
       "        <AxesSubplot:title={'center':'Exposure'}>,\n",
       "        <AxesSubplot:title={'center':'Area'}>],\n",
       "       [<AxesSubplot:title={'center':'VehPower'}>,\n",
       "        <AxesSubplot:title={'center':'VehAge'}>,\n",
       "        <AxesSubplot:title={'center':'DrivAge'}>],\n",
       "       [<AxesSubplot:title={'center':'BonusMalus'}>,\n",
       "        <AxesSubplot:title={'center':'Density'}>,\n",
       "        <AxesSubplot:title={'center':'ClaimAmount'}>],\n",
       "       [<AxesSubplot:title={'center':'LogDensity'}>, <AxesSubplot:>,\n",
       "        <AxesSubplot:>]], dtype=object)"
      ]
     },
     "execution_count": 14,
     "metadata": {},
     "output_type": "execute_result"
    },
    {
     "data": {
      "image/png": "[encoded data removed]",
      "text/plain": [
       "<Figure size 432x288 with 12 Axes>"
      ]
     },
     "metadata": {
      "needs_background": "light"
     },
     "output_type": "display_data"
    }
   ],
   "source": [
    "pol_clm_db.hist(['ClaimNb', 'Exposure', 'Area', 'VehPower',\n",
    "       'VehAge', 'DrivAge', 'BonusMalus', 'Density',\n",
    "       'ClaimAmount', 'LogDensity'])"
   ]
  },
  {
   "cell_type": "code",
   "execution_count": 15,
   "id": "b2a1e1d4-8293-4617-9b23-3360288591ce",
   "metadata": {},
   "outputs": [
    {
     "data": {
      "text/plain": [
       "Regular    345877\n",
       "Diesel     332136\n",
       "Name: VehGas, dtype: int64"
      ]
     },
     "execution_count": 15,
     "metadata": {},
     "output_type": "execute_result"
    }
   ],
   "source": [
    "#pol_clm_db['VehBrand'].value_counts()\n",
    "pol_clm_db['VehGas'].value_counts()\n",
    "#pol_clm_db['Region'].value_counts()\n",
    "\n"
   ]
  },
  {
   "cell_type": "code",
   "execution_count": 16,
   "id": "104e3771-3a9c-4d6c-8546-8b958b7fefaf",
   "metadata": {},
   "outputs": [
    {
     "data": {
      "text/plain": [
       "<AxesSubplot:>"
      ]
     },
     "execution_count": 16,
     "metadata": {},
     "output_type": "execute_result"
    },
    {
     "data": {
      "image/png": "[encoded data removed]",
      "text/plain": [
       "<Figure size 432x288 with 1 Axes>"
      ]
     },
     "metadata": {
      "needs_background": "light"
     },
     "output_type": "display_data"
    }
   ],
   "source": [
    "#pol_clm_db['VehBrand'].value_counts().plot()\n",
    "#pol_clm_db['VehGas'].value_counts().plot()\n",
    "pol_clm_db['Region'].value_counts().plot()\n",
    "\n"
   ]
  },
  {
   "cell_type": "code",
   "execution_count": 17,
   "id": "dcd7722c-451f-4e59-b33e-c03ce4cb161f",
   "metadata": {},
   "outputs": [
    {
     "data": {
      "text/html": [
       "<div>\n",
       "<style scoped>\n",
       "    .dataframe tbody tr th:only-of-type {\n",
       "        vertical-align: middle;\n",
       "    }\n",
       "\n",
       "    .dataframe tbody tr th {\n",
       "        vertical-align: top;\n",
       "    }\n",
       "\n",
       "    .dataframe thead th {\n",
       "        text-align: right;\n",
       "    }\n",
       "</style>\n",
       "<table border=\"1\" class=\"dataframe\">\n",
       "  <thead>\n",
       "    <tr style=\"text-align: right;\">\n",
       "      <th></th>\n",
       "      <th>Unnamed: 0</th>\n",
       "      <th>IDpol</th>\n",
       "      <th>ClaimNb</th>\n",
       "      <th>Exposure</th>\n",
       "      <th>Area</th>\n",
       "      <th>VehPower</th>\n",
       "      <th>VehAge</th>\n",
       "      <th>DrivAge</th>\n",
       "      <th>BonusMalus</th>\n",
       "      <th>VehBrand</th>\n",
       "      <th>VehGas</th>\n",
       "      <th>Density</th>\n",
       "      <th>Region</th>\n",
       "      <th>ClaimAmount</th>\n",
       "      <th>LogDensity</th>\n",
       "    </tr>\n",
       "  </thead>\n",
       "  <tbody>\n",
       "  </tbody>\n",
       "</table>\n",
       "</div>"
      ],
      "text/plain": [
       "Empty DataFrame\n",
       "Columns: [Unnamed: 0, IDpol, ClaimNb, Exposure, Area, VehPower, VehAge, DrivAge, BonusMalus, VehBrand, VehGas, Density, Region, ClaimAmount, LogDensity]\n",
       "Index: []"
      ]
     },
     "execution_count": 17,
     "metadata": {},
     "output_type": "execute_result"
    }
   ],
   "source": [
    "pol_clm_db[ pol_clm_db.isna().any(axis = 1) ]"
   ]
  },
  {
   "cell_type": "markdown",
   "id": "826773a3-b445-4489-aa33-48434b36ba1e",
   "metadata": {},
   "source": [
    "VehAge: 3 categorical classes [0, 1), [1, 10), (10, +inf) based on expert opinion;\n",
    "\n",
    "DrivAge: 7 categorical classes [18; 21), [21; 26), [26; 31), [31; 41), [41; 51), [51; 71), [71;+inf) based on expert opinion."
   ]
  },
  {
   "cell_type": "code",
   "execution_count": 19,
   "id": "f1b37512-8f54-498d-b03f-e0806c220bef",
   "metadata": {},
   "outputs": [],
   "source": [
    "pol_clm_db['AreaGLM']         = pol_clm_db['Area']\n",
    "pol_clm_db['VehPowerGLM']     = pol_clm_db['VehPower'].astype(\"category\")\n",
    "pol_clm_db['VehAgeGLM']       = pd.cut(pol_clm_db['VehAge'], [-np.inf,1, 10, np.inf], right=False)\n",
    "pol_clm_db['DrivAgeGLM']      = pd.cut(pol_clm_db['DrivAge'], [-np.inf, 21, 26, 31, 41, 51, 71, np.inf], right=False)\n",
    "pol_clm_db['BonusMalusGLM']   = pol_clm_db['BonusMalus'].astype('int')\n",
    "pol_clm_db['VehBrandGLM']     = pol_clm_db['VehBrand'].astype(\"category\")\n",
    "pol_clm_db['VehGasGLM']       = pol_clm_db['VehGas'].astype(\"category\")\n",
    "pol_clm_db['LogDensityGLM']   = pol_clm_db['LogDensity']\n",
    "pol_clm_db['RegionGLM']       = pol_clm_db['Region'].astype(\"category\")"
   ]
  },
  {
   "cell_type": "markdown",
   "id": "35ca89ac-9906-4fab-b292-0f341b70f81d",
   "metadata": {},
   "source": [
    "## 2. Create response variable for modeling"
   ]
  },
  {
   "cell_type": "markdown",
   "id": "2054aa91-948b-4ae7-9cbe-1232af91dca3",
   "metadata": {},
   "source": [
    "**[Add Context for Task 2]**\n",
    "\n",
    "Create response variable for modeling. "
   ]
  },
  {
   "cell_type": "markdown",
   "id": "a2a8fd25-7041-475b-a6e9-af81a6e3ec91",
   "metadata": {},
   "source": [
    "**[Instructions]**\n",
    "\n",
    "Create response variables for modeling part. Namely, frequency (`Frequency`) , severity (`Severity`), and pure premium (`PurePremium`). Please be careful when calculating the severity as there are lots of cases where number of claim is 0. Also, do the check if there exists any missing value for each explainable variable.\n"
   ]
  },
  {
   "cell_type": "markdown",
   "id": "87377767-ef02-4bca-88a3-d3139180a50e",
   "metadata": {},
   "source": [
    "### Sample Code"
   ]
  },
  {
   "cell_type": "code",
   "execution_count": 24,
   "id": "d4302ee3-d6ae-49e9-bfca-f42472c6a746",
   "metadata": {},
   "outputs": [],
   "source": [
    "#1/0"
   ]
  },
  {
   "cell_type": "markdown",
   "id": "5f19b373-d195-4550-a003-0b85b72cef43",
   "metadata": {},
   "source": [
    "#### Comment\n",
    "I have not found missing values for any of the three new variables"
   ]
  },
  {
   "cell_type": "code",
   "execution_count": 26,
   "id": "d0fde47f-a439-4dd3-9261-3e82bd9072cc",
   "metadata": {},
   "outputs": [],
   "source": [
    "pol_clm_db['Frequency']   = pol_clm_db['ClaimNb']   * pol_clm_db['Exposure']   \n",
    "pol_clm_db['Severity']    = 0  \n",
    "#avoid dividing by 0. sev =  mean claim amount\n",
    "pol_clm_db.loc[pol_clm_db['ClaimNb'] != 0, 'Severity'] = pol_clm_db['ClaimAmount'] / pol_clm_db['ClaimNb']\n",
    "pol_clm_db['PurePremium'] = pol_clm_db['Frequency']   * pol_clm_db['Severity']   "
   ]
  },
  {
   "cell_type": "code",
   "execution_count": 27,
   "id": "7bc1dce2-21f8-4a41-b4e7-7be8a50da8a2",
   "metadata": {},
   "outputs": [
    {
     "data": {
      "text/html": [
       "<div>\n",
       "<style scoped>\n",
       "    .dataframe tbody tr th:only-of-type {\n",
       "        vertical-align: middle;\n",
       "    }\n",
       "\n",
       "    .dataframe tbody tr th {\n",
       "        vertical-align: top;\n",
       "    }\n",
       "\n",
       "    .dataframe thead th {\n",
       "        text-align: right;\n",
       "    }\n",
       "</style>\n",
       "<table border=\"1\" class=\"dataframe\">\n",
       "  <thead>\n",
       "    <tr style=\"text-align: right;\">\n",
       "      <th></th>\n",
       "      <th>Frequency</th>\n",
       "      <th>Severity</th>\n",
       "      <th>PurePremium</th>\n",
       "    </tr>\n",
       "  </thead>\n",
       "  <tbody>\n",
       "    <tr>\n",
       "      <th>count</th>\n",
       "      <td>678013.000000</td>\n",
       "      <td>6.780130e+05</td>\n",
       "      <td>678013.000000</td>\n",
       "    </tr>\n",
       "    <tr>\n",
       "      <th>mean</th>\n",
       "      <td>0.034150</td>\n",
       "      <td>8.175592e+01</td>\n",
       "      <td>51.471395</td>\n",
       "    </tr>\n",
       "    <tr>\n",
       "      <th>std</th>\n",
       "      <td>0.173678</td>\n",
       "      <td>5.576590e+03</td>\n",
       "      <td>1965.789071</td>\n",
       "    </tr>\n",
       "    <tr>\n",
       "      <th>min</th>\n",
       "      <td>0.000000</td>\n",
       "      <td>0.000000e+00</td>\n",
       "      <td>0.000000</td>\n",
       "    </tr>\n",
       "    <tr>\n",
       "      <th>25%</th>\n",
       "      <td>0.000000</td>\n",
       "      <td>0.000000e+00</td>\n",
       "      <td>0.000000</td>\n",
       "    </tr>\n",
       "    <tr>\n",
       "      <th>50%</th>\n",
       "      <td>0.000000</td>\n",
       "      <td>0.000000e+00</td>\n",
       "      <td>0.000000</td>\n",
       "    </tr>\n",
       "    <tr>\n",
       "      <th>75%</th>\n",
       "      <td>0.000000</td>\n",
       "      <td>0.000000e+00</td>\n",
       "      <td>0.000000</td>\n",
       "    </tr>\n",
       "    <tr>\n",
       "      <th>max</th>\n",
       "      <td>4.000000</td>\n",
       "      <td>4.075401e+06</td>\n",
       "      <td>896588.123200</td>\n",
       "    </tr>\n",
       "  </tbody>\n",
       "</table>\n",
       "</div>"
      ],
      "text/plain": [
       "           Frequency      Severity    PurePremium\n",
       "count  678013.000000  6.780130e+05  678013.000000\n",
       "mean        0.034150  8.175592e+01      51.471395\n",
       "std         0.173678  5.576590e+03    1965.789071\n",
       "min         0.000000  0.000000e+00       0.000000\n",
       "25%         0.000000  0.000000e+00       0.000000\n",
       "50%         0.000000  0.000000e+00       0.000000\n",
       "75%         0.000000  0.000000e+00       0.000000\n",
       "max         4.000000  4.075401e+06  896588.123200"
      ]
     },
     "execution_count": 27,
     "metadata": {},
     "output_type": "execute_result"
    }
   ],
   "source": [
    "pol_clm_db[['Frequency', 'Severity', 'PurePremium']].describe()"
   ]
  },
  {
   "cell_type": "code",
   "execution_count": 28,
   "id": "21445dcd-bd53-4276-afc1-d9c7430cf933",
   "metadata": {},
   "outputs": [
    {
     "data": {
      "text/html": [
       "<div>\n",
       "<style scoped>\n",
       "    .dataframe tbody tr th:only-of-type {\n",
       "        vertical-align: middle;\n",
       "    }\n",
       "\n",
       "    .dataframe tbody tr th {\n",
       "        vertical-align: top;\n",
       "    }\n",
       "\n",
       "    .dataframe thead th {\n",
       "        text-align: right;\n",
       "    }\n",
       "</style>\n",
       "<table border=\"1\" class=\"dataframe\">\n",
       "  <thead>\n",
       "    <tr style=\"text-align: right;\">\n",
       "      <th></th>\n",
       "      <th>Frequency</th>\n",
       "      <th>Severity</th>\n",
       "      <th>PurePremium</th>\n",
       "    </tr>\n",
       "  </thead>\n",
       "  <tbody>\n",
       "  </tbody>\n",
       "</table>\n",
       "</div>"
      ],
      "text/plain": [
       "Empty DataFrame\n",
       "Columns: [Frequency, Severity, PurePremium]\n",
       "Index: []"
      ]
     },
     "execution_count": 28,
     "metadata": {},
     "output_type": "execute_result"
    }
   ],
   "source": [
    "# check missing value\n",
    "pol_clm_db[['Frequency', 'Severity', 'PurePremium']][ pol_clm_db.isna().any(axis = 1) ]\n"
   ]
  },
  {
   "cell_type": "code",
   "execution_count": 29,
   "id": "e91b8146-a4ce-4e4f-a602-cb0ce38ad9f2",
   "metadata": {},
   "outputs": [
    {
     "data": {
      "text/plain": [
       "Series([], Name: PurePremium, dtype: float64)"
      ]
     },
     "execution_count": 29,
     "metadata": {},
     "output_type": "execute_result"
    }
   ],
   "source": [
    "pol_clm_db['PurePremium'].fillna(-100)[pol_clm_db['PurePremium']< (-20)]"
   ]
  },
  {
   "cell_type": "markdown",
   "id": "69a90e1c-5d63-4ced-9873-8659ac453197",
   "metadata": {
    "tags": []
   },
   "source": [
    "## 3. Data subsets for modeling"
   ]
  },
  {
   "cell_type": "markdown",
   "id": "244984f3-324d-4d93-ba76-ffe051c5415c",
   "metadata": {},
   "source": [
    "**[Add Context for Task 3]**\n",
    "\n",
    "In this task, we will focus on creating train/test data sets for modeling."
   ]
  },
  {
   "cell_type": "markdown",
   "id": "6ef6b020-967e-4791-9679-fd3ec9b763db",
   "metadata": {},
   "source": [
    "**[Instructions]**\n",
    "\n",
    "use `train_test_split` function from module sklearn.model_selection to split the data into training (90%) and testing (10%) (function parameters: test_size=0.1, random_state=210). Check if the resulting split for test and train data looks reasonable (similar) in terms of exposure percentage, claim number percentage, frequency and severity. "
   ]
  },
  {
   "cell_type": "markdown",
   "id": "0c22081e-7c03-4d45-b58d-67cf1107ccc2",
   "metadata": {},
   "source": [
    "### Sample Code"
   ]
  },
  {
   "cell_type": "markdown",
   "id": "2c57bf8a-de7c-4291-b2bd-8953801ff89f",
   "metadata": {},
   "source": [
    "#### Comment\n",
    "For severity the bias is more visible, however it is not extreme. This test set can be used."
   ]
  },
  {
   "cell_type": "code",
   "execution_count": 35,
   "id": "dc1ef910-2e34-44b3-927f-4f506d1c003e",
   "metadata": {},
   "outputs": [],
   "source": [
    "from sklearn.model_selection import train_test_split"
   ]
  },
  {
   "cell_type": "code",
   "execution_count": 36,
   "id": "83cf78e9-e7e2-4ee6-a721-16cf9656ed78",
   "metadata": {},
   "outputs": [],
   "source": [
    "#help(train_test_split)"
   ]
  },
  {
   "cell_type": "code",
   "execution_count": 37,
   "id": "cf93f8d4-525c-4c5b-9625-026aabc6aa80",
   "metadata": {},
   "outputs": [],
   "source": [
    "trn_db, tst_db = train_test_split(pol_clm_db, test_size=0.1, random_state=210) #210"
   ]
  },
  {
   "cell_type": "code",
   "execution_count": 38,
   "id": "a29ea7b9-045e-4bda-9eca-6cb585122259",
   "metadata": {},
   "outputs": [],
   "source": [
    "import matplotlib.pyplot as plt"
   ]
  },
  {
   "cell_type": "code",
   "execution_count": 39,
   "id": "cacda61f-9f8b-4d13-a244-2b2747731e72",
   "metadata": {},
   "outputs": [
    {
     "data": {
      "image/png": "[encoded data removed]",
      "text/plain": [
       "<Figure size 1152x864 with 8 Axes>"
      ]
     },
     "metadata": {
      "needs_background": "light"
     },
     "output_type": "display_data"
    }
   ],
   "source": [
    "fig, axes = plt.subplots(nrows=4, ncols=2, figsize=(16,12))\n",
    "\n",
    "trn_db.hist(column='Exposure', bins=100, log=True, ax=axes[0,0])\n",
    "tst_db.hist(column='Exposure', bins=100, log=True, ax=axes[0,1])\n",
    "\n",
    "trn_db.hist(column='ClaimNb', bins=100, log=True, ax=axes[1,0])\n",
    "tst_db.hist(column='ClaimNb', bins=100, log=True, ax=axes[1,1])\n",
    "\n",
    "trn_db.hist(column='Frequency', bins=100, log=True, ax=axes[2,0])\n",
    "tst_db.hist(column='Frequency', bins=100, log=True, ax=axes[2,1])\n",
    "\n",
    "trn_db.hist(column='Severity', bins=100, log=True, ax=axes[3,0])\n",
    "tst_db.hist(column='Severity', bins=100, log=True, ax=axes[3,1])\n",
    "\n",
    "axes[0,0].title.set_text('Exposure Train')\n",
    "axes[0,1].title.set_text('Exposure Test')\n",
    "axes[1,0].title.set_text('Claim Nr Train')\n",
    "axes[1,1].title.set_text('Claim Nr Test')\n",
    "axes[2,0].title.set_text('Frequency Train')\n",
    "axes[2,1].title.set_text('Frequency Test')\n",
    "axes[3,0].title.set_text('Severity Train')\n",
    "axes[3,1].title.set_text('Severity Test')"
   ]
  },
  {
   "cell_type": "markdown",
   "id": "3605173d-bc66-4c6a-b2b5-ac0ee95a3e91",
   "metadata": {},
   "source": [
    "### helper code"
   ]
  },
  {
   "cell_type": "code",
   "execution_count": 41,
   "id": "3b2d2661-436b-4fbf-983b-c980d3bf5425",
   "metadata": {},
   "outputs": [],
   "source": [
    "def split_stat(dat_in, trn_db, tst_db):\n",
    "    \n",
    "    # Check resulting split looks reasonable\n",
    "    return dat_in.assign(  \n",
    "        # Add indicator columns for whether each row is in_train, in_test\n",
    "        in_train=dat_in.IDpol.isin(trn_db.IDpol),\n",
    "        in_test=dat_in.IDpol.isin(tst_db.IDpol),\n",
    "        # Add column of which subset each row is in\n",
    "        subset=lambda x: np.select(\n",
    "            [x.in_train, x.in_test],\n",
    "            ['train', 'test'],\n",
    "            default='no_subset')\n",
    "    ).groupby(  # Group rows by which subset they are in\n",
    "        ['in_train', 'in_test', 'subset']\n",
    "    ).agg({  # Calculate stats for each group\n",
    "        'IDpol': 'size', 'Exposure': 'sum', 'ClaimNb': 'sum', 'ClaimAmount': 'sum'\n",
    "    }).rename(columns={'IDpol': 'NumOfRows'}).assign(\n",
    "        # Add additional stats\n",
    "        NumOfRowsProp = lambda x: x.NumOfRows / x.NumOfRows.sum(),\n",
    "        ExposureProp  = lambda x: x.Exposure / x.Exposure.sum(),\n",
    "        ClaimNbProp   = lambda x: x.ClaimNb / x.ClaimNb.sum(),\n",
    "        Frequency     = lambda x: x.ClaimNb / x.Exposure,\n",
    "        Severity      = lambda x: x.ClaimAmount / x.ClaimNb\n",
    "        \n",
    "    ).pipe(lambda df: df.append(pd.DataFrame.from_dict({\n",
    "        # Add totals row. It is the sum for every column except 'Frequency', 'Severity'\n",
    "        # where it is the overall claims frequency of the entire data set\n",
    "        ('Total','','',''): [\n",
    "            (lambda x: df.ClaimNb.sum() / df.Exposure.sum() if x == 'Frequency' else df.ClaimAmount.sum() / df.ClaimNb.sum())(col_name) if col_name in ['Frequency', 'Severity']\n",
    "            else df.loc[:,col_name].sum() for col_name in df.columns\n",
    "        ]}, orient='index', columns=df.columns\n",
    "    ))\n",
    "    ).style.format(  # Format the output so it looks reasonable when printed\n",
    "        '{:.2%}'  # Default number format\n",
    "    ).format({  # Specific number formats where we want to override the default\n",
    "        **{col: '{:,.0f}' for col in ['NumOfRows', 'ClaimNb', 'Severity', 'ClaimAmount']},\n",
    "        'Exposure': '{:,.1f}'\n",
    "    })\n",
    "    \n"
   ]
  },
  {
   "cell_type": "code",
   "execution_count": 42,
   "id": "74c9bcd6-f6f3-4605-9404-34d5771f7f44",
   "metadata": {},
   "outputs": [
    {
     "name": "stderr",
     "output_type": "stream",
     "text": [
      "/tmp/ipykernel_425/2341095070.py:25: FutureWarning: The frame.append method is deprecated and will be removed from pandas in a future version. Use pandas.concat instead.\n",
      "  ).pipe(lambda df: df.append(pd.DataFrame.from_dict({\n"
     ]
    },
    {
     "data": {
      "text/html": [
       "<style type=\"text/css\">\n",
       "</style>\n",
       "<table id=\"T_59c04\">\n",
       "  <thead>\n",
       "    <tr>\n",
       "      <th class=\"blank\" >&nbsp;</th>\n",
       "      <th class=\"blank\" >&nbsp;</th>\n",
       "      <th class=\"blank level0\" >&nbsp;</th>\n",
       "      <th id=\"T_59c04_level0_col0\" class=\"col_heading level0 col0\" >NumOfRows</th>\n",
       "      <th id=\"T_59c04_level0_col1\" class=\"col_heading level0 col1\" >Exposure</th>\n",
       "      <th id=\"T_59c04_level0_col2\" class=\"col_heading level0 col2\" >ClaimNb</th>\n",
       "      <th id=\"T_59c04_level0_col3\" class=\"col_heading level0 col3\" >ClaimAmount</th>\n",
       "      <th id=\"T_59c04_level0_col4\" class=\"col_heading level0 col4\" >NumOfRowsProp</th>\n",
       "      <th id=\"T_59c04_level0_col5\" class=\"col_heading level0 col5\" >ExposureProp</th>\n",
       "      <th id=\"T_59c04_level0_col6\" class=\"col_heading level0 col6\" >ClaimNbProp</th>\n",
       "      <th id=\"T_59c04_level0_col7\" class=\"col_heading level0 col7\" >Frequency</th>\n",
       "      <th id=\"T_59c04_level0_col8\" class=\"col_heading level0 col8\" >Severity</th>\n",
       "    </tr>\n",
       "    <tr>\n",
       "      <th class=\"index_name level0\" >in_train</th>\n",
       "      <th class=\"index_name level1\" >in_test</th>\n",
       "      <th class=\"index_name level2\" >subset</th>\n",
       "      <th class=\"blank col0\" >&nbsp;</th>\n",
       "      <th class=\"blank col1\" >&nbsp;</th>\n",
       "      <th class=\"blank col2\" >&nbsp;</th>\n",
       "      <th class=\"blank col3\" >&nbsp;</th>\n",
       "      <th class=\"blank col4\" >&nbsp;</th>\n",
       "      <th class=\"blank col5\" >&nbsp;</th>\n",
       "      <th class=\"blank col6\" >&nbsp;</th>\n",
       "      <th class=\"blank col7\" >&nbsp;</th>\n",
       "      <th class=\"blank col8\" >&nbsp;</th>\n",
       "    </tr>\n",
       "  </thead>\n",
       "  <tbody>\n",
       "    <tr>\n",
       "      <th id=\"T_59c04_level0_row0\" class=\"row_heading level0 row0\" >False</th>\n",
       "      <th id=\"T_59c04_level1_row0\" class=\"row_heading level1 row0\" >True</th>\n",
       "      <th id=\"T_59c04_level2_row0\" class=\"row_heading level2 row0\" >test</th>\n",
       "      <td id=\"T_59c04_row0_col0\" class=\"data row0 col0\" >67,802</td>\n",
       "      <td id=\"T_59c04_row0_col1\" class=\"data row0 col1\" >35,853.3</td>\n",
       "      <td id=\"T_59c04_row0_col2\" class=\"data row0 col2\" >3,521</td>\n",
       "      <td id=\"T_59c04_row0_col3\" class=\"data row0 col3\" >5,541,119</td>\n",
       "      <td id=\"T_59c04_row0_col4\" class=\"data row0 col4\" >0.100001</td>\n",
       "      <td id=\"T_59c04_row0_col5\" class=\"data row0 col5\" >0.100048</td>\n",
       "      <td id=\"T_59c04_row0_col6\" class=\"data row0 col6\" >0.097654</td>\n",
       "      <td id=\"T_59c04_row0_col7\" class=\"data row0 col7\" >0.098206</td>\n",
       "      <td id=\"T_59c04_row0_col8\" class=\"data row0 col8\" >1,574</td>\n",
       "    </tr>\n",
       "    <tr>\n",
       "      <th id=\"T_59c04_level0_row1\" class=\"row_heading level0 row1\" >True</th>\n",
       "      <th id=\"T_59c04_level1_row1\" class=\"row_heading level1 row1\" >False</th>\n",
       "      <th id=\"T_59c04_level2_row1\" class=\"row_heading level2 row1\" >train</th>\n",
       "      <td id=\"T_59c04_row1_col0\" class=\"data row1 col0\" >610,211</td>\n",
       "      <td id=\"T_59c04_row1_col1\" class=\"data row1 col1\" >322,506.8</td>\n",
       "      <td id=\"T_59c04_row1_col2\" class=\"data row1 col2\" >32,535</td>\n",
       "      <td id=\"T_59c04_row1_col3\" class=\"data row1 col3\" >54,368,097</td>\n",
       "      <td id=\"T_59c04_row1_col4\" class=\"data row1 col4\" >0.899999</td>\n",
       "      <td id=\"T_59c04_row1_col5\" class=\"data row1 col5\" >0.899952</td>\n",
       "      <td id=\"T_59c04_row1_col6\" class=\"data row1 col6\" >0.902346</td>\n",
       "      <td id=\"T_59c04_row1_col7\" class=\"data row1 col7\" >0.100882</td>\n",
       "      <td id=\"T_59c04_row1_col8\" class=\"data row1 col8\" >1,671</td>\n",
       "    </tr>\n",
       "    <tr>\n",
       "      <th id=\"T_59c04_level0_row2\" class=\"row_heading level0 row2\" >Total</th>\n",
       "      <th id=\"T_59c04_level1_row2\" class=\"row_heading level1 row2\" ></th>\n",
       "      <th id=\"T_59c04_level2_row2\" class=\"row_heading level2 row2\" ></th>\n",
       "      <td id=\"T_59c04_row2_col0\" class=\"data row2 col0\" >678,013</td>\n",
       "      <td id=\"T_59c04_row2_col1\" class=\"data row2 col1\" >358,360.1</td>\n",
       "      <td id=\"T_59c04_row2_col2\" class=\"data row2 col2\" >36,056</td>\n",
       "      <td id=\"T_59c04_row2_col3\" class=\"data row2 col3\" >59,909,216</td>\n",
       "      <td id=\"T_59c04_row2_col4\" class=\"data row2 col4\" >1.000000</td>\n",
       "      <td id=\"T_59c04_row2_col5\" class=\"data row2 col5\" >1.000000</td>\n",
       "      <td id=\"T_59c04_row2_col6\" class=\"data row2 col6\" >1.000000</td>\n",
       "      <td id=\"T_59c04_row2_col7\" class=\"data row2 col7\" >0.100614</td>\n",
       "      <td id=\"T_59c04_row2_col8\" class=\"data row2 col8\" >1,662</td>\n",
       "    </tr>\n",
       "  </tbody>\n",
       "</table>\n"
      ],
      "text/plain": [
       "<pandas.io.formats.style.Styler at 0x7f23645e2be0>"
      ]
     },
     "execution_count": 42,
     "metadata": {},
     "output_type": "execute_result"
    }
   ],
   "source": [
    "split_stat(pol_clm_db, trn_db, tst_db)"
   ]
  },
  {
   "cell_type": "markdown",
   "id": "4b89ec47-e257-41a3-831d-019aa9a94f22",
   "metadata": {},
   "source": [
    "#### Comment\n",
    "to compare the distributions I also used the kolmogorov smirnoff test.\n",
    "distributions for all variables are likely not different\n"
   ]
  },
  {
   "cell_type": "code",
   "execution_count": 44,
   "id": "55f1d780-d237-4a31-a924-693bd378d5c4",
   "metadata": {},
   "outputs": [
    {
     "name": "stdout",
     "output_type": "stream",
     "text": [
      "3.563442627754654e-03 0.41958074466949646\n"
     ]
    }
   ],
   "source": [
    "from scipy import stats\n",
    "c1 = trn_db['Exposure']\n",
    "c2 = tst_db['Exposure']\n",
    "\n",
    "stat_v,p_v = stats.ks_2samp(c1,c2)\n",
    "print(stat_v, p_v)"
   ]
  },
  {
   "cell_type": "code",
   "execution_count": 45,
   "id": "ae0385e5-c8ae-4c29-bee4-6b4bfc2f5b0b",
   "metadata": {},
   "outputs": [
    {
     "name": "stdout",
     "output_type": "stream",
     "text": [
      "1.11493339369928e-03 0.9999991508581351\n"
     ]
    }
   ],
   "source": [
    "from scipy import stats\n",
    "c1 = trn_db['ClaimNb']\n",
    "c2 = tst_db['ClaimNb']\n",
    "\n",
    "stat_v,p_v = stats.ks_2samp(c1,c2)\n",
    "print(stat_v, p_v)"
   ]
  },
  {
   "cell_type": "code",
   "execution_count": 46,
   "id": "995741fd-afe3-490f-aa44-931d29732c09",
   "metadata": {},
   "outputs": [
    {
     "name": "stdout",
     "output_type": "stream",
     "text": [
      "1.7834938362291108e-03 0.9899430714992813\n"
     ]
    }
   ],
   "source": [
    "from scipy import stats\n",
    "c1 = trn_db['Frequency']\n",
    "c2 = tst_db['Frequency']\n",
    "\n",
    "stat_v,p_v = stats.ks_2samp(c1,c2)\n",
    "print(stat_v, p_v)"
   ]
  },
  {
   "cell_type": "code",
   "execution_count": 47,
   "id": "fd07dfa1-56eb-4066-b822-aa4e97e55bc5",
   "metadata": {},
   "outputs": [
    {
     "name": "stdout",
     "output_type": "stream",
     "text": [
      "1.7374986027122175e-03 0.9926480960709435\n"
     ]
    }
   ],
   "source": [
    "from scipy import stats\n",
    "c1 = trn_db['Severity']\n",
    "c2 = tst_db['Severity']\n",
    "\n",
    "stat_v,p_v = stats.ks_2samp(c1,c2)\n",
    "print(stat_v, p_v)"
   ]
  },
  {
   "cell_type": "code",
   "execution_count": 48,
   "id": "a430521e-1f82-4649-8a1a-8967cbfcd4ef",
   "metadata": {},
   "outputs": [
    {
     "name": "stdout",
     "output_type": "stream",
     "text": [
      "1.7260273300570006e-03 0.9932287868740719\n"
     ]
    }
   ],
   "source": [
    "from scipy import stats\n",
    "c1 = trn_db['ClaimAmount']\n",
    "c2 = tst_db['ClaimAmount']\n",
    "\n",
    "stat_v,p_v = stats.ks_2samp(c1,c2)\n",
    "print(stat_v, p_v)"
   ]
  },
  {
   "cell_type": "markdown",
   "id": "bcb51223-cff7-4d6c-996a-652f604ff097",
   "metadata": {
    "tags": []
   },
   "source": [
    "## 4 Modeling (Frequency)"
   ]
  },
  {
   "cell_type": "markdown",
   "id": "a6f2d81e-b171-4ec5-9dbb-437c9ac9973b",
   "metadata": {},
   "source": [
    "**[Add Context for Task 4]**\n",
    "\n",
    "From previous task, we observe a slight bias in terms of frequency and severity between two data sets, which could be further analyzed w.r.t. the available features (i.e. whether we also have a feature shift), and one could also consider a stratified choice of learning and test data sets. Here, we refrain from doing so.\n",
    "\n",
    "With the prepared dataset ready, we can safely kick off the modeling part. In the following, we will fit various claim frequency models based on Poisson assumption:\n",
    "\n",
    "All insurance policies i = 1, 2, ... can be described by independent claim counts $N_i$ having distribution \n",
    "\n",
    "$$ N_i \\sim Poi (\\lambda(x_i) \\nu_i) $$\n",
    "\n",
    "that is, claim counts can be modeled by independent Poisson distributions, and the aim is to estimate (infer) the regression function $\\lambda()$, describing the expected frequency w.r.t. exposure $\\nu_i$ > 0, from the available data."
   ]
  },
  {
   "cell_type": "markdown",
   "id": "cf25228e-cd5d-467a-aeaf-f8abb5719c45",
   "metadata": {},
   "source": [
    "**[Instructions]**\n",
    "\n",
    "Define a function for calculating average poisson deviance (see definition below).\n",
    "\n",
    "The (scaled) Poisson deviance loss for expected frequency $\\lambda > 0 $ is defined by \n",
    "\n",
    "$$\n",
    "\\begin{aligned}\n",
    "D^{*}(\\boldsymbol{N}, \\lambda) &=\\sum_{i=1}^{n} 2 N_{i}\\left[\\frac{\\lambda v_{i}}{N_{i}}-1-\\log \\left(\\frac{\\lambda v_{i}}{N_{i}}\\right)\\right] \\geq 0\n",
    "\\end{aligned}\n",
    "$$\n",
    "\n",
    "where $N_i$ is the number of claims, $ v_i$ is the exposure, and the $i^{th}$ term is set equal to $2\\lambda v_i$ for $N_i = 0$\n",
    "\n",
    "For fair comparison of results, we define average deviance loss as (scaled) Poisson deviance divided by the number of policy (n), i.e.\n",
    "\n",
    "$$\\frac{D^{*}(\\boldsymbol{N}, \\lambda)}{n} $$\n",
    "\n"
   ]
  },
  {
   "cell_type": "markdown",
   "id": "51d1a297-ce6c-4eb4-97d1-6463e720912b",
   "metadata": {
    "tags": []
   },
   "source": [
    "#### Comment\n",
    "Mean and variance of ClaimNb are close (likely not overdispersion)"
   ]
  },
  {
   "cell_type": "code",
   "execution_count": 53,
   "id": "092eb935-96e8-4a59-9338-f613aa04c76c",
   "metadata": {},
   "outputs": [
    {
     "data": {
      "text/plain": [
       "0.056622106116"
      ]
     },
     "execution_count": 53,
     "metadata": {},
     "output_type": "execute_result"
    }
   ],
   "source": [
    "0.237954**2"
   ]
  },
  {
   "cell_type": "code",
   "execution_count": 54,
   "id": "60574248-8576-499a-ac80-d5b53c1c6834",
   "metadata": {},
   "outputs": [
    {
     "data": {
      "text/plain": [
       "count    678013.000000\n",
       "mean          0.053179\n",
       "std           0.237954\n",
       "min           0.000000\n",
       "25%           0.000000\n",
       "50%           0.000000\n",
       "75%           0.000000\n",
       "max           4.000000\n",
       "Name: ClaimNb, dtype: float64"
      ]
     },
     "execution_count": 54,
     "metadata": {},
     "output_type": "execute_result"
    }
   ],
   "source": [
    "pol_clm_db['ClaimNb'].describe()"
   ]
  },
  {
   "cell_type": "markdown",
   "id": "7493eba0-7784-4164-8bf7-e1fba77f0b90",
   "metadata": {},
   "source": [
    "### Sample Code"
   ]
  },
  {
   "cell_type": "code",
   "execution_count": 56,
   "id": "e9961dc0-a013-4dd9-9291-38fd73cb9e98",
   "metadata": {},
   "outputs": [],
   "source": [
    "# As we are going to compare various models, we create a table which stores the metrics we are going to use for the comparison and the selection of the best model.\n",
    "\n",
    "mod_res = pd.DataFrame(\n",
    "    {'model'             : pd.Series(dtype='str'),\n",
    "     'in_sample_loss'    : pd.Series(dtype='float'),\n",
    "     'out_sample_loss'   : pd.Series(dtype='float'),\n",
    "     'aic'               : pd.Series(dtype='float'),\n",
    "     'in_sample_gini'    : pd.Series(dtype='float'),\n",
    "     'out_sample_gini'   : pd.Series(dtype='float'),\n",
    "     'number_of_param'   : pd.Series(dtype='int')\n",
    "     })\n",
    "     \n",
    "# av_poisson_deviance: average possion deviance, which is defined as scaled possion deviance divided by the number of observations\n",
    "def av_poisson_deviance(y_freq, p_freq, exposure):\n",
    "\n",
    "    y_freq, p_freq = np.asarray(y_freq), np.asarray(p_freq)\n",
    "    exposure = np.asarray(exposure)\n",
    "    \n",
    "    y = y_freq * exposure\n",
    "    p = p_freq * exposure\n",
    "    \n",
    "    # d = 2 * np.where(y == 0, -(y - p), (y * np.log(y / p)) - (y - p)) \n",
    "    # or\n",
    "    d = 2 * (p - y + \n",
    "             np.log(np.power(y/p, y))\n",
    "             ) \n",
    "    \n",
    "    av_deviance = d.sum()/len(d)\n",
    "\n",
    "    return(av_deviance)\n",
    "\n",
    "y_freq_trn   = trn_db['Frequency']\n",
    "y_trn        = trn_db['ClaimNb']\n",
    "expo_trn     = trn_db['Exposure']\n",
    "\n",
    "y_freq_tst   = tst_db['Frequency']\n",
    "y_tst        = tst_db['ClaimNb']\n",
    "expo_tst     = tst_db['Exposure']"
   ]
  },
  {
   "cell_type": "code",
   "execution_count": 57,
   "id": "2dd6c71d-d680-4e9c-9fd1-1e883678386b",
   "metadata": {},
   "outputs": [
    {
     "data": {
      "text/html": [
       "<div>\n",
       "<style scoped>\n",
       "    .dataframe tbody tr th:only-of-type {\n",
       "        vertical-align: middle;\n",
       "    }\n",
       "\n",
       "    .dataframe tbody tr th {\n",
       "        vertical-align: top;\n",
       "    }\n",
       "\n",
       "    .dataframe thead th {\n",
       "        text-align: right;\n",
       "    }\n",
       "</style>\n",
       "<table border=\"1\" class=\"dataframe\">\n",
       "  <thead>\n",
       "    <tr style=\"text-align: right;\">\n",
       "      <th></th>\n",
       "      <th>model</th>\n",
       "      <th>in_sample_loss</th>\n",
       "      <th>out_sample_loss</th>\n",
       "      <th>aic</th>\n",
       "      <th>in_sample_gini</th>\n",
       "      <th>out_sample_gini</th>\n",
       "      <th>number_of_param</th>\n",
       "    </tr>\n",
       "  </thead>\n",
       "  <tbody>\n",
       "  </tbody>\n",
       "</table>\n",
       "</div>"
      ],
      "text/plain": [
       "Empty DataFrame\n",
       "Columns: [model, in_sample_loss, out_sample_loss, aic, in_sample_gini, out_sample_gini, number_of_param]\n",
       "Index: []"
      ]
     },
     "execution_count": 57,
     "metadata": {},
     "output_type": "execute_result"
    }
   ],
   "source": [
    "mod_res"
   ]
  },
  {
   "cell_type": "markdown",
   "id": "8010e087-6936-4bac-96c0-a42188b44b23",
   "metadata": {},
   "source": [
    "y_freq_trn"
   ]
  },
  {
   "cell_type": "markdown",
   "id": "cab0433d-6433-43af-a2af-d3deec0d4339",
   "metadata": {
    "tags": []
   },
   "source": [
    "## 5 GLM0: Homogeneous model "
   ]
  },
  {
   "cell_type": "markdown",
   "id": "dfdef3ae-f413-4b2c-87ba-9167f9d45398",
   "metadata": {},
   "source": [
    "**[Add Context for Task 5]**\n",
    "\n",
    "Build first naive GLM model."
   ]
  },
  {
   "cell_type": "markdown",
   "id": "4f89d7c7-6825-4c84-996c-618097d551c8",
   "metadata": {},
   "source": [
    "**[Instructions]**\n",
    "\n",
    "Build Homogeneous model, the trivial model where we estimate the global mean and no features are included."
   ]
  },
  {
   "cell_type": "markdown",
   "id": "c4be3bac-16a0-4c33-b69e-6dde59c365cd",
   "metadata": {
    "tags": []
   },
   "source": [
    "### Sample Code"
   ]
  },
  {
   "cell_type": "markdown",
   "id": "d033e437-d36a-456d-8d73-421552db5a1a",
   "metadata": {},
   "source": [
    "#### Comment\n",
    "The general mean with the Poisson Homogeneous model should be close to the overall Frequency given below.  "
   ]
  },
  {
   "cell_type": "code",
   "execution_count": 64,
   "id": "95cbc115-4671-4ed9-9451-522e2d2d755b",
   "metadata": {},
   "outputs": [
    {
     "name": "stdout",
     "output_type": "stream",
     "text": [
      "0.1006138782\n"
     ]
    }
   ],
   "source": [
    "printd(pol_clm_db['ClaimNb'].sum() / pol_clm_db['Exposure'].sum())"
   ]
  },
  {
   "cell_type": "markdown",
   "id": "f863d81b-8a4b-49c1-b561-a5c5703c8b81",
   "metadata": {},
   "source": [
    "After running the model, the log B0 is indeed as I expected"
   ]
  },
  {
   "cell_type": "code",
   "execution_count": 66,
   "id": "5d8c969e-484d-4bdc-b18d-185050a7a708",
   "metadata": {},
   "outputs": [
    {
     "name": "stdout",
     "output_type": "stream",
     "text": [
      "0.1008823795\n"
     ]
    }
   ],
   "source": [
    "printd(np.exp(-2.2938))"
   ]
  },
  {
   "cell_type": "markdown",
   "id": "601d4a75-cbea-425d-b01e-d21fea4d0803",
   "metadata": {},
   "source": [
    "#### Comment\n",
    "The formula way of defining model (smf.glm) was very helpful, for it's designed to resemble the R way"
   ]
  },
  {
   "cell_type": "code",
   "execution_count": 105,
   "id": "1d0dd092-e157-442b-b490-01e2ad9ba821",
   "metadata": {},
   "outputs": [
    {
     "name": "stdout",
     "output_type": "stream",
     "text": [
      "                 Generalized Linear Model Regression Results                  \n",
      "==============================================================================\n",
      "Dep. Variable:                ClaimNb   No. Observations:               610211\n",
      "Model:                            GLM   Df Residuals:                   610210\n",
      "Model Family:                 Poisson   Df Model:                            0\n",
      "Link Function:                    Log   Scale:                          1.0000\n",
      "Method:                          IRLS   Log-Likelihood:            -1.3213e+05\n",
      "Date:                Tue, 17 Oct 2023   Deviance:                   2.0173e+05\n",
      "Time:                        11:57:12   Pearson chi2:                 1.74e+06\n",
      "No. Iterations:                     7   Pseudo R-squ. (CS):          1.110e-16\n",
      "Covariance Type:            nonrobust                                         \n",
      "==============================================================================\n",
      "                 coef    std err          z      P>|z|      [0.025      0.975]\n",
      "------------------------------------------------------------------------------\n",
      "Intercept     -2.2938      0.006   -413.745      0.000      -2.305      -2.283\n",
      "==============================================================================\n",
      "           model  in_sample_loss  out_sample_loss       aic  in_sample_gini  \\\n",
      "0  GLM_freq_homo        0.176091         0.173146  264267.0       -0.001304   \n",
      "\n",
      "   out_sample_gini  number_of_param  \n",
      "0        -0.009443                1  \n"
     ]
    }
   ],
   "source": [
    "import statsmodels.formula.api as smf\n",
    "import statsmodels.api as sm\n",
    "import helper\n",
    "\n",
    "GLM_freq_homo = smf.glm(\n",
    "'ClaimNb ~ 1', data = trn_db  , family=sm.families.Poisson(), exposure = trn_db['Exposure']\n",
    ").fit()\n",
    "\n",
    "p_freq_trn = np.repeat(np.exp(GLM_freq_homo.params[0]), len(trn_db))\n",
    "p_freq_tst = np.repeat(np.exp(GLM_freq_homo.params[0]), len(tst_db))\n",
    "\n",
    "mod_res = helper.store_mod_res(mod_res, GLM_freq_homo, \"GLM_freq_homo\", y_freq_trn, p_freq_trn, expo_trn, y_freq_tst, p_freq_tst, expo_tst)\n",
    "print(GLM_freq_homo.summary())\n",
    "print(mod_res)\n"
   ]
  },
  {
   "cell_type": "markdown",
   "id": "d7b1c36e-2d69-4967-899a-8e113cc0db12",
   "metadata": {
    "tags": []
   },
   "source": [
    "## 6 GLM1: all feature components considered"
   ]
  },
  {
   "cell_type": "markdown",
   "id": "ec218532-4a48-4a3f-862e-a64c3ba7c5b0",
   "metadata": {},
   "source": [
    "**[Add Context for Task 6]**\n",
    "\n",
    "Build GLM for all features."
   ]
  },
  {
   "cell_type": "markdown",
   "id": "94f5fe42-e7bb-4ab5-954b-4ad27f8f5497",
   "metadata": {
    "tags": []
   },
   "source": [
    "**[Instructions]**\n",
    "\n",
    "Build GLM model for all features included."
   ]
  },
  {
   "cell_type": "markdown",
   "id": "f721a329-b009-47b5-9621-eba37d611588",
   "metadata": {},
   "source": [
    "### Sample Code"
   ]
  },
  {
   "cell_type": "code",
   "execution_count": 1,
   "id": "e2f3dba6-806b-408d-966b-3f84c61ecddc",
   "metadata": {},
   "outputs": [
    {
     "ename": "NameError",
     "evalue": "name 'smf' is not defined",
     "output_type": "error",
     "traceback": [
      "\u001b[0;31m---------------------------------------------------------------------------\u001b[0m",
      "\u001b[0;31mNameError\u001b[0m                                 Traceback (most recent call last)",
      "Input \u001b[0;32mIn [1]\u001b[0m, in \u001b[0;36m<cell line: 2>\u001b[0;34m()\u001b[0m\n\u001b[1;32m      1\u001b[0m features \u001b[38;5;241m=\u001b[39m [\u001b[38;5;124m'\u001b[39m\u001b[38;5;124mAreaGLM\u001b[39m\u001b[38;5;124m'\u001b[39m, \u001b[38;5;124m'\u001b[39m\u001b[38;5;124mVehPowerGLM\u001b[39m\u001b[38;5;124m'\u001b[39m, \u001b[38;5;124m'\u001b[39m\u001b[38;5;124mVehAgeGLM\u001b[39m\u001b[38;5;124m'\u001b[39m, \u001b[38;5;124m'\u001b[39m\u001b[38;5;124mDrivAgeGLM\u001b[39m\u001b[38;5;124m'\u001b[39m, \u001b[38;5;124m'\u001b[39m\u001b[38;5;124mBonusMalusGLM\u001b[39m\u001b[38;5;124m'\u001b[39m, \u001b[38;5;124m'\u001b[39m\u001b[38;5;124mVehBrandGLM\u001b[39m\u001b[38;5;124m'\u001b[39m, \u001b[38;5;124m'\u001b[39m\u001b[38;5;124mVehGasGLM\u001b[39m\u001b[38;5;124m'\u001b[39m, \u001b[38;5;124m'\u001b[39m\u001b[38;5;124mLogDensityGLM\u001b[39m\u001b[38;5;124m'\u001b[39m, \u001b[38;5;124m'\u001b[39m\u001b[38;5;124mRegionGLM\u001b[39m\u001b[38;5;124m'\u001b[39m]\n\u001b[0;32m----> 2\u001b[0m GLM_freq_all \u001b[38;5;241m=\u001b[39m \u001b[43msmf\u001b[49m\u001b[38;5;241m.\u001b[39mglm(\u001b[38;5;124m'\u001b[39m\u001b[38;5;124mClaimNb ~ AreaGLM + VehPowerGLM + VehAgeGLM + DrivAgeGLM + BonusMalusGLM + VehBrandGLM + VehGasGLM + LogDensityGLM + RegionGLM\u001b[39m\u001b[38;5;124m'\u001b[39m, data \u001b[38;5;241m=\u001b[39m trn_db ,  family\u001b[38;5;241m=\u001b[39msm\u001b[38;5;241m.\u001b[39mfamilies\u001b[38;5;241m.\u001b[39mPoisson(), exposure \u001b[38;5;241m=\u001b[39m trn_db[\u001b[38;5;124m'\u001b[39m\u001b[38;5;124mExposure\u001b[39m\u001b[38;5;124m'\u001b[39m])\u001b[38;5;241m.\u001b[39mfit()\n\u001b[1;32m      4\u001b[0m p_freq_trn \u001b[38;5;241m=\u001b[39m GLM_freq_all\u001b[38;5;241m.\u001b[39mpredict(trn_db)\n\u001b[1;32m      5\u001b[0m p_freq_tst \u001b[38;5;241m=\u001b[39m GLM_freq_all\u001b[38;5;241m.\u001b[39mpredict(tst_db)\n",
      "\u001b[0;31mNameError\u001b[0m: name 'smf' is not defined"
     ]
    }
   ],
   "source": [
    "features = ['AreaGLM', 'VehPowerGLM', 'VehAgeGLM', 'DrivAgeGLM', 'BonusMalusGLM', 'VehBrandGLM', 'VehGasGLM', 'LogDensityGLM', 'RegionGLM']\n",
    "GLM_freq_all = smf.glm('ClaimNb ~ AreaGLM + VehPowerGLM + VehAgeGLM + DrivAgeGLM + BonusMalusGLM + VehBrandGLM + VehGasGLM + LogDensityGLM + RegionGLM', data = trn_db ,  family=sm.families.Poisson(), exposure = trn_db['Exposure']).fit()\n",
    "\n",
    "p_freq_trn = GLM_freq_all.predict(trn_db)\n",
    "p_freq_tst = GLM_freq_all.predict(tst_db)\n",
    "\n",
    "mod_res = helper.store_mod_res(mod_res, GLM_freq_all, \"GLM_freq_all\", y_freq_trn, p_freq_trn, expo_trn, y_freq_tst, p_freq_tst, expo_tst)\n",
    "\n",
    "print(GLM_freq_all.summary())\n",
    "mod_res"
   ]
  },
  {
   "cell_type": "markdown",
   "id": "caf4a0ed-3557-436c-80c3-a47e064eb140",
   "metadata": {
    "tags": []
   },
   "source": [
    "## 7 GLM2: drop feature components Area"
   ]
  },
  {
   "cell_type": "markdown",
   "id": "f451bd84-09c2-4626-bbf4-b35f733ddb6e",
   "metadata": {},
   "source": [
    "#### Comment\n",
    "Taking out the Area from the model results in no increase in the Akaike Criterion. This more parsimonuious model performs as well as the full model, thus preferable"
   ]
  },
  {
   "cell_type": "markdown",
   "id": "90ff319d-3bc5-41ae-8733-1a2882ee8033",
   "metadata": {},
   "source": [
    "**[Add Context for Task 7]**\n",
    "\n",
    "A detailed analysis of the output provides that all considered features are significant, except the area code AreaGLM. This can be seen from the p-value, which is above 1%."
   ]
  },
  {
   "cell_type": "markdown",
   "id": "aabf5913-c802-417f-bf65-97d35d545242",
   "metadata": {},
   "source": [
    "**[Instructions]**\n",
    "\n",
    "Drop the feature 'AreaGLM' and inspect the model result. "
   ]
  },
  {
   "cell_type": "markdown",
   "id": "15142dfd-447a-49b6-be85-c87ee7df323a",
   "metadata": {},
   "source": [
    "### Sample Code"
   ]
  },
  {
   "cell_type": "code",
   "execution_count": null,
   "id": "3d57bf74-d665-4f8d-a1cd-4894b12bc692",
   "metadata": {
    "tags": []
   },
   "outputs": [],
   "source": [
    "feat_exc_area = ['VehPowerGLM', 'VehAgeGLM', 'DrivAgeGLM', 'BonusMalusGLM', 'VehBrandGLM', 'VehGasGLM', 'LogDensityGLM', 'RegionGLM']\n",
    "GLM_freq_exc_area = smf.glm('ClaimNb ~  VehPowerGLM + VehAgeGLM + DrivAgeGLM + BonusMalusGLM + VehBrandGLM + VehGasGLM + LogDensityGLM + RegionGLM', data = trn_db ,  family=sm.families.Poisson(), exposure = trn_db['Exposure']).fit()\n",
    "\n",
    "p_freq_trn = GLM_freq_exc_area.predict(trn_db)\n",
    "p_freq_tst = GLM_freq_exc_area.predict(tst_db)\n",
    "\n",
    "mod_res = helper.store_mod_res(mod_res, GLM_freq_exc_area, \"GLM_freq_exc_area\", y_freq_trn, p_freq_trn, expo_trn, y_freq_tst, p_freq_tst, expo_tst)\n",
    "\n",
    "print(GLM_freq_exc_area.summary())\n",
    "mod_res"
   ]
  },
  {
   "cell_type": "markdown",
   "id": "6389a01e-e42e-4384-a77e-5c184f72b423",
   "metadata": {
    "tags": []
   },
   "source": [
    "## 8 SBS (standardized binary splits) Regression trees"
   ]
  },
  {
   "cell_type": "markdown",
   "id": "62de32b9-978e-4e86-8bd0-c2ddf0619a19",
   "metadata": {},
   "source": [
    "**[Add Context for Task 8]**\n",
    "\n",
    "Regression tree models are based on partitioning the feature space in an optimal way to receive (more) homogeneity on the resulting subsets. The optimal partition of the feature space is determined recursively by searching for the stage-wise optimal split among all standardized binary splits (SBS).\n",
    "\n",
    "Pre-processing for the regression trees in our case, please note that \n",
    "\n",
    "1. if there is a natural order in a categorical feature component, then this feature should be replaced by an increasing sequence of real numbers\n",
    "\n",
    "2. It can be computationally very expensive if we have many (unordered) categorical feature components with many possible values and/or many leaves of the current tree.\n",
    "\n",
    "3. the pre processing per se won't bring any advantage/disadvantage to the performance of regression trees compared with GLM. It's the other way to rephrase the format of data (no feature engineering involved)\n"
   ]
  },
  {
   "cell_type": "markdown",
   "id": "004fcbcb-a164-4aab-a3cc-dde213aee873",
   "metadata": {},
   "source": [
    "**[Instructions]**\n",
    "\n",
    "(1) Use `DecisionTreeRegressor` to build a regression tree for claim frequency. Keep in mind that:\n",
    "\n",
    "- set `ccp_alpha` to be 0.00005. The parameter controls minimal cost-complexity pruning is an algorithm used to prune a tree to avoid over-fitting. A smaller value gives a bigger tree.\n",
    "\n",
    "- set `min_samples_leaf` to be 10,000. The parameter set minimum number of samples required to be at a leaf node. Is this value too restrictive? \n",
    "\n",
    "\n",
    "(2) In the model `fit()` method, few options are provided, which one would fit our aim (building frequency model). More specifically, how to specify our target variable in Decision Tree Regression when exposure exists.\n",
    "\n",
    "`fit(X, y, sample_weight=None, check_input=True, X_idx_sorted='deprecated')`\n",
    "\n",
    "`sample_weight`: array-like of shape (n_samples,), default=None\n",
    "If None, then samples are equally weighted. Splits that would create child nodes with net zero or negative weight are ignored while searching for a split in each node.\n",
    "\n",
    "\n",
    "a) DecisionTree.fit(X_trn, ClaimNb, sample_weight=None) \n",
    "\n",
    "b) DecisionTree.fit(X_trn, ClaimNb, sample_weight=Exposure) \n",
    "\n",
    "c) DecisionTree.fit(X_trn, Frequency, sample_weight=None) \n",
    "\n",
    "d) DecisionTree.fit(X_trn, Frequency, sample_weight=Exposure) \n"
   ]
  },
  {
   "cell_type": "markdown",
   "id": "fe26b193-107e-41ea-a746-640929c72aed",
   "metadata": {},
   "source": [
    "#### Comment\n",
    "a) does not consider exposure, the risk is not accurately modeled.\n",
    "d) Exposure is \"twice\" considered.\n",
    "b) and c) should be close.\n",
    "\n",
    "- RT0: Frequency, sample_weight=None)  OK\n",
    "- RT1: Frequency, sample_weight=Exposure) X\n",
    "- RT2: ClaimNb, sample_weight=None)  X\n",
    "- RT3: ClaimNb, sample_weight=Exposure) OK\n",
    "\n"
   ]
  },
  {
   "cell_type": "markdown",
   "id": "c94b3e72-24b4-4f52-8573-ed426d173cd7",
   "metadata": {},
   "source": [
    "### Sample Code"
   ]
  },
  {
   "cell_type": "code",
   "execution_count": null,
   "id": "0a0676bb-fd49-4622-966c-39c80406bdb3",
   "metadata": {
    "tags": []
   },
   "outputs": [],
   "source": [
    "# from sklearn.tree import DecisionTreeRegressor\n",
    "# # one hot encoding for variable VehBrandGLM VehGasGLM RegionGLM as DecisionTreeRegressor can only deal with numerical values\n",
    "# feat_cnt = ['AreaGLM', 'BonusMalusGLM', 'LogDensityGLM'] # continuous features\n",
    "# feat_cat  = ['VehPowerGLM', 'VehAgeGLM', 'DrivAgeGLM', 'VehBrandGLM', 'VehGasGLM', 'RegionGLM']\n",
    "\n",
    "# onehot_coded_trn_db = pd.get_dummies(trn_db[feat_cat])\n",
    "# onehot_coded_tst_db = pd.get_dummies(tst_db[feat_cat])\n",
    "\n",
    "# X_trn = pd.concat([trn_db[feat_cnt], onehot_coded_trn_db], axis=1)\n",
    "# X_tst = pd.concat([tst_db[feat_cnt], onehot_coded_tst_db], axis=1)\n",
    "\n",
    "# y_trn = trn_db['Frequency']\n",
    "# y_tst = tst_db['Frequency']\n",
    "\n",
    "# # criterion = poisson in DecisionTree seems not work very well. So in this case, we use default loss function to split the tree. \n",
    "# #The result can be regarded as a good approximation to the optimal split as long as data size is large enough.\n",
    "# RT0_freq = DecisionTreeRegressor(_______________) \n",
    "\n",
    "# RT0_freq.fit(_____________) \n",
    "\n",
    "# p_freq_trn = _______________\n",
    "# p_freq_tst = _______________\n",
    "\n",
    "# mod_res = helper.store_mod_res(mod_res, RT0_freq, \"RT0_freq\", y_freq_trn, p_freq_trn, expo_trn, y_freq_tst, p_freq_tst, expo_tst, isGLM=False)\n",
    "# mod_res\n"
   ]
  },
  {
   "cell_type": "code",
   "execution_count": null,
   "id": "cf302860-ce85-4d5f-a351-734267c14e61",
   "metadata": {},
   "outputs": [],
   "source": [
    "from sklearn.tree import DecisionTreeRegressor\n",
    "# one hot encoding for variable VehBrandGLM VehGasGLM RegionGLM as DecisionTreeRegressor can only deal with numerical values\n",
    "feat_cnt = ['AreaGLM', 'BonusMalusGLM', 'LogDensityGLM'] # continuous features\n",
    "feat_cat  = ['VehPowerGLM', 'VehAgeGLM', 'DrivAgeGLM', 'VehBrandGLM', 'VehGasGLM', 'RegionGLM']\n",
    "\n",
    "onehot_coded_trn_db = pd.get_dummies(trn_db[feat_cat])\n",
    "onehot_coded_tst_db = pd.get_dummies(tst_db[feat_cat])\n",
    "\n",
    "X_trn = pd.concat([trn_db[feat_cnt], onehot_coded_trn_db], axis=1)\n",
    "X_tst = pd.concat([tst_db[feat_cnt], onehot_coded_tst_db], axis=1)\n",
    "\n",
    "y_trn = trn_db['Frequency']\n",
    "y_tst = tst_db['Frequency']\n"
   ]
  },
  {
   "cell_type": "code",
   "execution_count": null,
   "id": "f0733b2d-c900-4560-8407-a6ee228fccd5",
   "metadata": {},
   "outputs": [],
   "source": [
    "y_trn_clnb = trn_db['ClaimNb']\n",
    "y_tst_clnb = tst_db['ClaimNb']"
   ]
  },
  {
   "cell_type": "code",
   "execution_count": null,
   "id": "21e9de8d-512c-4221-b31d-4ec18dec6402",
   "metadata": {},
   "outputs": [],
   "source": [
    "\n",
    "# # criterion = poisson in DecisionTree seems not work very well. So in this case, we use default loss function to split the tree. \n",
    "# #The result can be regarded as a good approximation to the optimal split as long as data size is large enough.\n",
    "# RT0_freq = DecisionTreeRegressor(ccp_alpha= 0.00005, min_samples_leaf=10000) \n",
    "# RT0_freq.fit(X_trn, y_trn, sample_weight = None) \n",
    "\n",
    "# RT1_freq = DecisionTreeRegressor(ccp_alpha= 0.00005, min_samples_leaf=10000) \n",
    "# RT1_freq.fit(X_trn, y_trn, sample_weight = trn_db['Exposure']) \n",
    "\n",
    "# RT2_freq = DecisionTreeRegressor(ccp_alpha= 0.00005, min_samples_leaf=10000) \n",
    "# RT2_freq.fit(X_trn, y_trn_clnb, sample_weight = None) \n",
    "\n",
    "# RT3_freq = DecisionTreeRegressor(ccp_alpha= 0.00005, min_samples_leaf=10000) \n",
    "# RT3_freq.fit(X_trn, y_trn_clnb, sample_weight = trn_db['Exposure']) \n",
    "\n",
    "\n",
    "### >>>> DecisionTreeRegressor(ccp_alpha=5e-05, min_samples_leaf=10000)"
   ]
  },
  {
   "cell_type": "code",
   "execution_count": null,
   "id": "f5a83961-8681-40ad-bcf9-f1a407a0c4db",
   "metadata": {},
   "outputs": [],
   "source": [
    "p_freq_trn = RT0_freq.predict(X_trn)\n",
    "p_freq_tst = RT0_freq.predict(X_tst)\n",
    "\n",
    "mod_res = helper.store_mod_res(mod_res, RT0_freq, \"RT0_freq\", y_freq_trn, p_freq_trn, expo_trn, y_freq_tst, p_freq_tst, expo_tst, isGLM=False)\n",
    "mod_res"
   ]
  },
  {
   "cell_type": "code",
   "execution_count": null,
   "id": "c1a9926d-5be5-43d7-9233-25e5a61dfabb",
   "metadata": {},
   "outputs": [],
   "source": [
    "p_freq_trn = RT1_freq.predict(X_trn)\n",
    "p_freq_tst = RT1_freq.predict(X_tst)\n",
    "mod_res = helper.store_mod_res(mod_res, RT1_freq, \"RT1_freq\", y_freq_trn, p_freq_trn, expo_trn, y_freq_tst, p_freq_tst, expo_tst, isGLM=False)\n",
    "\n",
    "p_freq_trn = RT2_freq.predict(X_trn)\n",
    "p_freq_tst = RT2_freq.predict(X_tst)\n",
    "mod_res = helper.store_mod_res(mod_res, RT2_freq, \"RT2_freq\", y_freq_trn, p_freq_trn, expo_trn, y_freq_tst, p_freq_tst, expo_tst, isGLM=False)\n",
    "\n",
    "p_freq_trn = RT3_freq.predict(X_trn)\n",
    "p_freq_tst = RT3_freq.predict(X_tst)\n",
    "mod_res = helper.store_mod_res(mod_res, RT3_freq, \"RT3_freq\", y_freq_trn, p_freq_trn, expo_trn, y_freq_tst, p_freq_tst, expo_tst, isGLM=False)\n",
    "\n",
    "mod_res"
   ]
  },
  {
   "cell_type": "markdown",
   "id": "b76c1d0a-bdac-4f7b-b2f2-184a4f53eb49",
   "metadata": {
    "tags": []
   },
   "source": [
    "## 9 Plot SBS result (No answer required for this question; just read the code and continue the next question)"
   ]
  },
  {
   "cell_type": "markdown",
   "id": "3f8f2adc-720d-45a8-abfe-1f1111c1088e",
   "metadata": {},
   "source": [
    "**[Add Context for Task 9]**\n",
    "\n",
    "we don't dive too much deep in hyperparameter tunings.\n",
    "\n",
    "min_samples_leaf: 100000 implies that we only consider SBS such that each leaf receives at least 100000 policies. This choice can be rather restrictive, for instance, the number of policies in training with a bonus-malus level bigger than 100 is 7,029. Requiring at least 10,000 policies in each leaf, the SBS is not able to distinguish different malus levels.\n"
   ]
  },
  {
   "cell_type": "markdown",
   "id": "1365f1ba-e0f3-418b-b850-f1ef089471b9",
   "metadata": {
    "tags": []
   },
   "source": [
    "**[Instructions]**\n",
    "\n",
    "plot the SBS result using function plot_tree"
   ]
  },
  {
   "cell_type": "markdown",
   "id": "94c8ee22-0fe8-416a-9157-3d738389549b",
   "metadata": {
    "tags": []
   },
   "source": [
    "### Sample Code"
   ]
  },
  {
   "cell_type": "code",
   "execution_count": null,
   "id": "60567f41-93bc-4103-a675-087d1451894c",
   "metadata": {
    "tags": []
   },
   "outputs": [],
   "source": [
    "import matplotlib.pyplot as plt\n",
    "from sklearn.tree import plot_tree\n",
    "plt.figure(figsize=(10,8), dpi=150)\n",
    "#plot_tree(RT0_freq, feature_names=X_trn.columns, proportion=True)\n",
    "\n",
    "from sklearn.tree import export_text\n",
    "r = export_text(RT0_freq, feature_names=X_trn.columns.tolist())\n",
    "print(r)"
   ]
  },
  {
   "cell_type": "code",
   "execution_count": null,
   "id": "054dfb53-fbc1-40fb-90c3-214f61d77e51",
   "metadata": {},
   "outputs": [],
   "source": [
    "plt.figure(figsize=(20,10))\n",
    "plot_tree(RT0_freq, filled=True, feature_names=X_trn.columns, rounded=True)\n",
    "plt.show()"
   ]
  },
  {
   "cell_type": "markdown",
   "id": "8011f1ef-557b-4a87-aa5f-800a84317246",
   "metadata": {},
   "source": [
    "#### Comment\n",
    "The visualization of the tree with 10000 min_leaves did not return a visual.   Adjusting to min 100 gives a clearer view.\n",
    "We see that Bonus Malus and Vehicle Brand are the most important factors to split the tree."
   ]
  },
  {
   "cell_type": "code",
   "execution_count": null,
   "id": "08cdf94d-be37-496e-bd7e-f9a6289c66f8",
   "metadata": {},
   "outputs": [],
   "source": [
    "RT4_freq = DecisionTreeRegressor(ccp_alpha= 0.00005, min_samples_leaf=100) \n",
    "RT4_freq.fit(X_trn, y_trn_clnb, sample_weight = trn_db['Exposure']) \n",
    "plt.figure(figsize=(20,10))\n",
    "plot_tree(RT4_freq, filled=True, feature_names=X_trn.columns, rounded=True)\n",
    "plt.show()\n",
    "\n",
    "r = export_text(RT4_freq, feature_names=X_trn.columns.tolist())\n",
    "print(r)"
   ]
  },
  {
   "cell_type": "code",
   "execution_count": null,
   "id": "7cd5dbdc-5aca-4181-9f0c-dc5b3a4620c2",
   "metadata": {},
   "outputs": [],
   "source": [
    "mod_res = helper.store_mod_res(mod_res, RT4_freq, \"RT4_freq\", y_freq_trn, p_freq_trn, expo_trn, y_freq_tst, p_freq_tst, expo_tst, isGLM=False)\n",
    "\n",
    "mod_res"
   ]
  },
  {
   "cell_type": "code",
   "execution_count": null,
   "id": "e9f262df-7f50-47f9-8065-9c71e133bb77",
   "metadata": {},
   "outputs": [],
   "source": [
    "### Extra: grid search cross validationb"
   ]
  },
  {
   "cell_type": "code",
   "execution_count": null,
   "id": "597adb13-fdaa-45c9-833c-78f4c44a2a9f",
   "metadata": {},
   "outputs": [],
   "source": [
    "#   st_params)\n",
    "#{'ccp_alpha': 5e-05, 'min_samples_leaf': 100}"
   ]
  },
  {
   "cell_type": "code",
   "execution_count": null,
   "id": "c0d9135b-a976-44cd-ac01-c50ebad2f2ef",
   "metadata": {},
   "outputs": [],
   "source": [
    "from sklearn.tree import DecisionTreeRegressor\n",
    "from sklearn.model_selection import GridSearchCV\n",
    "\n",
    "param_grid = {\n",
    "    'min_samples_leaf':[10,50,100,1000,5000,10000],  \n",
    "    'ccp_alpha': [0.00005, 0.0001, 0.01, ] \n",
    "\n",
    "grid_search = GridSearchCV(DecisionTreeRegressor(), param_grid, cv=5, scoring='neg_mean_squared_error')\n",
    "grid_search.fit(X_trn, y_trn_clnb, sample_weight = trn_db['Exposure'])\n",
    "\n",
    "best_params = grid_search.best_params_\n",
    "print(best_params)"
   ]
  },
  {
   "cell_type": "markdown",
   "id": "f5648363-7f09-4a54-bc6b-fec5379b6161",
   "metadata": {
    "tags": []
   },
   "source": [
    "## 10 Evaluation of the calibration of prediction"
   ]
  },
  {
   "cell_type": "markdown",
   "id": "91ec7108-ccbd-475c-bc55-ad472b50542b",
   "metadata": {},
   "source": [
    "**[Add Context for Task 10]**\n",
    "\n",
    "(1) VehAge = 0, VehBrand = B12, VehGas = regular gas fuel (not diesel)\n",
    "\n",
    "|--- VehAgeGLM_[-inf, 1.0) >  0.50\n",
    "|   |--- VehBrandGLM_B12 >  0.50\n",
    "|   |   |--- VehGasGLM_Diesel <= 0.50\n",
    "|   |   |   |--- value: [0.67]\n",
    "\n",
    "\n",
    "(2) The feature selection and pre-processing has not been done properly for the GLM, in particular, we have not been studying interactions in feature components in GLM. For example, such interactions exist between `VehAge`, `VehBrand` and `VehGas`.\n",
    "\n",
    "__Business insights__\n",
    "\n",
    "Thus, there seems to be an issue with new regular fuel cars of brand B12. By a detailed investigation, we find that:\n",
    "\n",
    "(1) Brand B12 has by far the newest cars (VehAge = 0).\n",
    "(2) B12 has more than 45,000 cars with an exposure of less than 50 days. This is a sign that many of these car belong to\n",
    "a car fleet, possibly a car rental company. \n"
   ]
  },
  {
   "cell_type": "markdown",
   "id": "410fa954-606d-45bd-b2b2-69fb23ada275",
   "metadata": {},
   "source": [
    "**[Instructions]**\n",
    "\n",
    "To ensure that estimators yield reasonable predictions for different policyholder types, use function `helper.plot_obs_pred()` to plot observation v.s. model predicted value for variables you have interest in.  \n",
    "\n"
   ]
  },
  {
   "cell_type": "markdown",
   "id": "ce244309-3842-4c29-ae5c-b836ccb0a8b1",
   "metadata": {},
   "source": [
    "### Sample Code"
   ]
  },
  {
   "cell_type": "markdown",
   "id": "950b3977-21c5-48c3-b317-17b5c451e5fd",
   "metadata": {},
   "source": [
    "#### Comment\n",
    "The model with the variables and data is systematically over estimating the frequency over all risk groups"
   ]
  },
  {
   "cell_type": "code",
   "execution_count": null,
   "id": "f3250aa2-05c6-4482-955d-aa1e3b1171c9",
   "metadata": {
    "tags": []
   },
   "outputs": [],
   "source": [
    "helper.plot_obs_pred(\n",
    "    df=trn_db,\n",
    "    feature= 'DrivAge',\n",
    "    weight=\"Exposure\",\n",
    "    observed=\"Frequency\",\n",
    "    predicted=GLM_freq_exc_area.predict(trn_db[feat_exc_area]),\n",
    "    y_label=\"Claim Frequency\",\n",
    "    title=\"train data (GLM)\"\n",
    ")\n",
    "\n",
    "helper.plot_obs_pred(\n",
    "    df=tst_db,\n",
    "    feature='DrivAge',\n",
    "    weight=\"Exposure\",\n",
    "    observed=\"Frequency\",\n",
    "    predicted=GLM_freq_exc_area.predict(tst_db[feat_exc_area]),\n",
    "    y_label=\"Claim Frequency\",\n",
    "    title=\"test data (GLM)\"\n",
    ")\n"
   ]
  },
  {
   "cell_type": "markdown",
   "id": "6e6e0bb3-a2ac-4b57-a0ab-51dc238c3f86",
   "metadata": {
    "tags": []
   },
   "source": [
    "## 11 Severity modeling -- Attritional part"
   ]
  },
  {
   "cell_type": "markdown",
   "id": "4796848d-03dd-4a55-b7e7-d3be3df55b46",
   "metadata": {
    "tags": []
   },
   "source": [
    "**[Add Context for Task 11]**\n",
    "\n",
    "As the procedure in this section has not big difference from previous one. We won't repeat the work in this part. The mean claim amount or severity can be empirically shown to follow approximately a Gamma distribution."
   ]
  },
  {
   "cell_type": "markdown",
   "id": "0935beec-f41b-4579-b131-d321b25d3475",
   "metadata": {},
   "source": [
    "**[Instructions]**\n",
    "\n",
    "Build GLM for the attritional severity model:\n",
    "\n",
    "We fit a GLM model for the severity with the same features (Variable ``AreaGLM`` excluded) as we did in `GLM_exc_area`).\n",
    "\n"
   ]
  },
  {
   "cell_type": "markdown",
   "id": "e8a85fb7-6675-4623-8aec-8c1a01eedd2e",
   "metadata": {},
   "source": [
    "#### Comment\n",
    "\n",
    "The inverse link which is the default for the Gamma family resulted in negative predictions.  This was fixed by changing the link function to log, since the inverse of log is exp, which is always positive.\n",
    "\n",
    "The severity attrition model seems appropriate. Every variable is relevant and the predictions are reasonably close to the observed values."
   ]
  },
  {
   "cell_type": "markdown",
   "id": "14b3f235-2e75-4e11-93e8-816e68084d01",
   "metadata": {},
   "source": [
    "### Sample Code"
   ]
  },
  {
   "cell_type": "code",
   "execution_count": null,
   "id": "5adca158-8c38-4ec3-9be2-59b3ca09f4c2",
   "metadata": {
    "tags": []
   },
   "outputs": [],
   "source": [
    "threshold = 190_000\n",
    "\n",
    "mask_trn = (trn_db[\"ClaimAmount\"] > 0) & (trn_db[\"ClaimAmount\"] < threshold)\n",
    "mask_tst = (tst_db[\"ClaimAmount\"] > 0) & (tst_db[\"ClaimAmount\"] < threshold)\n",
    "mask_trn_ll = (trn_db[\"ClaimAmount\"] > 0) & (trn_db[\"ClaimAmount\"] >= threshold)\n",
    "mask_tst_ll = (tst_db[\"ClaimAmount\"] > 0) & (tst_db[\"ClaimAmount\"] >= threshold)\n",
    "\n",
    "trn_sev_attr_db    = trn_db[mask_trn]\n",
    "tst_sev_attr_db    = tst_db[mask_tst]\n",
    "trn_sev_ll_db      = trn_db[mask_trn_ll]\n",
    "tst_sev_ll_db      = tst_db[mask_tst_ll]\n",
    "\n",
    "feat_exc_area = ['VehPowerGLM', 'VehAgeGLM', 'DrivAgeGLM', 'BonusMalusGLM', 'VehBrandGLM', 'VehGasGLM', 'LogDensityGLM', 'RegionGLM']"
   ]
  },
  {
   "cell_type": "code",
   "execution_count": null,
   "id": "4fff0011-8638-43e3-b9f6-f7da23b2a511",
   "metadata": {
    "tags": []
   },
   "outputs": [],
   "source": [
    "GLM_sev_exc_area = smf.glm(\n",
    "  'Severity ~  VehPowerGLM + VehAgeGLM + DrivAgeGLM + BonusMalusGLM + VehBrandGLM + VehGasGLM + LogDensityGLM + RegionGLM', data = trn_sev_attr_db,  family=sm.families.Gamma(link=sm.families.links.log())\n",
    " ).fit()"
   ]
  },
  {
   "cell_type": "code",
   "execution_count": null,
   "id": "7712b2df-0780-4871-b55e-3bf00e11cc82",
   "metadata": {},
   "outputs": [],
   "source": [
    "trn_sev_attr_db['Severity'].describe()"
   ]
  },
  {
   "cell_type": "code",
   "execution_count": null,
   "id": "61a7dc34-a863-4da6-94fc-ae7cc7542ad3",
   "metadata": {},
   "outputs": [],
   "source": [
    "print(GLM_sev_exc_area.summary())"
   ]
  },
  {
   "cell_type": "code",
   "execution_count": null,
   "id": "814bcf67-b323-4c62-957f-53c79fe3a6d8",
   "metadata": {},
   "outputs": [],
   "source": [
    "p_sev_attr_trn = GLM_sev_exc_area.predict(trn_sev_attr_db )\n",
    "p_sev_attr_tst = GLM_sev_exc_area.predict(tst_sev_attr_db )"
   ]
  },
  {
   "cell_type": "code",
   "execution_count": null,
   "id": "93a512c8-c344-4c91-9cf5-c921ada8c585",
   "metadata": {},
   "outputs": [],
   "source": [
    "p_sev_attr_trn.describe()"
   ]
  },
  {
   "cell_type": "code",
   "execution_count": null,
   "id": "52b2c898-7368-4df3-9dd9-c9538bc09813",
   "metadata": {},
   "outputs": [],
   "source": [
    "helper.plot_obs_pred(\n",
    "    df=trn_sev_attr_db,\n",
    "    feature= 'BonusMalusGLM',\n",
    "    weight=\"one\",\n",
    "    observed=\"Severity\",\n",
    "    predicted=GLM_sev_exc_area.predict(trn_sev_attr_db[feat_exc_area]),\n",
    "    y_label=\"Claim Severity\",\n",
    "    title=\"train data (GLM)\"\n",
    ")\n",
    "\n",
    "helper.plot_obs_pred(\n",
    "    df=tst_sev_attr_db,\n",
    "    feature='BonusMalusGLM',\n",
    "    weight=\"one\",\n",
    "    observed=\"Severity\",\n",
    "    predicted=GLM_sev_exc_area.predict(tst_sev_attr_db[feat_exc_area]),\n",
    "    y_label=\"Claim Severity\",\n",
    "    title=\"test data (GLM)\"\n",
    ")\n"
   ]
  },
  {
   "cell_type": "markdown",
   "id": "d0b6acf2-6a3d-445e-8edd-c4aa22568b61",
   "metadata": {
    "tags": []
   },
   "source": [
    "## 12 Large loss part"
   ]
  },
  {
   "cell_type": "markdown",
   "id": "2502638e-e176-4351-8c4f-af6a1b8f1024",
   "metadata": {
    "tags": []
   },
   "source": [
    "**[Add Context for Task 12]**\n",
    "\n",
    "Build GLM for the large loss model."
   ]
  },
  {
   "cell_type": "markdown",
   "id": "157bc0e8-d0c5-461e-ae3c-6f9e1d34f904",
   "metadata": {},
   "source": [
    "**[Instructions]**\n",
    "\n",
    "Build GLM for the large loss model:\n",
    "\n",
    "- Since we only have 20 large loss claims, it's very difficult to build a reasonable large loss model based on this tiny data set. Therefore, people in this project are recommended to build a flat loading model."
   ]
  },
  {
   "cell_type": "markdown",
   "id": "4850e673-b022-4494-8305-14731611aca0",
   "metadata": {},
   "source": [
    "### Sample Code"
   ]
  },
  {
   "cell_type": "code",
   "execution_count": null,
   "id": "15d38367-566f-4591-a6e0-5c7357a214f3",
   "metadata": {
    "tags": []
   },
   "outputs": [],
   "source": [
    "# average large loss in train sample\n",
    "av_excess_ll = np.average(trn_sev_ll_db['ClaimAmount'] - threshold)\n",
    "prob_ll      = len(trn_sev_ll_db)/(len(trn_sev_ll_db) + len(trn_sev_attr_db))\n",
    "flat_loading = av_excess_ll * prob_ll"
   ]
  },
  {
   "cell_type": "code",
   "execution_count": null,
   "id": "6475f6c0-3bf5-4cb1-ae22-c7bcef965ef5",
   "metadata": {},
   "outputs": [],
   "source": [
    "printd(flat_loading)"
   ]
  },
  {
   "cell_type": "code",
   "execution_count": null,
   "id": "b8c162be-4512-4baa-a78d-be39baed0852",
   "metadata": {},
   "outputs": [],
   "source": [
    "trn_sev_ll_db['ClaimExcess'] = trn_sev_ll_db['ClaimAmount'] - threshold"
   ]
  },
  {
   "cell_type": "code",
   "execution_count": null,
   "id": "9815f6fe-d755-46ec-81ac-8c5035a5ea4e",
   "metadata": {},
   "outputs": [],
   "source": [
    "GLM_sev_homo = smf.glm(\n",
    "  'ClaimExcess ~  1', data = trn_sev_ll_db,  family=sm.families.Gamma(link=sm.families.links.log())\n",
    " ).fit()"
   ]
  },
  {
   "cell_type": "code",
   "execution_count": null,
   "id": "6fcc4910-c746-42bc-b4e0-0c4e4065f982",
   "metadata": {},
   "outputs": [],
   "source": [
    "GLM_sev_homo.summary()"
   ]
  },
  {
   "cell_type": "code",
   "execution_count": null,
   "id": "1c814abd-5b50-4e29-b028-91e0ed93d314",
   "metadata": {},
   "outputs": [],
   "source": [
    "trn_sev_ll_db"
   ]
  },
  {
   "cell_type": "markdown",
   "id": "5b70a5f1-5910-4941-8db0-2678eb2513b0",
   "metadata": {
    "tags": []
   },
   "source": [
    "## 13 Model combiner"
   ]
  },
  {
   "cell_type": "markdown",
   "id": "47784102-cb4b-457b-9c48-a0d96f46cbe9",
   "metadata": {},
   "source": [
    "#### Comment\n",
    "\n",
    "The average premium for the portfolio is 548 Euro. with a minimum of 362 euro.\n",
    "Some insureds have an extremely large premium of more than 2500 euros. Most of them are new cars from brand B12, precisely that corresponding to the fleet or car rental. These has to be looked into, to make sure that the high claim frequency of this group doesn't make us the company less competitive in the market for this segment.\n",
    "\n",
    "This premium can be compared to the market and to the company targets to make any commercial adjustments.\n",
    "\n",
    "Question, why does the frequency affect the flat loading?"
   ]
  },
  {
   "cell_type": "markdown",
   "id": "5fbfd47f-3c5a-4c86-a15a-e5f580cda8b7",
   "metadata": {
    "tags": []
   },
   "source": [
    "**[Add Context for Task 13]**\n",
    "\n",
    "Combine frequency and severity model together and caculate predictive pure premium."
   ]
  },
  {
   "cell_type": "markdown",
   "id": "55199b47-7d2e-458b-a96a-ca11f55cdfce",
   "metadata": {},
   "source": [
    "**[Instructions]**\n",
    "\n",
    "Combine 3 models built in previous section together, i.e.\n",
    "\n",
    "1. `GLM_exc_area`\n",
    "2. `GLM_sev_exc_area`\n",
    "3. `flat_loading` for large loss\n",
    "\n",
    "$$ pure \\ premium = freq * (attritional \\ cost + flat \\ loading) $$\n"
   ]
  },
  {
   "cell_type": "markdown",
   "id": "d8b16d53-84ac-482e-93b3-b4bd6873f2c5",
   "metadata": {
    "tags": []
   },
   "source": [
    "### Sample Code"
   ]
  },
  {
   "cell_type": "code",
   "execution_count": null,
   "id": "dfbbeed2-dcb1-482f-8c09-e0be823b9f90",
   "metadata": {},
   "outputs": [],
   "source": [
    "p_freq_trn = GLM_freq_exc_area.predict(trn_db)\n",
    "p_sev_trn = GLM_sev_exc_area.predict(trn_db)\n",
    "\n"
   ]
  },
  {
   "cell_type": "code",
   "execution_count": null,
   "id": "98acd67f-5a49-4995-8772-5c8f3461c0b3",
   "metadata": {},
   "outputs": [],
   "source": [
    "p_freq_trn.describe()"
   ]
  },
  {
   "cell_type": "code",
   "execution_count": null,
   "id": "b19a5326-0a51-45ed-81c3-8536f413caf7",
   "metadata": {},
   "outputs": [],
   "source": [
    "p_sev_trn.describe()"
   ]
  },
  {
   "cell_type": "code",
   "execution_count": null,
   "id": "c321eeb2-9c82-425a-9dff-574061cc57d7",
   "metadata": {
    "tags": []
   },
   "outputs": [],
   "source": [
    "trn_db['PredictiveFrequency']   = p_freq_trn\n",
    "trn_db['PredictiveSeverity']    = p_sev_trn\n",
    "\n",
    "trn_db['PredictivePurePremium'] = (trn_db['PredictiveFrequency']  *  trn_db['PredictiveSeverity']) + flat_loading"
   ]
  },
  {
   "cell_type": "code",
   "execution_count": null,
   "id": "75852f2a-fec8-4204-8f17-c8df32f1c61b",
   "metadata": {},
   "outputs": [],
   "source": [
    "trn_db[trn_db['PredictivePurePremium']<1000]['PredictivePurePremium'].hist(bins = 30)"
   ]
  },
  {
   "cell_type": "code",
   "execution_count": null,
   "id": "138f9130-3476-47dc-8574-b38e4bc282a2",
   "metadata": {},
   "outputs": [],
   "source": [
    "trn_db['PredictivePurePremium'].describe()"
   ]
  },
  {
   "cell_type": "code",
   "execution_count": null,
   "id": "661bc45a-9b20-47ee-a4d8-ba95504c576b",
   "metadata": {},
   "outputs": [],
   "source": [
    "trn_db[trn_db['PredictivePurePremium']>2500]['VehBrand'].value_counts()\n"
   ]
  },
  {
   "cell_type": "markdown",
   "id": "24049ad0-44d6-422b-aeb0-d87d4b74247b",
   "metadata": {},
   "source": [
    "#### COMMENT\n",
    "GINI: Higher gini indicates better discriminative ability of the model.  If differnce too large betwen train test there is likely overfitting\n",
    "\n"
   ]
  }
 ],
 "metadata": {
  "kernelspec": {
   "display_name": "anaconda-2022.05-py39",
   "language": "python",
   "name": "conda-env-anaconda-2022.05-py39-py"
  },
  "language_info": {
   "codemirror_mode": {
    "name": "ipython",
    "version": 3
   },
   "file_extension": ".py",
   "mimetype": "text/x-python",
   "name": "python",
   "nbconvert_exporter": "python",
   "pygments_lexer": "ipython3",
   "version": "3.9.12"
  },
  "toc-autonumbering": false,
  "toc-showtags": false,
  "vscode": {
   "interpreter": {
    "hash": "3a679abd630bd194c89f24a2b60a8328b20741a78fa58123a88fd9895fa9693f"
   }
  }
 },
 "nbformat": 4,
 "nbformat_minor": 5
}

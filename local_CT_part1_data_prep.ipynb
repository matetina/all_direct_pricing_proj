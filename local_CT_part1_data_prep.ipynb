{
 "cells": [
  {
   "cell_type": "markdown",
   "id": "83e94db0-60b8-46a6-ab84-af564a0aa1c6",
   "metadata": {},
   "source": [
    "# Allianz Pricing: From Data Preparation to Risk Modeling (Data Preparation Part)"
   ]
  },
  {
   "cell_type": "markdown",
   "id": "159a94b1-0a0a-466d-84b7-7d854340fb39",
   "metadata": {
    "tags": [
     "type:NotebookTask"
    ]
   },
   "source": [
    "## 1. Data preparation"
   ]
  },
  {
   "cell_type": "markdown",
   "id": "bc02ad57-faca-462a-bf25-a8d4bc0a795c",
   "metadata": {
    "tags": [
     "@context"
    ]
   },
   "source": [
    "**[Insert Context for Task 1]**\n",
    "\n",
    "In this task, we will discuss the need of data in the insurance context and how to practically prepare it for statistical analysis. Also, we will do some basic but practical common checks on claims and policy data."
   ]
  },
  {
   "cell_type": "markdown",
   "id": "8efdb6df-8591-45e7-b3fe-227d11980e83",
   "metadata": {
    "tags": [
     "@instructions"
    ]
   },
   "source": [
    "## Good to know\n",
    "\n",
    "This project assumes you have a solid foundation in Python, statistics, and machine learning. Before attempting this project, it is recommended that you complete the prerequisite courses.\n",
    "\n",
    "**[Insert Instructions Below]**\n",
    "- Before merging the policy data and claim data, check if the `IDpol` duplicates in both data sets. If yes, aggregate separate policies whose `IDpol` are same into one single policy.\n",
    "- Re-define the columns `IDpol` and `ClaimNb` as `int`. \n",
    "- Merge the policy and claim data (merging key: `IDpol`). For policies that don't have `ClaimAmount`, fill them with 0."
   ]
  },
  {
   "cell_type": "markdown",
   "id": "fb9b7895-ed05-4cba-9cd0-bf749c7f00e2",
   "metadata": {
    "jp-MarkdownHeadingCollapsed": true,
    "tags": []
   },
   "source": [
    "### Comment: \n",
    "- No duplicated ID on policy or Claim.\n",
    "- I decided not to work with indices\n",
    "- A few claims were not merged. \n",
    "- I noticed that the number of claims in the Policy data doesn't match the number of rows in Claims.  At this point I can't point out what the culprit is.\n",
    "- The total Claim Amount is the same before (Claims) an after aggregating (Pol_claim)\n",
    "- Some policies have claims but amount 0.  Are these claims without coverage or duplicates?"
   ]
  },
  {
   "cell_type": "markdown",
   "id": "cb96ae1e-796d-4864-b9c8-1c8441d23917",
   "metadata": {},
   "source": [
    "### Sample Code"
   ]
  },
  {
   "cell_type": "code",
   "execution_count": 7,
   "id": "553b4793-bea5-48be-aebf-e87174699fd1",
   "metadata": {
    "tags": [
     "@sample_code"
    ]
   },
   "outputs": [],
   "source": [
    "import pandas as pd\n",
    "# create data dictionary \n",
    "data_dic = pd.DataFrame.from_dict({\n",
    "    'IDpol': 'policy number (unique identifier)',\n",
    "    'ClaimNb': 'number of claims on the given policy',\n",
    "    'Exposure': 'total exposure in yearly units',\n",
    "    'Area': 'area code (categorical, ordinal)',\n",
    "    'VehPower': 'power of the car (categorical, ordinal)',\n",
    "    'VehAge': 'age of the car in years',\n",
    "    'DrivAge': 'age of the (most common) driver in years',\n",
    "    'BonusMalus': 'bonus-malus level between 50 and 230 (with base level 100)',\n",
    "    'VehBrand': 'car brand (categorical, nominal)',\n",
    "    'VehGas': 'diesel or regular fuel car (binary)',\n",
    "    'Density': 'density of inhabitants per km square in the city of the living place of the driver',\n",
    "    'Region': 'regions',\n",
    "    'ClaimAmount': 'claim amount on the given policy'}, \n",
    "    orient='index', columns=['definition'])\n",
    "\n",
    "# load both claim and policy data\n",
    "pol_db = pd.read_csv(\"datasets/policy_db.csv\")\n",
    "clm_db = pd.read_csv(\"datasets/claim_db.csv\")"
   ]
  },
  {
   "cell_type": "markdown",
   "id": "bbd1a65f-0a1b-4555-98ca-ee512c15402e",
   "metadata": {},
   "source": [
    "#### Check duplicates"
   ]
  },
  {
   "cell_type": "code",
   "execution_count": 9,
   "id": "d17ff939-ca48-4c7c-8e04-01f3449ab851",
   "metadata": {},
   "outputs": [
    {
     "data": {
      "text/plain": [
       "0"
      ]
     },
     "execution_count": 9,
     "metadata": {},
     "output_type": "execute_result"
    }
   ],
   "source": [
    "sum(pol_db['IDpol'].duplicated()) "
   ]
  },
  {
   "cell_type": "code",
   "execution_count": 10,
   "id": "27888157-58a3-4530-9d47-c4f7958e71b6",
   "metadata": {
    "tags": [
     "@sample_code"
    ]
   },
   "outputs": [
    {
     "name": "stdout",
     "output_type": "stream",
     "text": [
      "No duplicated policy ID in policy data\n",
      "Policy ID duplicates in claims data\n"
     ]
    }
   ],
   "source": [
    "print(\"No duplicated policy ID in policy data\") if (sum(pol_db['IDpol'].duplicated()) == 0) else print(\"Policy ID duplicates in policy data\")\n",
    "print(\"No duplicated policy ID in claim data\") if (sum(clm_db['IDpol'].duplicated()) == 0) else print(\"Policy ID duplicates in claims data\")"
   ]
  },
  {
   "cell_type": "markdown",
   "id": "2a96b12b-99fa-4908-ad56-ac9747ed560e",
   "metadata": {},
   "source": [
    "#### Check the total sum before aggregating"
   ]
  },
  {
   "cell_type": "code",
   "execution_count": 12,
   "id": "36b5fa67-d118-475f-8fbf-ee5dbbbb7e15",
   "metadata": {
    "tags": []
   },
   "outputs": [
    {
     "data": {
      "text/plain": [
       "60697930.679998256"
      ]
     },
     "execution_count": 12,
     "metadata": {},
     "output_type": "execute_result"
    }
   ],
   "source": [
    "total_before = sum(clm_db['ClaimAmount'])\n",
    "total_before"
   ]
  },
  {
   "cell_type": "code",
   "execution_count": 13,
   "id": "b0750009-849d-4b6f-b9c3-4096f5fe2537",
   "metadata": {
    "tags": []
   },
   "outputs": [
    {
     "data": {
      "text/plain": [
       "True"
      ]
     },
     "execution_count": 13,
     "metadata": {},
     "output_type": "execute_result"
    }
   ],
   "source": [
    "total_after = sum(clm_db.groupby(by='IDpol').sum()['ClaimAmount'])\n",
    "abs(total_before - total_after) < 1"
   ]
  },
  {
   "cell_type": "markdown",
   "id": "f09cb43e-d16e-4aa1-b897-9a6c596d1313",
   "metadata": {},
   "source": [
    "#### Claims: Aggregate by IDPol.  In Policy data ID is unique"
   ]
  },
  {
   "cell_type": "code",
   "execution_count": 15,
   "id": "b00b6d63-d8a4-4b8b-9b1d-e503bb240d2c",
   "metadata": {
    "tags": [
     "@sample_code"
    ]
   },
   "outputs": [],
   "source": [
    "# aggregate claim amount from same policy\n",
    "# aggregate separate policies whose `IDpol` are same into one single policy\n",
    "clm_db = clm_db.groupby(by='IDpol').sum()\n",
    "clm_db.reset_index(inplace=True)"
   ]
  },
  {
   "cell_type": "code",
   "execution_count": 16,
   "id": "3189ffa9-3426-4752-bf1d-541c09cdec51",
   "metadata": {
    "tags": []
   },
   "outputs": [
    {
     "data": {
      "text/html": [
       "<div>\n",
       "<style scoped>\n",
       "    .dataframe tbody tr th:only-of-type {\n",
       "        vertical-align: middle;\n",
       "    }\n",
       "\n",
       "    .dataframe tbody tr th {\n",
       "        vertical-align: top;\n",
       "    }\n",
       "\n",
       "    .dataframe thead th {\n",
       "        text-align: right;\n",
       "    }\n",
       "</style>\n",
       "<table border=\"1\" class=\"dataframe\">\n",
       "  <thead>\n",
       "    <tr style=\"text-align: right;\">\n",
       "      <th></th>\n",
       "      <th>IDpol</th>\n",
       "      <th>ClaimAmount</th>\n",
       "    </tr>\n",
       "  </thead>\n",
       "  <tbody>\n",
       "    <tr>\n",
       "      <th>0</th>\n",
       "      <td>139.0</td>\n",
       "      <td>303.00</td>\n",
       "    </tr>\n",
       "    <tr>\n",
       "      <th>1</th>\n",
       "      <td>190.0</td>\n",
       "      <td>1981.84</td>\n",
       "    </tr>\n",
       "    <tr>\n",
       "      <th>2</th>\n",
       "      <td>414.0</td>\n",
       "      <td>1456.55</td>\n",
       "    </tr>\n",
       "  </tbody>\n",
       "</table>\n",
       "</div>"
      ],
      "text/plain": [
       "   IDpol  ClaimAmount\n",
       "0  139.0       303.00\n",
       "1  190.0      1981.84\n",
       "2  414.0      1456.55"
      ]
     },
     "execution_count": 16,
     "metadata": {},
     "output_type": "execute_result"
    }
   ],
   "source": [
    "clm_db.head(3)"
   ]
  },
  {
   "cell_type": "code",
   "execution_count": 17,
   "id": "db8b1646-82b3-48b2-9fbd-081d11f1451b",
   "metadata": {},
   "outputs": [
    {
     "data": {
      "text/plain": [
       "0"
      ]
     },
     "execution_count": 17,
     "metadata": {},
     "output_type": "execute_result"
    }
   ],
   "source": [
    "sum(clm_db['IDpol'].duplicated()) "
   ]
  },
  {
   "cell_type": "code",
   "execution_count": 18,
   "id": "ef7df0e2-3769-47ae-8221-66bf44c8ccd9",
   "metadata": {},
   "outputs": [
    {
     "data": {
      "text/plain": [
       "IDpol         float64\n",
       "ClaimNb       float64\n",
       "Exposure      float64\n",
       "Area           object\n",
       "VehPower      float64\n",
       "VehAge        float64\n",
       "DrivAge       float64\n",
       "BonusMalus    float64\n",
       "VehBrand       object\n",
       "VehGas         object\n",
       "Density       float64\n",
       "Region         object\n",
       "dtype: object"
      ]
     },
     "execution_count": 18,
     "metadata": {},
     "output_type": "execute_result"
    }
   ],
   "source": [
    "pol_db.dtypes"
   ]
  },
  {
   "cell_type": "code",
   "execution_count": 19,
   "id": "475b80fb-bdfe-4ad5-937f-cbb70ed0aec9",
   "metadata": {
    "tags": [
     "@sample_code"
    ]
   },
   "outputs": [],
   "source": [
    "# Re-define the columns `IDpol` and `ClaimNb` as `int`.\n",
    "pol_db[\"IDpol\"]  = pol_db[\"IDpol\"].astype(int)\n",
    "pol_db[\"ClaimNb\"] = pol_db[\"ClaimNb\"].astype(int)\n"
   ]
  },
  {
   "cell_type": "code",
   "execution_count": 20,
   "id": "a8a44102-fd0f-41fe-88ea-44631d608d0a",
   "metadata": {},
   "outputs": [
    {
     "data": {
      "text/plain": [
       "IDpol           int64\n",
       "ClaimNb         int64\n",
       "Exposure      float64\n",
       "Area           object\n",
       "VehPower      float64\n",
       "VehAge        float64\n",
       "DrivAge       float64\n",
       "BonusMalus    float64\n",
       "VehBrand       object\n",
       "VehGas         object\n",
       "Density       float64\n",
       "Region         object\n",
       "dtype: object"
      ]
     },
     "execution_count": 20,
     "metadata": {},
     "output_type": "execute_result"
    }
   ],
   "source": [
    "pol_db.dtypes"
   ]
  },
  {
   "cell_type": "markdown",
   "id": "e6d6b8e7-fd0d-4bbe-b8c3-13075139c3a1",
   "metadata": {},
   "source": [
    "#### Merge\n",
    "I decide not to work with indexes"
   ]
  },
  {
   "cell_type": "code",
   "execution_count": 22,
   "id": "a66a7b48-28a3-468d-b9ed-c3516794803c",
   "metadata": {
    "tags": [
     "@sample_code"
    ]
   },
   "outputs": [
    {
     "data": {
      "text/html": [
       "<div>\n",
       "<style scoped>\n",
       "    .dataframe tbody tr th:only-of-type {\n",
       "        vertical-align: middle;\n",
       "    }\n",
       "\n",
       "    .dataframe tbody tr th {\n",
       "        vertical-align: top;\n",
       "    }\n",
       "\n",
       "    .dataframe thead th {\n",
       "        text-align: right;\n",
       "    }\n",
       "</style>\n",
       "<table border=\"1\" class=\"dataframe\">\n",
       "  <thead>\n",
       "    <tr style=\"text-align: right;\">\n",
       "      <th></th>\n",
       "      <th>IDpol</th>\n",
       "      <th>ClaimNb</th>\n",
       "      <th>Exposure</th>\n",
       "      <th>Area</th>\n",
       "      <th>VehPower</th>\n",
       "      <th>VehAge</th>\n",
       "      <th>DrivAge</th>\n",
       "      <th>BonusMalus</th>\n",
       "      <th>VehBrand</th>\n",
       "      <th>VehGas</th>\n",
       "      <th>Density</th>\n",
       "      <th>Region</th>\n",
       "      <th>ClaimAmount</th>\n",
       "    </tr>\n",
       "  </thead>\n",
       "  <tbody>\n",
       "    <tr>\n",
       "      <th>0</th>\n",
       "      <td>1</td>\n",
       "      <td>1</td>\n",
       "      <td>0.10</td>\n",
       "      <td>D</td>\n",
       "      <td>5.0</td>\n",
       "      <td>0.0</td>\n",
       "      <td>55.0</td>\n",
       "      <td>50.0</td>\n",
       "      <td>B12</td>\n",
       "      <td>Regular</td>\n",
       "      <td>1217.0</td>\n",
       "      <td>R82</td>\n",
       "      <td>NaN</td>\n",
       "    </tr>\n",
       "    <tr>\n",
       "      <th>1</th>\n",
       "      <td>3</td>\n",
       "      <td>1</td>\n",
       "      <td>0.77</td>\n",
       "      <td>D</td>\n",
       "      <td>5.0</td>\n",
       "      <td>0.0</td>\n",
       "      <td>55.0</td>\n",
       "      <td>50.0</td>\n",
       "      <td>B12</td>\n",
       "      <td>Regular</td>\n",
       "      <td>1217.0</td>\n",
       "      <td>R82</td>\n",
       "      <td>NaN</td>\n",
       "    </tr>\n",
       "    <tr>\n",
       "      <th>2</th>\n",
       "      <td>5</td>\n",
       "      <td>1</td>\n",
       "      <td>0.75</td>\n",
       "      <td>B</td>\n",
       "      <td>6.0</td>\n",
       "      <td>2.0</td>\n",
       "      <td>52.0</td>\n",
       "      <td>50.0</td>\n",
       "      <td>B12</td>\n",
       "      <td>Diesel</td>\n",
       "      <td>54.0</td>\n",
       "      <td>R22</td>\n",
       "      <td>NaN</td>\n",
       "    </tr>\n",
       "    <tr>\n",
       "      <th>3</th>\n",
       "      <td>10</td>\n",
       "      <td>1</td>\n",
       "      <td>0.09</td>\n",
       "      <td>B</td>\n",
       "      <td>7.0</td>\n",
       "      <td>0.0</td>\n",
       "      <td>46.0</td>\n",
       "      <td>50.0</td>\n",
       "      <td>B12</td>\n",
       "      <td>Diesel</td>\n",
       "      <td>76.0</td>\n",
       "      <td>R72</td>\n",
       "      <td>NaN</td>\n",
       "    </tr>\n",
       "    <tr>\n",
       "      <th>4</th>\n",
       "      <td>11</td>\n",
       "      <td>1</td>\n",
       "      <td>0.84</td>\n",
       "      <td>B</td>\n",
       "      <td>7.0</td>\n",
       "      <td>0.0</td>\n",
       "      <td>46.0</td>\n",
       "      <td>50.0</td>\n",
       "      <td>B12</td>\n",
       "      <td>Diesel</td>\n",
       "      <td>76.0</td>\n",
       "      <td>R72</td>\n",
       "      <td>NaN</td>\n",
       "    </tr>\n",
       "  </tbody>\n",
       "</table>\n",
       "</div>"
      ],
      "text/plain": [
       "   IDpol  ClaimNb  Exposure Area  VehPower  VehAge  DrivAge  BonusMalus  \\\n",
       "0      1        1      0.10    D       5.0     0.0     55.0        50.0   \n",
       "1      3        1      0.77    D       5.0     0.0     55.0        50.0   \n",
       "2      5        1      0.75    B       6.0     2.0     52.0        50.0   \n",
       "3     10        1      0.09    B       7.0     0.0     46.0        50.0   \n",
       "4     11        1      0.84    B       7.0     0.0     46.0        50.0   \n",
       "\n",
       "  VehBrand   VehGas  Density Region  ClaimAmount  \n",
       "0      B12  Regular   1217.0    R82          NaN  \n",
       "1      B12  Regular   1217.0    R82          NaN  \n",
       "2      B12   Diesel     54.0    R22          NaN  \n",
       "3      B12   Diesel     76.0    R72          NaN  \n",
       "4      B12   Diesel     76.0    R72          NaN  "
      ]
     },
     "execution_count": 22,
     "metadata": {},
     "output_type": "execute_result"
    }
   ],
   "source": [
    "# merge freq & sev datasets\n",
    "#pol_db.set_index(\"IDpol\", inplace=True)\n",
    "pol_clm_db = pol_db.merge(clm_db, how=\"left\", on = 'IDpol')\n",
    "pol_clm_db.head()"
   ]
  },
  {
   "cell_type": "code",
   "execution_count": 23,
   "id": "0593b6fb-22d3-4789-9fc5-4ef57219b1ec",
   "metadata": {},
   "outputs": [
    {
     "data": {
      "text/html": [
       "<div>\n",
       "<style scoped>\n",
       "    .dataframe tbody tr th:only-of-type {\n",
       "        vertical-align: middle;\n",
       "    }\n",
       "\n",
       "    .dataframe tbody tr th {\n",
       "        vertical-align: top;\n",
       "    }\n",
       "\n",
       "    .dataframe thead th {\n",
       "        text-align: right;\n",
       "    }\n",
       "</style>\n",
       "<table border=\"1\" class=\"dataframe\">\n",
       "  <thead>\n",
       "    <tr style=\"text-align: right;\">\n",
       "      <th></th>\n",
       "      <th>IDpol</th>\n",
       "      <th>ClaimNb</th>\n",
       "      <th>Exposure</th>\n",
       "      <th>Area</th>\n",
       "      <th>VehPower</th>\n",
       "      <th>VehAge</th>\n",
       "      <th>DrivAge</th>\n",
       "      <th>BonusMalus</th>\n",
       "      <th>VehBrand</th>\n",
       "      <th>VehGas</th>\n",
       "      <th>Density</th>\n",
       "      <th>Region</th>\n",
       "      <th>ClaimAmount</th>\n",
       "    </tr>\n",
       "  </thead>\n",
       "  <tbody>\n",
       "    <tr>\n",
       "      <th>66</th>\n",
       "      <td>139</td>\n",
       "      <td>1</td>\n",
       "      <td>0.75</td>\n",
       "      <td>F</td>\n",
       "      <td>7.0</td>\n",
       "      <td>1.0</td>\n",
       "      <td>61.0</td>\n",
       "      <td>50.0</td>\n",
       "      <td>B12</td>\n",
       "      <td>Regular</td>\n",
       "      <td>27000.0</td>\n",
       "      <td>R11</td>\n",
       "      <td>303.00</td>\n",
       "    </tr>\n",
       "    <tr>\n",
       "      <th>93</th>\n",
       "      <td>190</td>\n",
       "      <td>1</td>\n",
       "      <td>0.14</td>\n",
       "      <td>B</td>\n",
       "      <td>12.0</td>\n",
       "      <td>5.0</td>\n",
       "      <td>50.0</td>\n",
       "      <td>60.0</td>\n",
       "      <td>B12</td>\n",
       "      <td>Diesel</td>\n",
       "      <td>56.0</td>\n",
       "      <td>R25</td>\n",
       "      <td>1981.84</td>\n",
       "    </tr>\n",
       "    <tr>\n",
       "      <th>199</th>\n",
       "      <td>414</td>\n",
       "      <td>1</td>\n",
       "      <td>0.14</td>\n",
       "      <td>E</td>\n",
       "      <td>4.0</td>\n",
       "      <td>0.0</td>\n",
       "      <td>36.0</td>\n",
       "      <td>85.0</td>\n",
       "      <td>B12</td>\n",
       "      <td>Regular</td>\n",
       "      <td>4792.0</td>\n",
       "      <td>R11</td>\n",
       "      <td>1456.55</td>\n",
       "    </tr>\n",
       "    <tr>\n",
       "      <th>205</th>\n",
       "      <td>424</td>\n",
       "      <td>2</td>\n",
       "      <td>0.62</td>\n",
       "      <td>F</td>\n",
       "      <td>10.0</td>\n",
       "      <td>0.0</td>\n",
       "      <td>51.0</td>\n",
       "      <td>100.0</td>\n",
       "      <td>B12</td>\n",
       "      <td>Regular</td>\n",
       "      <td>27000.0</td>\n",
       "      <td>R11</td>\n",
       "      <td>10834.00</td>\n",
       "    </tr>\n",
       "    <tr>\n",
       "      <th>223</th>\n",
       "      <td>463</td>\n",
       "      <td>1</td>\n",
       "      <td>0.31</td>\n",
       "      <td>A</td>\n",
       "      <td>5.0</td>\n",
       "      <td>0.0</td>\n",
       "      <td>45.0</td>\n",
       "      <td>50.0</td>\n",
       "      <td>B12</td>\n",
       "      <td>Regular</td>\n",
       "      <td>12.0</td>\n",
       "      <td>R73</td>\n",
       "      <td>3986.67</td>\n",
       "    </tr>\n",
       "    <tr>\n",
       "      <th>...</th>\n",
       "      <td>...</td>\n",
       "      <td>...</td>\n",
       "      <td>...</td>\n",
       "      <td>...</td>\n",
       "      <td>...</td>\n",
       "      <td>...</td>\n",
       "      <td>...</td>\n",
       "      <td>...</td>\n",
       "      <td>...</td>\n",
       "      <td>...</td>\n",
       "      <td>...</td>\n",
       "      <td>...</td>\n",
       "      <td>...</td>\n",
       "    </tr>\n",
       "    <tr>\n",
       "      <th>677203</th>\n",
       "      <td>6113521</td>\n",
       "      <td>1</td>\n",
       "      <td>0.18</td>\n",
       "      <td>C</td>\n",
       "      <td>4.0</td>\n",
       "      <td>1.0</td>\n",
       "      <td>26.0</td>\n",
       "      <td>60.0</td>\n",
       "      <td>B12</td>\n",
       "      <td>Diesel</td>\n",
       "      <td>311.0</td>\n",
       "      <td>R82</td>\n",
       "      <td>1324.40</td>\n",
       "    </tr>\n",
       "    <tr>\n",
       "      <th>677475</th>\n",
       "      <td>6113793</td>\n",
       "      <td>1</td>\n",
       "      <td>0.14</td>\n",
       "      <td>C</td>\n",
       "      <td>7.0</td>\n",
       "      <td>2.0</td>\n",
       "      <td>51.0</td>\n",
       "      <td>50.0</td>\n",
       "      <td>B12</td>\n",
       "      <td>Diesel</td>\n",
       "      <td>178.0</td>\n",
       "      <td>R72</td>\n",
       "      <td>1769.88</td>\n",
       "    </tr>\n",
       "    <tr>\n",
       "      <th>677499</th>\n",
       "      <td>6113817</td>\n",
       "      <td>1</td>\n",
       "      <td>0.17</td>\n",
       "      <td>D</td>\n",
       "      <td>4.0</td>\n",
       "      <td>0.0</td>\n",
       "      <td>35.0</td>\n",
       "      <td>51.0</td>\n",
       "      <td>B12</td>\n",
       "      <td>Regular</td>\n",
       "      <td>1719.0</td>\n",
       "      <td>R82</td>\n",
       "      <td>1288.28</td>\n",
       "    </tr>\n",
       "    <tr>\n",
       "      <th>677516</th>\n",
       "      <td>6113834</td>\n",
       "      <td>2</td>\n",
       "      <td>0.17</td>\n",
       "      <td>C</td>\n",
       "      <td>15.0</td>\n",
       "      <td>3.0</td>\n",
       "      <td>36.0</td>\n",
       "      <td>50.0</td>\n",
       "      <td>B12</td>\n",
       "      <td>Regular</td>\n",
       "      <td>181.0</td>\n",
       "      <td>R54</td>\n",
       "      <td>12230.40</td>\n",
       "    </tr>\n",
       "    <tr>\n",
       "      <th>677653</th>\n",
       "      <td>6113971</td>\n",
       "      <td>1</td>\n",
       "      <td>0.13</td>\n",
       "      <td>D</td>\n",
       "      <td>7.0</td>\n",
       "      <td>10.0</td>\n",
       "      <td>39.0</td>\n",
       "      <td>50.0</td>\n",
       "      <td>B4</td>\n",
       "      <td>Regular</td>\n",
       "      <td>820.0</td>\n",
       "      <td>R41</td>\n",
       "      <td>1452.00</td>\n",
       "    </tr>\n",
       "  </tbody>\n",
       "</table>\n",
       "<p>24944 rows × 13 columns</p>\n",
       "</div>"
      ],
      "text/plain": [
       "          IDpol  ClaimNb  Exposure Area  VehPower  VehAge  DrivAge  \\\n",
       "66          139        1      0.75    F       7.0     1.0     61.0   \n",
       "93          190        1      0.14    B      12.0     5.0     50.0   \n",
       "199         414        1      0.14    E       4.0     0.0     36.0   \n",
       "205         424        2      0.62    F      10.0     0.0     51.0   \n",
       "223         463        1      0.31    A       5.0     0.0     45.0   \n",
       "...         ...      ...       ...  ...       ...     ...      ...   \n",
       "677203  6113521        1      0.18    C       4.0     1.0     26.0   \n",
       "677475  6113793        1      0.14    C       7.0     2.0     51.0   \n",
       "677499  6113817        1      0.17    D       4.0     0.0     35.0   \n",
       "677516  6113834        2      0.17    C      15.0     3.0     36.0   \n",
       "677653  6113971        1      0.13    D       7.0    10.0     39.0   \n",
       "\n",
       "        BonusMalus VehBrand   VehGas  Density Region  ClaimAmount  \n",
       "66            50.0      B12  Regular  27000.0    R11       303.00  \n",
       "93            60.0      B12   Diesel     56.0    R25      1981.84  \n",
       "199           85.0      B12  Regular   4792.0    R11      1456.55  \n",
       "205          100.0      B12  Regular  27000.0    R11     10834.00  \n",
       "223           50.0      B12  Regular     12.0    R73      3986.67  \n",
       "...            ...      ...      ...      ...    ...          ...  \n",
       "677203        60.0      B12   Diesel    311.0    R82      1324.40  \n",
       "677475        50.0      B12   Diesel    178.0    R72      1769.88  \n",
       "677499        51.0      B12  Regular   1719.0    R82      1288.28  \n",
       "677516        50.0      B12  Regular    181.0    R54     12230.40  \n",
       "677653        50.0       B4  Regular    820.0    R41      1452.00  \n",
       "\n",
       "[24944 rows x 13 columns]"
      ]
     },
     "execution_count": 23,
     "metadata": {},
     "output_type": "execute_result"
    }
   ],
   "source": [
    "pol_clm_db.dropna(subset=['ClaimAmount'])"
   ]
  },
  {
   "cell_type": "markdown",
   "id": "999cc568-ba07-44ee-800c-2b4e39834af2",
   "metadata": {},
   "source": [
    "#### Not Merged\n",
    "Some claims , six in total, were not merged"
   ]
  },
  {
   "cell_type": "code",
   "execution_count": 25,
   "id": "8fb34e71-66d0-48bb-9197-ef5f2b0fb592",
   "metadata": {
    "tags": []
   },
   "outputs": [
    {
     "data": {
      "text/plain": [
       "24950"
      ]
     },
     "execution_count": 25,
     "metadata": {},
     "output_type": "execute_result"
    }
   ],
   "source": [
    "len(clm_db) "
   ]
  },
  {
   "cell_type": "markdown",
   "id": "e10356b2-a041-4d6c-b44a-9a9e3a87f60c",
   "metadata": {},
   "source": [
    "#### Difference in ClaimNr and origina Claims n rows\n",
    "Q: and does 'ClaimNr' match the original n claims?\n",
    "- No, dive into this later"
   ]
  },
  {
   "cell_type": "code",
   "execution_count": 27,
   "id": "59b29e95-db69-4c58-ae7b-6c1721b1f1d4",
   "metadata": {},
   "outputs": [
    {
     "data": {
      "text/plain": [
       "36102"
      ]
     },
     "execution_count": 27,
     "metadata": {},
     "output_type": "execute_result"
    }
   ],
   "source": [
    "pol_db['ClaimNb'].sum()"
   ]
  },
  {
   "cell_type": "code",
   "execution_count": 28,
   "id": "019823ea-b558-42ca-960c-d1fb0ba9fe4a",
   "metadata": {},
   "outputs": [
    {
     "data": {
      "text/plain": [
       "11152"
      ]
     },
     "execution_count": 28,
     "metadata": {},
     "output_type": "execute_result"
    }
   ],
   "source": [
    "36102-24950"
   ]
  },
  {
   "cell_type": "code",
   "execution_count": 29,
   "id": "2dc28fef-7598-45e5-a07d-b4571204471b",
   "metadata": {},
   "outputs": [],
   "source": [
    "claims_original = pd.read_csv(\"datasets/claim_db.csv\")"
   ]
  },
  {
   "cell_type": "code",
   "execution_count": 30,
   "id": "1f0d27b0-bdb8-4e2c-b03e-b25102e2bebe",
   "metadata": {},
   "outputs": [
    {
     "data": {
      "text/plain": [
       "26639"
      ]
     },
     "execution_count": 30,
     "metadata": {},
     "output_type": "execute_result"
    }
   ],
   "source": [
    "len(claims_original)"
   ]
  },
  {
   "cell_type": "code",
   "execution_count": 31,
   "id": "cdf5d2ef-bb8a-4b0c-9ee5-b99c9862e09b",
   "metadata": {
    "tags": [
     "@sample_code"
    ]
   },
   "outputs": [
    {
     "data": {
      "text/html": [
       "<div>\n",
       "<style scoped>\n",
       "    .dataframe tbody tr th:only-of-type {\n",
       "        vertical-align: middle;\n",
       "    }\n",
       "\n",
       "    .dataframe tbody tr th {\n",
       "        vertical-align: top;\n",
       "    }\n",
       "\n",
       "    .dataframe thead th {\n",
       "        text-align: right;\n",
       "    }\n",
       "</style>\n",
       "<table border=\"1\" class=\"dataframe\">\n",
       "  <thead>\n",
       "    <tr style=\"text-align: right;\">\n",
       "      <th></th>\n",
       "      <th>index</th>\n",
       "      <th>IDpol</th>\n",
       "      <th>ClaimNb</th>\n",
       "      <th>Exposure</th>\n",
       "      <th>Area</th>\n",
       "      <th>VehPower</th>\n",
       "      <th>VehAge</th>\n",
       "      <th>DrivAge</th>\n",
       "      <th>BonusMalus</th>\n",
       "      <th>VehBrand</th>\n",
       "      <th>VehGas</th>\n",
       "      <th>Density</th>\n",
       "      <th>Region</th>\n",
       "      <th>ClaimAmount</th>\n",
       "    </tr>\n",
       "  </thead>\n",
       "  <tbody>\n",
       "    <tr>\n",
       "      <th>0</th>\n",
       "      <td>0</td>\n",
       "      <td>1</td>\n",
       "      <td>1</td>\n",
       "      <td>0.10</td>\n",
       "      <td>D</td>\n",
       "      <td>5.0</td>\n",
       "      <td>0.0</td>\n",
       "      <td>55.0</td>\n",
       "      <td>50.0</td>\n",
       "      <td>B12</td>\n",
       "      <td>Regular</td>\n",
       "      <td>1217.0</td>\n",
       "      <td>R82</td>\n",
       "      <td>0.0</td>\n",
       "    </tr>\n",
       "    <tr>\n",
       "      <th>1</th>\n",
       "      <td>1</td>\n",
       "      <td>3</td>\n",
       "      <td>1</td>\n",
       "      <td>0.77</td>\n",
       "      <td>D</td>\n",
       "      <td>5.0</td>\n",
       "      <td>0.0</td>\n",
       "      <td>55.0</td>\n",
       "      <td>50.0</td>\n",
       "      <td>B12</td>\n",
       "      <td>Regular</td>\n",
       "      <td>1217.0</td>\n",
       "      <td>R82</td>\n",
       "      <td>0.0</td>\n",
       "    </tr>\n",
       "    <tr>\n",
       "      <th>2</th>\n",
       "      <td>2</td>\n",
       "      <td>5</td>\n",
       "      <td>1</td>\n",
       "      <td>0.75</td>\n",
       "      <td>B</td>\n",
       "      <td>6.0</td>\n",
       "      <td>2.0</td>\n",
       "      <td>52.0</td>\n",
       "      <td>50.0</td>\n",
       "      <td>B12</td>\n",
       "      <td>Diesel</td>\n",
       "      <td>54.0</td>\n",
       "      <td>R22</td>\n",
       "      <td>0.0</td>\n",
       "    </tr>\n",
       "    <tr>\n",
       "      <th>3</th>\n",
       "      <td>3</td>\n",
       "      <td>10</td>\n",
       "      <td>1</td>\n",
       "      <td>0.09</td>\n",
       "      <td>B</td>\n",
       "      <td>7.0</td>\n",
       "      <td>0.0</td>\n",
       "      <td>46.0</td>\n",
       "      <td>50.0</td>\n",
       "      <td>B12</td>\n",
       "      <td>Diesel</td>\n",
       "      <td>76.0</td>\n",
       "      <td>R72</td>\n",
       "      <td>0.0</td>\n",
       "    </tr>\n",
       "    <tr>\n",
       "      <th>4</th>\n",
       "      <td>4</td>\n",
       "      <td>11</td>\n",
       "      <td>1</td>\n",
       "      <td>0.84</td>\n",
       "      <td>B</td>\n",
       "      <td>7.0</td>\n",
       "      <td>0.0</td>\n",
       "      <td>46.0</td>\n",
       "      <td>50.0</td>\n",
       "      <td>B12</td>\n",
       "      <td>Diesel</td>\n",
       "      <td>76.0</td>\n",
       "      <td>R72</td>\n",
       "      <td>0.0</td>\n",
       "    </tr>\n",
       "  </tbody>\n",
       "</table>\n",
       "</div>"
      ],
      "text/plain": [
       "   index  IDpol  ClaimNb  Exposure Area  VehPower  VehAge  DrivAge  \\\n",
       "0      0      1        1      0.10    D       5.0     0.0     55.0   \n",
       "1      1      3        1      0.77    D       5.0     0.0     55.0   \n",
       "2      2      5        1      0.75    B       6.0     2.0     52.0   \n",
       "3      3     10        1      0.09    B       7.0     0.0     46.0   \n",
       "4      4     11        1      0.84    B       7.0     0.0     46.0   \n",
       "\n",
       "   BonusMalus VehBrand   VehGas  Density Region  ClaimAmount  \n",
       "0        50.0      B12  Regular   1217.0    R82          0.0  \n",
       "1        50.0      B12  Regular   1217.0    R82          0.0  \n",
       "2        50.0      B12   Diesel     54.0    R22          0.0  \n",
       "3        50.0      B12   Diesel     76.0    R72          0.0  \n",
       "4        50.0      B12   Diesel     76.0    R72          0.0  "
      ]
     },
     "execution_count": 31,
     "metadata": {},
     "output_type": "execute_result"
    }
   ],
   "source": [
    "# Policies without claim amount are filled with 0\n",
    "pol_clm_db[\"ClaimAmount\"].fillna(0, inplace = True)\n",
    "pol_clm_db.reset_index(inplace=True)\n",
    "pol_clm_db.head()  #OK"
   ]
  },
  {
   "cell_type": "markdown",
   "id": "86b9f580-b41c-4249-8914-141d3ea8368b",
   "metadata": {},
   "source": [
    "#### Check ClaimNb vs Amount:"
   ]
  },
  {
   "cell_type": "markdown",
   "id": "226bad80-5cd9-4fd4-a313-9fd484664f24",
   "metadata": {},
   "source": [
    "#####  ClaimNr > 0 and Amount 0\n",
    "Q: are there policies with ClaimNr > 0 and Amount 0?\n",
    "\n",
    "- Yes; this can be explained in part by claims that are not covered, also with the claims difference with the original."
   ]
  },
  {
   "cell_type": "code",
   "execution_count": 34,
   "id": "d7aaaf6e-f05b-41fc-94b2-e3e213f96ec8",
   "metadata": {},
   "outputs": [
    {
     "name": "stderr",
     "output_type": "stream",
     "text": [
      "/tmp/ipykernel_172/2801142801.py:1: UserWarning: Boolean Series key will be reindexed to match DataFrame index.\n",
      "  len(pol_clm_db[pol_clm_db[\"ClaimNb\"]>0][pol_clm_db['ClaimAmount'] == 0])\n"
     ]
    },
    {
     "data": {
      "text/plain": [
       "9116"
      ]
     },
     "execution_count": 34,
     "metadata": {},
     "output_type": "execute_result"
    }
   ],
   "source": [
    "len(pol_clm_db[pol_clm_db[\"ClaimNb\"]>0][pol_clm_db['ClaimAmount'] == 0])"
   ]
  },
  {
   "cell_type": "markdown",
   "id": "c5086114-a40b-4003-a3be-73fd522ef356",
   "metadata": {},
   "source": [
    "##### ClaimNr = 0 and Amount != 0\n",
    "Q: and the other way around: Are there policies with Amount and 0 Nclaims?\n",
    "- No. ok"
   ]
  },
  {
   "cell_type": "code",
   "execution_count": 36,
   "id": "f5d43ce5-5999-4e81-9a63-bf7c19e80110",
   "metadata": {},
   "outputs": [
    {
     "name": "stderr",
     "output_type": "stream",
     "text": [
      "/tmp/ipykernel_172/3900675613.py:1: UserWarning: Boolean Series key will be reindexed to match DataFrame index.\n",
      "  len(pol_clm_db[pol_clm_db[\"ClaimNb\"] == 0][pol_clm_db['ClaimAmount'] > 0]) #no, ok\n"
     ]
    },
    {
     "data": {
      "text/plain": [
       "0"
      ]
     },
     "execution_count": 36,
     "metadata": {},
     "output_type": "execute_result"
    }
   ],
   "source": [
    "len(pol_clm_db[pol_clm_db[\"ClaimNb\"] == 0][pol_clm_db['ClaimAmount'] > 0]) #no, ok"
   ]
  },
  {
   "cell_type": "markdown",
   "id": "f1706aad-74c3-4ae8-b43a-7522c369b27c",
   "metadata": {
    "tags": [
     "type:NotebookTask"
    ]
   },
   "source": [
    "## 2. Inspect the dataset"
   ]
  },
  {
   "cell_type": "markdown",
   "id": "3601ad75-c08f-4627-a64d-856c31c9311f",
   "metadata": {
    "tags": [
     "@context"
    ]
   },
   "source": [
    "**[Insert Context for Task 2]**\n",
    "\n",
    "Get familiar with the new merged dataset."
   ]
  },
  {
   "cell_type": "markdown",
   "id": "acbffd8d-df71-47ea-853a-4907ff9861fc",
   "metadata": {
    "tags": [
     "@instructions"
    ]
   },
   "source": [
    "**[Instructions]**\n",
    "\n",
    "- Use pandas dataframe.info() method to have a initial review on data information. \n",
    "- Check whether the number of rows remain the same after the data merge. \n",
    "- Check whether missing value exists."
   ]
  },
  {
   "cell_type": "markdown",
   "id": "641dbafb-2e07-4894-b0ce-2dd2641ea6d4",
   "metadata": {},
   "source": [
    "### Comment\n",
    "All rows remain. (The number of rows remains the same after merging). There are no missing values on any column\n"
   ]
  },
  {
   "cell_type": "markdown",
   "id": "8ea70f94-a97b-4b98-8b84-204354a984c8",
   "metadata": {},
   "source": [
    "### Sample Code"
   ]
  },
  {
   "cell_type": "code",
   "execution_count": 42,
   "id": "e924eb12-5061-4aaf-8513-8eb7596abaf4",
   "metadata": {},
   "outputs": [
    {
     "name": "stdout",
     "output_type": "stream",
     "text": [
      "<class 'pandas.core.frame.DataFrame'>\n",
      "RangeIndex: 678013 entries, 0 to 678012\n",
      "Data columns (total 14 columns):\n",
      " #   Column       Non-Null Count   Dtype  \n",
      "---  ------       --------------   -----  \n",
      " 0   index        678013 non-null  int64  \n",
      " 1   IDpol        678013 non-null  int64  \n",
      " 2   ClaimNb      678013 non-null  int64  \n",
      " 3   Exposure     678013 non-null  float64\n",
      " 4   Area         678013 non-null  object \n",
      " 5   VehPower     678013 non-null  float64\n",
      " 6   VehAge       678013 non-null  float64\n",
      " 7   DrivAge      678013 non-null  float64\n",
      " 8   BonusMalus   678013 non-null  float64\n",
      " 9   VehBrand     678013 non-null  object \n",
      " 10  VehGas       678013 non-null  object \n",
      " 11  Density      678013 non-null  float64\n",
      " 12  Region       678013 non-null  object \n",
      " 13  ClaimAmount  678013 non-null  float64\n",
      "dtypes: float64(7), int64(3), object(4)\n",
      "memory usage: 72.4+ MB\n"
     ]
    }
   ],
   "source": [
    "pol_clm_db.info()"
   ]
  },
  {
   "cell_type": "markdown",
   "id": "341d9c4e-58b9-4e3a-bcd5-0ed83933eac1",
   "metadata": {},
   "source": [
    "The number of rows remains the same after merging"
   ]
  },
  {
   "cell_type": "code",
   "execution_count": 44,
   "id": "5d48f6a9-20f3-4cce-8401-596cdfb20b67",
   "metadata": {},
   "outputs": [
    {
     "data": {
      "text/plain": [
       "True"
      ]
     },
     "execution_count": 44,
     "metadata": {},
     "output_type": "execute_result"
    }
   ],
   "source": [
    "len(pol_db) == len(pol_clm_db) "
   ]
  },
  {
   "cell_type": "markdown",
   "id": "35083a36-138f-44ea-ba5c-a2041219d292",
   "metadata": {},
   "source": [
    "Are there missing values?"
   ]
  },
  {
   "cell_type": "code",
   "execution_count": 46,
   "id": "0144e537-728e-40b6-ad5a-88d46b4c1e25",
   "metadata": {
    "tags": [
     "@sample_code"
    ]
   },
   "outputs": [
    {
     "data": {
      "text/html": [
       "<div>\n",
       "<style scoped>\n",
       "    .dataframe tbody tr th:only-of-type {\n",
       "        vertical-align: middle;\n",
       "    }\n",
       "\n",
       "    .dataframe tbody tr th {\n",
       "        vertical-align: top;\n",
       "    }\n",
       "\n",
       "    .dataframe thead th {\n",
       "        text-align: right;\n",
       "    }\n",
       "</style>\n",
       "<table border=\"1\" class=\"dataframe\">\n",
       "  <thead>\n",
       "    <tr style=\"text-align: right;\">\n",
       "      <th></th>\n",
       "      <th>index</th>\n",
       "      <th>IDpol</th>\n",
       "      <th>ClaimNb</th>\n",
       "      <th>Exposure</th>\n",
       "      <th>Area</th>\n",
       "      <th>VehPower</th>\n",
       "      <th>VehAge</th>\n",
       "      <th>DrivAge</th>\n",
       "      <th>BonusMalus</th>\n",
       "      <th>VehBrand</th>\n",
       "      <th>VehGas</th>\n",
       "      <th>Density</th>\n",
       "      <th>Region</th>\n",
       "      <th>ClaimAmount</th>\n",
       "    </tr>\n",
       "  </thead>\n",
       "  <tbody>\n",
       "  </tbody>\n",
       "</table>\n",
       "</div>"
      ],
      "text/plain": [
       "Empty DataFrame\n",
       "Columns: [index, IDpol, ClaimNb, Exposure, Area, VehPower, VehAge, DrivAge, BonusMalus, VehBrand, VehGas, Density, Region, ClaimAmount]\n",
       "Index: []"
      ]
     },
     "execution_count": 46,
     "metadata": {},
     "output_type": "execute_result"
    }
   ],
   "source": [
    "pol_clm_db[ pol_clm_db.isna().any(axis = 1) ]  #none"
   ]
  },
  {
   "cell_type": "markdown",
   "id": "89c7bb15-c19c-4bef-ab4d-48b6361578a7",
   "metadata": {
    "tags": [
     "type:NotebookTask"
    ]
   },
   "source": [
    "## 3. Preliminary data overview"
   ]
  },
  {
   "cell_type": "markdown",
   "id": "c5e6d4a1-ace5-4e0b-8584-15ac3de3d905",
   "metadata": {
    "tags": [
     "@context"
    ]
   },
   "source": [
    "**[Replace with Context for Task 3]**\n",
    "\n",
    "Get the basic KPI for the policy-claim data."
   ]
  },
  {
   "cell_type": "markdown",
   "id": "41098ab2-e543-4a4d-ac21-516fa7a898af",
   "metadata": {
    "tags": [
     "@instructions"
    ]
   },
   "source": [
    "**[Instructions]**\n",
    "\n",
    "- Group the data (`pol_clm_db`) with respect to the number of claims(`ClaimNb`) and calculate the total exposures (`Exposure`) and number of policies at each sub-group level of \"number of claims (`ClaimNb`)\".\n",
    "- Calculate the overall portfolio frequency, i.e. total number of claims divided by total exposure."
   ]
  },
  {
   "cell_type": "markdown",
   "id": "5b649665-307e-40ad-bed7-da5210c47249",
   "metadata": {},
   "source": [
    "### Comment\n",
    "- There are policies with exposure > 1\n",
    "- Capping the exposure to 1 does not change the overall frequency of the portfolio.\n",
    "- The number of claims still needs to be investigated\n"
   ]
  },
  {
   "cell_type": "code",
   "execution_count": 51,
   "id": "e3c2b107-b507-45b2-9b2f-119512a4d515",
   "metadata": {
    "tags": [
     "@sample_code"
    ]
   },
   "outputs": [
    {
     "data": {
      "text/plain": [
       "0     643953\n",
       "1      32178\n",
       "2       1784\n",
       "3         82\n",
       "4          7\n",
       "11         3\n",
       "5          2\n",
       "6          1\n",
       "8          1\n",
       "16         1\n",
       "9          1\n",
       "Name: ClaimNb, dtype: int64"
      ]
     },
     "execution_count": 51,
     "metadata": {},
     "output_type": "execute_result"
    }
   ],
   "source": [
    "pol_clm_db['ClaimNb'].value_counts()"
   ]
  },
  {
   "cell_type": "markdown",
   "id": "166f69ab-b3db-49a7-98ac-8b50d6163cb4",
   "metadata": {},
   "source": [
    "### Calculate Exposure and total ClaimNr for ClaimNr"
   ]
  },
  {
   "cell_type": "code",
   "execution_count": 53,
   "id": "404cac5b-df60-42f0-aa55-c28fd5a35c81",
   "metadata": {},
   "outputs": [
    {
     "data": {
      "text/html": [
       "<div>\n",
       "<style scoped>\n",
       "    .dataframe tbody tr th:only-of-type {\n",
       "        vertical-align: middle;\n",
       "    }\n",
       "\n",
       "    .dataframe tbody tr th {\n",
       "        vertical-align: top;\n",
       "    }\n",
       "\n",
       "    .dataframe thead th {\n",
       "        text-align: right;\n",
       "    }\n",
       "</style>\n",
       "<table border=\"1\" class=\"dataframe\">\n",
       "  <thead>\n",
       "    <tr style=\"text-align: right;\">\n",
       "      <th></th>\n",
       "      <th>Exposure</th>\n",
       "    </tr>\n",
       "    <tr>\n",
       "      <th>ClaimNb</th>\n",
       "      <th></th>\n",
       "    </tr>\n",
       "  </thead>\n",
       "  <tbody>\n",
       "    <tr>\n",
       "      <th>0</th>\n",
       "      <td>336616.059770</td>\n",
       "    </tr>\n",
       "    <tr>\n",
       "      <th>1</th>\n",
       "      <td>20670.757404</td>\n",
       "    </tr>\n",
       "    <tr>\n",
       "      <th>2</th>\n",
       "      <td>1153.418289</td>\n",
       "    </tr>\n",
       "    <tr>\n",
       "      <th>3</th>\n",
       "      <td>52.760000</td>\n",
       "    </tr>\n",
       "    <tr>\n",
       "      <th>4</th>\n",
       "      <td>3.070000</td>\n",
       "    </tr>\n",
       "    <tr>\n",
       "      <th>5</th>\n",
       "      <td>1.080000</td>\n",
       "    </tr>\n",
       "    <tr>\n",
       "      <th>6</th>\n",
       "      <td>0.330000</td>\n",
       "    </tr>\n",
       "    <tr>\n",
       "      <th>8</th>\n",
       "      <td>0.410000</td>\n",
       "    </tr>\n",
       "    <tr>\n",
       "      <th>9</th>\n",
       "      <td>0.080000</td>\n",
       "    </tr>\n",
       "    <tr>\n",
       "      <th>11</th>\n",
       "      <td>1.150000</td>\n",
       "    </tr>\n",
       "    <tr>\n",
       "      <th>16</th>\n",
       "      <td>0.330000</td>\n",
       "    </tr>\n",
       "  </tbody>\n",
       "</table>\n",
       "</div>"
      ],
      "text/plain": [
       "              Exposure\n",
       "ClaimNb               \n",
       "0        336616.059770\n",
       "1         20670.757404\n",
       "2          1153.418289\n",
       "3            52.760000\n",
       "4             3.070000\n",
       "5             1.080000\n",
       "6             0.330000\n",
       "8             0.410000\n",
       "9             0.080000\n",
       "11            1.150000\n",
       "16            0.330000"
      ]
     },
     "execution_count": 53,
     "metadata": {},
     "output_type": "execute_result"
    }
   ],
   "source": [
    "pol_clm_db.groupby('ClaimNb').sum()[['Exposure']]"
   ]
  },
  {
   "cell_type": "code",
   "execution_count": 54,
   "id": "2d360184-8411-4488-aa32-fcd3b9160b36",
   "metadata": {},
   "outputs": [
    {
     "data": {
      "text/html": [
       "<div>\n",
       "<style scoped>\n",
       "    .dataframe tbody tr th:only-of-type {\n",
       "        vertical-align: middle;\n",
       "    }\n",
       "\n",
       "    .dataframe tbody tr th {\n",
       "        vertical-align: top;\n",
       "    }\n",
       "\n",
       "    .dataframe thead th {\n",
       "        text-align: right;\n",
       "    }\n",
       "</style>\n",
       "<table border=\"1\" class=\"dataframe\">\n",
       "  <thead>\n",
       "    <tr style=\"text-align: right;\">\n",
       "      <th></th>\n",
       "      <th>IDpol</th>\n",
       "    </tr>\n",
       "    <tr>\n",
       "      <th>ClaimNb</th>\n",
       "      <th></th>\n",
       "    </tr>\n",
       "  </thead>\n",
       "  <tbody>\n",
       "    <tr>\n",
       "      <th>0</th>\n",
       "      <td>643953</td>\n",
       "    </tr>\n",
       "    <tr>\n",
       "      <th>1</th>\n",
       "      <td>32178</td>\n",
       "    </tr>\n",
       "    <tr>\n",
       "      <th>2</th>\n",
       "      <td>1784</td>\n",
       "    </tr>\n",
       "    <tr>\n",
       "      <th>3</th>\n",
       "      <td>82</td>\n",
       "    </tr>\n",
       "    <tr>\n",
       "      <th>4</th>\n",
       "      <td>7</td>\n",
       "    </tr>\n",
       "    <tr>\n",
       "      <th>5</th>\n",
       "      <td>2</td>\n",
       "    </tr>\n",
       "    <tr>\n",
       "      <th>6</th>\n",
       "      <td>1</td>\n",
       "    </tr>\n",
       "    <tr>\n",
       "      <th>8</th>\n",
       "      <td>1</td>\n",
       "    </tr>\n",
       "    <tr>\n",
       "      <th>9</th>\n",
       "      <td>1</td>\n",
       "    </tr>\n",
       "    <tr>\n",
       "      <th>11</th>\n",
       "      <td>3</td>\n",
       "    </tr>\n",
       "    <tr>\n",
       "      <th>16</th>\n",
       "      <td>1</td>\n",
       "    </tr>\n",
       "  </tbody>\n",
       "</table>\n",
       "</div>"
      ],
      "text/plain": [
       "          IDpol\n",
       "ClaimNb        \n",
       "0        643953\n",
       "1         32178\n",
       "2          1784\n",
       "3            82\n",
       "4             7\n",
       "5             2\n",
       "6             1\n",
       "8             1\n",
       "9             1\n",
       "11            3\n",
       "16            1"
      ]
     },
     "execution_count": 54,
     "metadata": {},
     "output_type": "execute_result"
    }
   ],
   "source": [
    "pol_clm_db.groupby('ClaimNb').count()[['IDpol']]"
   ]
  },
  {
   "cell_type": "markdown",
   "id": "1225ea9f-8429-4c35-a2fa-798c1ee6e89e",
   "metadata": {},
   "source": [
    "### Visualize Exposure\n",
    "#### there are policies with Exp >1"
   ]
  },
  {
   "cell_type": "code",
   "execution_count": 56,
   "id": "ab7799a5-3df8-4ecd-b2e1-6bf2063462d9",
   "metadata": {},
   "outputs": [
    {
     "data": {
      "text/plain": [
       "<AxesSubplot:>"
      ]
     },
     "execution_count": 56,
     "metadata": {},
     "output_type": "execute_result"
    },
    {
     "data": {
      "image/png": "[encoded data removed]",
      "text/plain": [
       "<Figure size 432x288 with 1 Axes>"
      ]
     },
     "metadata": {
      "needs_background": "light"
     },
     "output_type": "display_data"
    }
   ],
   "source": [
    "pol_clm_db['Exposure'].hist()"
   ]
  },
  {
   "cell_type": "code",
   "execution_count": 57,
   "id": "dbfe2ded-4f66-46ee-a2a9-3c1b406aa27f",
   "metadata": {},
   "outputs": [
    {
     "data": {
      "text/plain": [
       "1224"
      ]
     },
     "execution_count": 57,
     "metadata": {},
     "output_type": "execute_result"
    }
   ],
   "source": [
    "len(pol_clm_db[pol_clm_db['Exposure'] > 1])"
   ]
  },
  {
   "cell_type": "markdown",
   "id": "0247e087-56a2-4d55-b06e-9b6bee3b94cd",
   "metadata": {},
   "source": [
    "### Overall portfolio frequency: 0.1007"
   ]
  },
  {
   "cell_type": "markdown",
   "id": "e51694c0-1ac0-4f2f-8cc0-52569cb16f8b",
   "metadata": {},
   "source": [
    "##### big disclaimer:  this is given the exposures and ClaimNr so as they are"
   ]
  },
  {
   "cell_type": "code",
   "execution_count": 60,
   "id": "d9a538df-53b3-4abf-9e19-ca22670c91a7",
   "metadata": {},
   "outputs": [
    {
     "data": {
      "text/plain": [
       "0.10070308464041304"
      ]
     },
     "execution_count": 60,
     "metadata": {},
     "output_type": "execute_result"
    }
   ],
   "source": [
    "pol_clm_db['ClaimNb'].sum() / pol_clm_db['Exposure'].sum()"
   ]
  },
  {
   "cell_type": "code",
   "execution_count": 61,
   "id": "0b16ef63-f65e-40a0-a601-da8b39554403",
   "metadata": {},
   "outputs": [],
   "source": [
    "#pol_clm_db.sort_values(by = 'Exposure', ascending = False)"
   ]
  },
  {
   "cell_type": "markdown",
   "id": "83b58092-fda4-49cc-8859-635e54840d1f",
   "metadata": {},
   "source": [
    "### Make a new Exposure column capping the values to 1"
   ]
  },
  {
   "cell_type": "code",
   "execution_count": 63,
   "id": "cea50379-a6af-4fa8-bdbb-a210ca747dc5",
   "metadata": {},
   "outputs": [],
   "source": [
    "pol_clm_db['Exposure2']= pol_clm_db['Exposure']"
   ]
  },
  {
   "cell_type": "code",
   "execution_count": 64,
   "id": "5584d21c-3a5b-4bc9-9697-d6ceda500dde",
   "metadata": {},
   "outputs": [],
   "source": [
    "pol_clm_db.loc[pol_clm_db['Exposure2']>1, 'Exposure2'] = 1"
   ]
  },
  {
   "cell_type": "code",
   "execution_count": 65,
   "id": "89ebc71b-a32c-401a-9fae-015bbf1335b9",
   "metadata": {},
   "outputs": [
    {
     "data": {
      "text/html": [
       "<div>\n",
       "<style scoped>\n",
       "    .dataframe tbody tr th:only-of-type {\n",
       "        vertical-align: middle;\n",
       "    }\n",
       "\n",
       "    .dataframe tbody tr th {\n",
       "        vertical-align: top;\n",
       "    }\n",
       "\n",
       "    .dataframe thead th {\n",
       "        text-align: right;\n",
       "    }\n",
       "</style>\n",
       "<table border=\"1\" class=\"dataframe\">\n",
       "  <thead>\n",
       "    <tr style=\"text-align: right;\">\n",
       "      <th></th>\n",
       "      <th>index</th>\n",
       "      <th>IDpol</th>\n",
       "      <th>ClaimNb</th>\n",
       "      <th>Exposure</th>\n",
       "      <th>Area</th>\n",
       "      <th>VehPower</th>\n",
       "      <th>VehAge</th>\n",
       "      <th>DrivAge</th>\n",
       "      <th>BonusMalus</th>\n",
       "      <th>VehBrand</th>\n",
       "      <th>VehGas</th>\n",
       "      <th>Density</th>\n",
       "      <th>Region</th>\n",
       "      <th>ClaimAmount</th>\n",
       "      <th>Exposure2</th>\n",
       "    </tr>\n",
       "  </thead>\n",
       "  <tbody>\n",
       "    <tr>\n",
       "      <th>198847</th>\n",
       "      <td>198847</td>\n",
       "      <td>1198848</td>\n",
       "      <td>0</td>\n",
       "      <td>2.010000</td>\n",
       "      <td>D</td>\n",
       "      <td>4.0</td>\n",
       "      <td>14.0</td>\n",
       "      <td>78.0</td>\n",
       "      <td>50.0</td>\n",
       "      <td>B1</td>\n",
       "      <td>Regular</td>\n",
       "      <td>824.0</td>\n",
       "      <td>R91</td>\n",
       "      <td>0.00</td>\n",
       "      <td>1.000000</td>\n",
       "    </tr>\n",
       "    <tr>\n",
       "      <th>198144</th>\n",
       "      <td>198144</td>\n",
       "      <td>1198145</td>\n",
       "      <td>0</td>\n",
       "      <td>2.010000</td>\n",
       "      <td>C</td>\n",
       "      <td>5.0</td>\n",
       "      <td>0.0</td>\n",
       "      <td>59.0</td>\n",
       "      <td>50.0</td>\n",
       "      <td>B3</td>\n",
       "      <td>Regular</td>\n",
       "      <td>239.0</td>\n",
       "      <td>R41</td>\n",
       "      <td>0.00</td>\n",
       "      <td>1.000000</td>\n",
       "    </tr>\n",
       "    <tr>\n",
       "      <th>198478</th>\n",
       "      <td>198478</td>\n",
       "      <td>1198479</td>\n",
       "      <td>1</td>\n",
       "      <td>2.000000</td>\n",
       "      <td>C</td>\n",
       "      <td>10.0</td>\n",
       "      <td>11.0</td>\n",
       "      <td>32.0</td>\n",
       "      <td>50.0</td>\n",
       "      <td>B13</td>\n",
       "      <td>Regular</td>\n",
       "      <td>373.0</td>\n",
       "      <td>R91</td>\n",
       "      <td>72.96</td>\n",
       "      <td>1.000000</td>\n",
       "    </tr>\n",
       "    <tr>\n",
       "      <th>179652</th>\n",
       "      <td>179652</td>\n",
       "      <td>1179653</td>\n",
       "      <td>0</td>\n",
       "      <td>1.990000</td>\n",
       "      <td>A</td>\n",
       "      <td>11.0</td>\n",
       "      <td>10.0</td>\n",
       "      <td>50.0</td>\n",
       "      <td>50.0</td>\n",
       "      <td>B12</td>\n",
       "      <td>Regular</td>\n",
       "      <td>29.0</td>\n",
       "      <td>R25</td>\n",
       "      <td>0.00</td>\n",
       "      <td>1.000000</td>\n",
       "    </tr>\n",
       "    <tr>\n",
       "      <th>197024</th>\n",
       "      <td>197024</td>\n",
       "      <td>1197025</td>\n",
       "      <td>0</td>\n",
       "      <td>1.980000</td>\n",
       "      <td>D</td>\n",
       "      <td>4.0</td>\n",
       "      <td>22.0</td>\n",
       "      <td>71.0</td>\n",
       "      <td>50.0</td>\n",
       "      <td>B1</td>\n",
       "      <td>Regular</td>\n",
       "      <td>1445.0</td>\n",
       "      <td>R72</td>\n",
       "      <td>0.00</td>\n",
       "      <td>1.000000</td>\n",
       "    </tr>\n",
       "    <tr>\n",
       "      <th>...</th>\n",
       "      <td>...</td>\n",
       "      <td>...</td>\n",
       "      <td>...</td>\n",
       "      <td>...</td>\n",
       "      <td>...</td>\n",
       "      <td>...</td>\n",
       "      <td>...</td>\n",
       "      <td>...</td>\n",
       "      <td>...</td>\n",
       "      <td>...</td>\n",
       "      <td>...</td>\n",
       "      <td>...</td>\n",
       "      <td>...</td>\n",
       "      <td>...</td>\n",
       "      <td>...</td>\n",
       "    </tr>\n",
       "    <tr>\n",
       "      <th>22054</th>\n",
       "      <td>22054</td>\n",
       "      <td>47988</td>\n",
       "      <td>0</td>\n",
       "      <td>0.002732</td>\n",
       "      <td>D</td>\n",
       "      <td>7.0</td>\n",
       "      <td>0.0</td>\n",
       "      <td>39.0</td>\n",
       "      <td>51.0</td>\n",
       "      <td>B3</td>\n",
       "      <td>Diesel</td>\n",
       "      <td>1265.0</td>\n",
       "      <td>R54</td>\n",
       "      <td>0.00</td>\n",
       "      <td>0.002732</td>\n",
       "    </tr>\n",
       "    <tr>\n",
       "      <th>22289</th>\n",
       "      <td>22289</td>\n",
       "      <td>48441</td>\n",
       "      <td>0</td>\n",
       "      <td>0.002732</td>\n",
       "      <td>D</td>\n",
       "      <td>6.0</td>\n",
       "      <td>6.0</td>\n",
       "      <td>26.0</td>\n",
       "      <td>147.0</td>\n",
       "      <td>B2</td>\n",
       "      <td>Diesel</td>\n",
       "      <td>1192.0</td>\n",
       "      <td>R53</td>\n",
       "      <td>0.00</td>\n",
       "      <td>0.002732</td>\n",
       "    </tr>\n",
       "    <tr>\n",
       "      <th>22523</th>\n",
       "      <td>22523</td>\n",
       "      <td>48856</td>\n",
       "      <td>0</td>\n",
       "      <td>0.002732</td>\n",
       "      <td>C</td>\n",
       "      <td>5.0</td>\n",
       "      <td>3.0</td>\n",
       "      <td>22.0</td>\n",
       "      <td>90.0</td>\n",
       "      <td>B3</td>\n",
       "      <td>Diesel</td>\n",
       "      <td>461.0</td>\n",
       "      <td>R53</td>\n",
       "      <td>0.00</td>\n",
       "      <td>0.002732</td>\n",
       "    </tr>\n",
       "    <tr>\n",
       "      <th>22573</th>\n",
       "      <td>22573</td>\n",
       "      <td>48951</td>\n",
       "      <td>0</td>\n",
       "      <td>0.002732</td>\n",
       "      <td>D</td>\n",
       "      <td>6.0</td>\n",
       "      <td>8.0</td>\n",
       "      <td>27.0</td>\n",
       "      <td>76.0</td>\n",
       "      <td>B1</td>\n",
       "      <td>Diesel</td>\n",
       "      <td>983.0</td>\n",
       "      <td>R52</td>\n",
       "      <td>0.00</td>\n",
       "      <td>0.002732</td>\n",
       "    </tr>\n",
       "    <tr>\n",
       "      <th>559609</th>\n",
       "      <td>559609</td>\n",
       "      <td>4150787</td>\n",
       "      <td>0</td>\n",
       "      <td>0.002732</td>\n",
       "      <td>B</td>\n",
       "      <td>5.0</td>\n",
       "      <td>16.0</td>\n",
       "      <td>28.0</td>\n",
       "      <td>80.0</td>\n",
       "      <td>B2</td>\n",
       "      <td>Diesel</td>\n",
       "      <td>79.0</td>\n",
       "      <td>R24</td>\n",
       "      <td>0.00</td>\n",
       "      <td>0.002732</td>\n",
       "    </tr>\n",
       "  </tbody>\n",
       "</table>\n",
       "<p>678013 rows × 15 columns</p>\n",
       "</div>"
      ],
      "text/plain": [
       "         index    IDpol  ClaimNb  Exposure Area  VehPower  VehAge  DrivAge  \\\n",
       "198847  198847  1198848        0  2.010000    D       4.0    14.0     78.0   \n",
       "198144  198144  1198145        0  2.010000    C       5.0     0.0     59.0   \n",
       "198478  198478  1198479        1  2.000000    C      10.0    11.0     32.0   \n",
       "179652  179652  1179653        0  1.990000    A      11.0    10.0     50.0   \n",
       "197024  197024  1197025        0  1.980000    D       4.0    22.0     71.0   \n",
       "...        ...      ...      ...       ...  ...       ...     ...      ...   \n",
       "22054    22054    47988        0  0.002732    D       7.0     0.0     39.0   \n",
       "22289    22289    48441        0  0.002732    D       6.0     6.0     26.0   \n",
       "22523    22523    48856        0  0.002732    C       5.0     3.0     22.0   \n",
       "22573    22573    48951        0  0.002732    D       6.0     8.0     27.0   \n",
       "559609  559609  4150787        0  0.002732    B       5.0    16.0     28.0   \n",
       "\n",
       "        BonusMalus VehBrand   VehGas  Density Region  ClaimAmount  Exposure2  \n",
       "198847        50.0       B1  Regular    824.0    R91         0.00   1.000000  \n",
       "198144        50.0       B3  Regular    239.0    R41         0.00   1.000000  \n",
       "198478        50.0      B13  Regular    373.0    R91        72.96   1.000000  \n",
       "179652        50.0      B12  Regular     29.0    R25         0.00   1.000000  \n",
       "197024        50.0       B1  Regular   1445.0    R72         0.00   1.000000  \n",
       "...            ...      ...      ...      ...    ...          ...        ...  \n",
       "22054         51.0       B3   Diesel   1265.0    R54         0.00   0.002732  \n",
       "22289        147.0       B2   Diesel   1192.0    R53         0.00   0.002732  \n",
       "22523         90.0       B3   Diesel    461.0    R53         0.00   0.002732  \n",
       "22573         76.0       B1   Diesel    983.0    R52         0.00   0.002732  \n",
       "559609        80.0       B2   Diesel     79.0    R24         0.00   0.002732  \n",
       "\n",
       "[678013 rows x 15 columns]"
      ]
     },
     "execution_count": 65,
     "metadata": {},
     "output_type": "execute_result"
    }
   ],
   "source": [
    "pol_clm_db.sort_values(by = 'Exposure', ascending = False)"
   ]
  },
  {
   "cell_type": "code",
   "execution_count": 66,
   "id": "e416bbf5-5a31-4493-b2ff-a6308c299ebf",
   "metadata": {},
   "outputs": [
    {
     "data": {
      "text/plain": [
       "array([[<AxesSubplot:title={'center':'Exposure'}>,\n",
       "        <AxesSubplot:title={'center':'Exposure2'}>]], dtype=object)"
      ]
     },
     "execution_count": 66,
     "metadata": {},
     "output_type": "execute_result"
    },
    {
     "data": {
      "image/png": "[encoded data removed]",
      "text/plain": [
       "<Figure size 432x288 with 2 Axes>"
      ]
     },
     "metadata": {
      "needs_background": "light"
     },
     "output_type": "display_data"
    }
   ],
   "source": [
    "pol_clm_db[ ['Exposure','Exposure2']].hist()"
   ]
  },
  {
   "cell_type": "markdown",
   "id": "cbca6ba4-4907-445a-880f-cd0289493904",
   "metadata": {},
   "source": [
    "### Frequency with Exposure capped at 1: 0.10074"
   ]
  },
  {
   "cell_type": "code",
   "execution_count": 68,
   "id": "0ba55eea-b366-4a3c-87f0-8fec90066bc8",
   "metadata": {},
   "outputs": [
    {
     "data": {
      "text/plain": [
       "0.10074224069489535"
      ]
     },
     "execution_count": 68,
     "metadata": {},
     "output_type": "execute_result"
    }
   ],
   "source": [
    "pol_clm_db['ClaimNb'].sum() / pol_clm_db['Exposure2'].sum()"
   ]
  },
  {
   "cell_type": "markdown",
   "id": "828ed460-8f7d-4169-b866-fb3a53d4d922",
   "metadata": {
    "tags": [
     "type:NotebookTask"
    ]
   },
   "source": [
    "## 4. Further analysis of the data"
   ]
  },
  {
   "cell_type": "markdown",
   "id": "e59424e4-1d04-4c7a-afc5-189b0d95fa97",
   "metadata": {},
   "source": [
    "### Renewals and Policies belonging to the same policy holder"
   ]
  },
  {
   "cell_type": "markdown",
   "id": "78ce95d0-8018-494f-a5da-43107c29da7c",
   "metadata": {
    "tags": [
     "@context"
    ]
   },
   "source": [
    "**[Insert Context for Task 4]**\n",
    "\n",
    "Determine whether policy renewal has happened during the year."
   ]
  },
  {
   "cell_type": "markdown",
   "id": "d89c74e4-d4b5-43c2-8f22-5c9cb7129ad6",
   "metadata": {
    "tags": [
     "@instructions"
    ]
   },
   "source": [
    "**[Instructions]**\n",
    "\n",
    "\n",
    "- For policy whose exposure is equal to 1 year, what is the percentage of such policy. __Please note that the data used in this project only covers one whole calendar year.__ That means, if a policy has been renewed in reality but in our data set it's recorded as two separate policy. We can find their sum of exposure is 1. We can use this fact to detect whether policy renewal has happened.\n",
    "- Is the answer from (1) seems rather unusual? In practice, policies belonging to the same policy holder should share the same policy ID and is noted as new business or renewal. But we don't have such granular information in this dataset.\n",
    "- Determine whether the data set follow the practice mentioned above that same policy holder uses the same policy ID. If a policy had been renewed and was indeed recorded as two separate ones in this dataset, then the sum of their exposure should be 1."
   ]
  },
  {
   "cell_type": "markdown",
   "id": "7464a453-30af-4c7e-aa81-5cad288106cf",
   "metadata": {
    "tags": [
     "@hint"
    ]
   },
   "source": [
    "**[Insert Hints Below]**\n",
    "\n",
    "- groupby 'Area', 'VehPower', 'VehAge', 'DrivAge', 'BonusMalus', 'VehBrand', 'VehGas', 'Density', 'Region', sum the exposure and count the number for each sub-group level. It's highly likely that same policy holder should share the same features."
   ]
  },
  {
   "cell_type": "markdown",
   "id": "9f1140c5-0a63-4dca-a26d-0b1bf0d9fb60",
   "metadata": {},
   "source": [
    "### Sample Code"
   ]
  },
  {
   "cell_type": "markdown",
   "id": "ebc5a0d6-4549-4eed-aea7-c47642be56e1",
   "metadata": {},
   "source": [
    "### Comment\n",
    "- Policies with the same characteristics were grouped as a policy holder\n",
    "- Roughly 25% of the rows were grouped\n",
    "- However some of the rows have (much) more than one year of exposure which should not be happening"
   ]
  },
  {
   "cell_type": "markdown",
   "id": "19953d74-d8de-4b28-b8f9-13cd505aba17",
   "metadata": {},
   "source": [
    "### percentage of 1 year policies, direct"
   ]
  },
  {
   "cell_type": "markdown",
   "id": "26b0cdd8-3a03-46fb-8516-85231ad6db8b",
   "metadata": {},
   "source": [
    "#### only 25%"
   ]
  },
  {
   "cell_type": "code",
   "execution_count": 78,
   "id": "c7001327-f63a-4d37-9111-915b5d78f32d",
   "metadata": {},
   "outputs": [
    {
     "data": {
      "text/plain": [
       "0.2479672218674273"
      ]
     },
     "execution_count": 78,
     "metadata": {},
     "output_type": "execute_result"
    }
   ],
   "source": [
    "sum(pol_clm_db['Exposure']==1) / len(pol_clm_db) "
   ]
  },
  {
   "cell_type": "code",
   "execution_count": 79,
   "id": "c12f6314-9d62-4425-8591-8989ed3a7fbf",
   "metadata": {
    "tags": [
     "@sample_code"
    ]
   },
   "outputs": [
    {
     "data": {
      "text/html": [
       "<div>\n",
       "<style scoped>\n",
       "    .dataframe tbody tr th:only-of-type {\n",
       "        vertical-align: middle;\n",
       "    }\n",
       "\n",
       "    .dataframe tbody tr th {\n",
       "        vertical-align: top;\n",
       "    }\n",
       "\n",
       "    .dataframe thead th {\n",
       "        text-align: right;\n",
       "    }\n",
       "</style>\n",
       "<table border=\"1\" class=\"dataframe\">\n",
       "  <thead>\n",
       "    <tr style=\"text-align: right;\">\n",
       "      <th></th>\n",
       "      <th>index</th>\n",
       "      <th>IDpol</th>\n",
       "      <th>ClaimNb</th>\n",
       "      <th>Exposure</th>\n",
       "      <th>Area</th>\n",
       "      <th>VehPower</th>\n",
       "      <th>VehAge</th>\n",
       "      <th>DrivAge</th>\n",
       "      <th>BonusMalus</th>\n",
       "      <th>VehBrand</th>\n",
       "      <th>VehGas</th>\n",
       "      <th>Density</th>\n",
       "      <th>Region</th>\n",
       "      <th>ClaimAmount</th>\n",
       "      <th>Exposure2</th>\n",
       "    </tr>\n",
       "  </thead>\n",
       "  <tbody>\n",
       "    <tr>\n",
       "      <th>0</th>\n",
       "      <td>0</td>\n",
       "      <td>1</td>\n",
       "      <td>1</td>\n",
       "      <td>0.1</td>\n",
       "      <td>D</td>\n",
       "      <td>5.0</td>\n",
       "      <td>0.0</td>\n",
       "      <td>55.0</td>\n",
       "      <td>50.0</td>\n",
       "      <td>B12</td>\n",
       "      <td>Regular</td>\n",
       "      <td>1217.0</td>\n",
       "      <td>R82</td>\n",
       "      <td>0.0</td>\n",
       "      <td>0.1</td>\n",
       "    </tr>\n",
       "  </tbody>\n",
       "</table>\n",
       "</div>"
      ],
      "text/plain": [
       "   index  IDpol  ClaimNb  Exposure Area  VehPower  VehAge  DrivAge  \\\n",
       "0      0      1        1       0.1    D       5.0     0.0     55.0   \n",
       "\n",
       "   BonusMalus VehBrand   VehGas  Density Region  ClaimAmount  Exposure2  \n",
       "0        50.0      B12  Regular   1217.0    R82          0.0        0.1  "
      ]
     },
     "execution_count": 79,
     "metadata": {},
     "output_type": "execute_result"
    }
   ],
   "source": [
    "pol_clm_db.head(1)\n"
   ]
  },
  {
   "cell_type": "markdown",
   "id": "ea603115-4b2e-477c-ba21-5962dd1379cc",
   "metadata": {},
   "source": [
    "### Create new set with policy-holder groups"
   ]
  },
  {
   "cell_type": "code",
   "execution_count": 81,
   "id": "8784e8ac-ac56-4559-888d-52069e4979f3",
   "metadata": {},
   "outputs": [
    {
     "data": {
      "text/html": [
       "<div>\n",
       "<style scoped>\n",
       "    .dataframe tbody tr th:only-of-type {\n",
       "        vertical-align: middle;\n",
       "    }\n",
       "\n",
       "    .dataframe tbody tr th {\n",
       "        vertical-align: top;\n",
       "    }\n",
       "\n",
       "    .dataframe thead tr th {\n",
       "        text-align: left;\n",
       "    }\n",
       "\n",
       "    .dataframe thead tr:last-of-type th {\n",
       "        text-align: right;\n",
       "    }\n",
       "</style>\n",
       "<table border=\"1\" class=\"dataframe\">\n",
       "  <thead>\n",
       "    <tr>\n",
       "      <th></th>\n",
       "      <th></th>\n",
       "      <th></th>\n",
       "      <th></th>\n",
       "      <th></th>\n",
       "      <th></th>\n",
       "      <th></th>\n",
       "      <th></th>\n",
       "      <th></th>\n",
       "      <th colspan=\"2\" halign=\"left\">Exposure</th>\n",
       "    </tr>\n",
       "    <tr>\n",
       "      <th></th>\n",
       "      <th></th>\n",
       "      <th></th>\n",
       "      <th></th>\n",
       "      <th></th>\n",
       "      <th></th>\n",
       "      <th></th>\n",
       "      <th></th>\n",
       "      <th></th>\n",
       "      <th>sum</th>\n",
       "      <th>count</th>\n",
       "    </tr>\n",
       "    <tr>\n",
       "      <th>Area</th>\n",
       "      <th>VehPower</th>\n",
       "      <th>VehAge</th>\n",
       "      <th>DrivAge</th>\n",
       "      <th>BonusMalus</th>\n",
       "      <th>VehBrand</th>\n",
       "      <th>VehGas</th>\n",
       "      <th>Density</th>\n",
       "      <th>Region</th>\n",
       "      <th></th>\n",
       "      <th></th>\n",
       "    </tr>\n",
       "  </thead>\n",
       "  <tbody>\n",
       "    <tr>\n",
       "      <th>B</th>\n",
       "      <th>9.0</th>\n",
       "      <th>3.0</th>\n",
       "      <th>35.0</th>\n",
       "      <th>64.0</th>\n",
       "      <th>B2</th>\n",
       "      <th>Regular</th>\n",
       "      <th>92.0</th>\n",
       "      <th>R72</th>\n",
       "      <td>14.52</td>\n",
       "      <td>22</td>\n",
       "    </tr>\n",
       "    <tr>\n",
       "      <th rowspan=\"2\" valign=\"top\">E</th>\n",
       "      <th>6.0</th>\n",
       "      <th>11.0</th>\n",
       "      <th>31.0</th>\n",
       "      <th>50.0</th>\n",
       "      <th>B2</th>\n",
       "      <th>Diesel</th>\n",
       "      <th>4348.0</th>\n",
       "      <th>R72</th>\n",
       "      <td>3.78</td>\n",
       "      <td>18</td>\n",
       "    </tr>\n",
       "    <tr>\n",
       "      <th>5.0</th>\n",
       "      <th>2.0</th>\n",
       "      <th>40.0</th>\n",
       "      <th>50.0</th>\n",
       "      <th>B2</th>\n",
       "      <th>Diesel</th>\n",
       "      <th>4059.0</th>\n",
       "      <th>R23</th>\n",
       "      <td>1.18</td>\n",
       "      <td>15</td>\n",
       "    </tr>\n",
       "    <tr>\n",
       "      <th>D</th>\n",
       "      <th>4.0</th>\n",
       "      <th>12.0</th>\n",
       "      <th>52.0</th>\n",
       "      <th>50.0</th>\n",
       "      <th>B1</th>\n",
       "      <th>Regular</th>\n",
       "      <th>824.0</th>\n",
       "      <th>R91</th>\n",
       "      <td>3.16</td>\n",
       "      <td>15</td>\n",
       "    </tr>\n",
       "    <tr>\n",
       "      <th rowspan=\"6\" valign=\"top\">C</th>\n",
       "      <th>6.0</th>\n",
       "      <th>5.0</th>\n",
       "      <th>51.0</th>\n",
       "      <th>50.0</th>\n",
       "      <th>B2</th>\n",
       "      <th>Diesel</th>\n",
       "      <th>269.0</th>\n",
       "      <th>R91</th>\n",
       "      <td>11.64</td>\n",
       "      <td>15</td>\n",
       "    </tr>\n",
       "    <tr>\n",
       "      <th>...</th>\n",
       "      <th>...</th>\n",
       "      <th>...</th>\n",
       "      <th>...</th>\n",
       "      <th>...</th>\n",
       "      <th>...</th>\n",
       "      <th>...</th>\n",
       "      <th>...</th>\n",
       "      <td>...</td>\n",
       "      <td>...</td>\n",
       "    </tr>\n",
       "    <tr>\n",
       "      <th rowspan=\"4\" valign=\"top\">5.0</th>\n",
       "      <th rowspan=\"4\" valign=\"top\">11.0</th>\n",
       "      <th rowspan=\"3\" valign=\"top\">35.0</th>\n",
       "      <th rowspan=\"3\" valign=\"top\">50.0</th>\n",
       "      <th rowspan=\"3\" valign=\"top\">B2</th>\n",
       "      <th rowspan=\"3\" valign=\"top\">Diesel</th>\n",
       "      <th>141.0</th>\n",
       "      <th>R82</th>\n",
       "      <td>0.01</td>\n",
       "      <td>1</td>\n",
       "    </tr>\n",
       "    <tr>\n",
       "      <th>133.0</th>\n",
       "      <th>R53</th>\n",
       "      <td>1.00</td>\n",
       "      <td>1</td>\n",
       "    </tr>\n",
       "    <tr>\n",
       "      <th>117.0</th>\n",
       "      <th>R25</th>\n",
       "      <td>1.00</td>\n",
       "      <td>1</td>\n",
       "    </tr>\n",
       "    <tr>\n",
       "      <th>34.0</th>\n",
       "      <th>133.0</th>\n",
       "      <th>B2</th>\n",
       "      <th>Diesel</th>\n",
       "      <th>175.0</th>\n",
       "      <th>R82</th>\n",
       "      <td>0.12</td>\n",
       "      <td>1</td>\n",
       "    </tr>\n",
       "    <tr>\n",
       "      <th>F</th>\n",
       "      <th>15.0</th>\n",
       "      <th>15.0</th>\n",
       "      <th>28.0</th>\n",
       "      <th>95.0</th>\n",
       "      <th>B12</th>\n",
       "      <th>Regular</th>\n",
       "      <th>27000.0</th>\n",
       "      <th>R11</th>\n",
       "      <td>0.55</td>\n",
       "      <td>1</td>\n",
       "    </tr>\n",
       "  </tbody>\n",
       "</table>\n",
       "<p>528765 rows × 2 columns</p>\n",
       "</div>"
      ],
      "text/plain": [
       "                                                                        Exposure  \\\n",
       "                                                                             sum   \n",
       "Area VehPower VehAge DrivAge BonusMalus VehBrand VehGas  Density Region            \n",
       "B    9.0      3.0    35.0    64.0       B2       Regular 92.0    R72       14.52   \n",
       "E    6.0      11.0   31.0    50.0       B2       Diesel  4348.0  R72        3.78   \n",
       "     5.0      2.0    40.0    50.0       B2       Diesel  4059.0  R23        1.18   \n",
       "D    4.0      12.0   52.0    50.0       B1       Regular 824.0   R91        3.16   \n",
       "C    6.0      5.0    51.0    50.0       B2       Diesel  269.0   R91       11.64   \n",
       "...                                                                          ...   \n",
       "     5.0      11.0   35.0    50.0       B2       Diesel  141.0   R82        0.01   \n",
       "                                                         133.0   R53        1.00   \n",
       "                                                         117.0   R25        1.00   \n",
       "                     34.0    133.0      B2       Diesel  175.0   R82        0.12   \n",
       "F    15.0     15.0   28.0    95.0       B12      Regular 27000.0 R11        0.55   \n",
       "\n",
       "                                                                               \n",
       "                                                                        count  \n",
       "Area VehPower VehAge DrivAge BonusMalus VehBrand VehGas  Density Region        \n",
       "B    9.0      3.0    35.0    64.0       B2       Regular 92.0    R72       22  \n",
       "E    6.0      11.0   31.0    50.0       B2       Diesel  4348.0  R72       18  \n",
       "     5.0      2.0    40.0    50.0       B2       Diesel  4059.0  R23       15  \n",
       "D    4.0      12.0   52.0    50.0       B1       Regular 824.0   R91       15  \n",
       "C    6.0      5.0    51.0    50.0       B2       Diesel  269.0   R91       15  \n",
       "...                                                                       ...  \n",
       "     5.0      11.0   35.0    50.0       B2       Diesel  141.0   R82        1  \n",
       "                                                         133.0   R53        1  \n",
       "                                                         117.0   R25        1  \n",
       "                     34.0    133.0      B2       Diesel  175.0   R82        1  \n",
       "F    15.0     15.0   28.0    95.0       B12      Regular 27000.0 R11        1  \n",
       "\n",
       "[528765 rows x 2 columns]"
      ]
     },
     "execution_count": 81,
     "metadata": {},
     "output_type": "execute_result"
    }
   ],
   "source": [
    "grouping_fields = ['Area', 'VehPower', 'VehAge', 'DrivAge', 'BonusMalus', 'VehBrand', 'VehGas', 'Density', 'Region']\n",
    "unique_feat = pol_clm_db.groupby(by = grouping_fields).agg({'Exposure':['sum','count']})\n",
    "unique_feat.columns\n",
    "unique_feat.sort_values(by = ('Exposure',   'count'), ascending = False)\n"
   ]
  },
  {
   "cell_type": "markdown",
   "id": "ee8dabc4-7213-4631-bf74-65a97ed47e8e",
   "metadata": {},
   "source": [
    "#### 25% of the rows were grouped"
   ]
  },
  {
   "cell_type": "code",
   "execution_count": 83,
   "id": "43ffe3cf-a1bc-4257-b9c2-79ff28a43697",
   "metadata": {},
   "outputs": [
    {
     "data": {
      "text/plain": [
       "0.7798744271864994"
      ]
     },
     "execution_count": 83,
     "metadata": {},
     "output_type": "execute_result"
    }
   ],
   "source": [
    "528765/ 678013 "
   ]
  },
  {
   "cell_type": "code",
   "execution_count": 84,
   "id": "e8eb0d39-b0eb-4012-a4e9-18d8fe4f4697",
   "metadata": {},
   "outputs": [
    {
     "data": {
      "text/plain": [
       "<AxesSubplot:>"
      ]
     },
     "execution_count": 84,
     "metadata": {},
     "output_type": "execute_result"
    },
    {
     "data": {
      "image/png": "[encoded data removed]",
      "text/plain": [
       "<Figure size 432x288 with 1 Axes>"
      ]
     },
     "metadata": {
      "needs_background": "light"
     },
     "output_type": "display_data"
    }
   ],
   "source": [
    "unique_feat[('Exposure',   'count')].hist(bins = 50)"
   ]
  },
  {
   "cell_type": "markdown",
   "id": "391df842-83b0-4563-8276-d883f844dd0e",
   "metadata": {},
   "source": [
    "#### Problem\n",
    "##### It seems that there are too many instances of some of the unique individuals (22 for example).\n",
    "##### the exposure then added is way greater than 1,  it seems that this method of detencting individual policies does not tackte the problem fully\n"
   ]
  },
  {
   "cell_type": "markdown",
   "id": "ef5040ab-b1cb-4a60-86d6-5a16a6da2df1",
   "metadata": {},
   "source": [
    "#### Policy holders with sum of exposure == 1, 32%"
   ]
  },
  {
   "cell_type": "code",
   "execution_count": 87,
   "id": "3116b049-38b3-4499-8688-0f22a0b41104",
   "metadata": {},
   "outputs": [
    {
     "data": {
      "text/plain": [
       "Exposure  sum      0.311904\n",
       "          count    0.311904\n",
       "dtype: float64"
      ]
     },
     "execution_count": 87,
     "metadata": {},
     "output_type": "execute_result"
    }
   ],
   "source": [
    "(unique_feat[unique_feat[('Exposure',   'sum')] ==1].count() )/ (unique_feat.count() )"
   ]
  },
  {
   "cell_type": "markdown",
   "id": "83ad93fb-6bc3-47e3-b665-439adde75957",
   "metadata": {
    "tags": [
     "type:NotebookTask"
    ]
   },
   "source": [
    "## 5. Exploratory data analysis"
   ]
  },
  {
   "cell_type": "markdown",
   "id": "c764b553-4881-4bed-9029-5894b52c9f59",
   "metadata": {},
   "source": [
    "### Dealing with Exposure >1 and claims > 4"
   ]
  },
  {
   "cell_type": "markdown",
   "id": "d43bb6d3-4d60-433d-94a2-41599a858d5d",
   "metadata": {
    "tags": [
     "@context"
    ]
   },
   "source": [
    "**[Context for Task 5]**\n",
    "\n",
    "In this task, we will discuss how to modify the rating factors in order to make them usable for risk modeling. Also, we will introduce how to perform a univariate/multivariate analysis of each rating factor in terms of volumes and observed frequency/severity, which lay the ground for exploring dependence structure among feature components and for risk modeling as well.\n",
    "\n"
   ]
  },
  {
   "cell_type": "markdown",
   "id": "84e47b9f-8ca5-4ae4-8131-11e9ba47e5ab",
   "metadata": {
    "tags": [
     "@instructions"
    ]
   },
   "source": [
    "**[Add instructions]**\n",
    "\n",
    "- Plot empirical distribution for `Exposure` and `CliamNb`. Please also plot empirical distribution for those policies whose `Exposure` > 1 and `ClaimNb` > 4."
   ]
  },
  {
   "cell_type": "markdown",
   "id": "7a2b399b-dc53-4ccb-9313-db9be685bf9d",
   "metadata": {},
   "source": [
    "### Sample Code"
   ]
  },
  {
   "cell_type": "markdown",
   "id": "4cc8f6ce-f8e3-4ba6-8797-397c37975c33",
   "metadata": {
    "tags": [
     "@sample_code"
    ]
   },
   "source": [
    "#### ClaimNb looks already like a Poisson variable"
   ]
  },
  {
   "cell_type": "code",
   "execution_count": 94,
   "id": "32e9dbb0-902e-48fe-b3a0-2eb71dd5aee9",
   "metadata": {
    "tags": [
     "@sample_code"
    ]
   },
   "outputs": [
    {
     "data": {
      "text/plain": [
       "array([[<AxesSubplot:title={'center':'Exposure'}>,\n",
       "        <AxesSubplot:title={'center':'ClaimNb'}>]], dtype=object)"
      ]
     },
     "execution_count": 94,
     "metadata": {},
     "output_type": "execute_result"
    },
    {
     "data": {
      "image/png": "[encoded data removed]",
      "text/plain": [
       "<Figure size 432x288 with 2 Axes>"
      ]
     },
     "metadata": {
      "needs_background": "light"
     },
     "output_type": "display_data"
    }
   ],
   "source": [
    "pol_clm_db[['Exposure','ClaimNb']].hist(bins = 30)"
   ]
  },
  {
   "cell_type": "markdown",
   "id": "e0095d4b-c711-4bc0-84e6-bea717cbc977",
   "metadata": {},
   "source": [
    "#### Plots for Exposure > 1 and ClaimNb > 4."
   ]
  },
  {
   "cell_type": "markdown",
   "id": "f245f705-2376-4be5-bfc2-947d46949df1",
   "metadata": {},
   "source": [
    "##### there are no policies with both conditions.\n",
    "I will check one by one"
   ]
  },
  {
   "cell_type": "code",
   "execution_count": 97,
   "id": "2e2fa71a-f897-46cd-8f46-22a640e35dff",
   "metadata": {},
   "outputs": [
    {
     "data": {
      "text/plain": [
       "count    1224.000000\n",
       "mean        0.044118\n",
       "std         0.217052\n",
       "min         0.000000\n",
       "25%         0.000000\n",
       "50%         0.000000\n",
       "75%         0.000000\n",
       "max         2.000000\n",
       "Name: ClaimNb, dtype: float64"
      ]
     },
     "execution_count": 97,
     "metadata": {},
     "output_type": "execute_result"
    }
   ],
   "source": [
    "pol_clm_db[pol_clm_db['Exposure']>1]['ClaimNb'].describe()\n"
   ]
  },
  {
   "cell_type": "markdown",
   "id": "a3c48f9a-5d13-4978-b214-4c799df88367",
   "metadata": {},
   "source": [
    "##### Plots for Exposure > 1 "
   ]
  },
  {
   "cell_type": "code",
   "execution_count": 99,
   "id": "5bffc225-ac6c-4c91-bde3-e4fe7e980875",
   "metadata": {},
   "outputs": [
    {
     "data": {
      "text/plain": [
       "array([[<AxesSubplot:title={'center':'Exposure'}>,\n",
       "        <AxesSubplot:title={'center':'ClaimNb'}>]], dtype=object)"
      ]
     },
     "execution_count": 99,
     "metadata": {},
     "output_type": "execute_result"
    },
    {
     "data": {
      "image/png": "[encoded data removed]",
      "text/plain": [
       "<Figure size 432x288 with 2 Axes>"
      ]
     },
     "metadata": {
      "needs_background": "light"
     },
     "output_type": "display_data"
    }
   ],
   "source": [
    "pol_clm_db[pol_clm_db['Exposure']>1][['Exposure','ClaimNb']].hist(bins = 30)"
   ]
  },
  {
   "cell_type": "markdown",
   "id": "e2e1a82e-1370-4be9-a9fa-0b6d70598dd6",
   "metadata": {},
   "source": [
    "##### Plots for Claim Nr > 4"
   ]
  },
  {
   "cell_type": "code",
   "execution_count": 101,
   "id": "f9b13816-6462-47dc-8cf6-c628e87a8868",
   "metadata": {},
   "outputs": [
    {
     "data": {
      "text/plain": [
       "array([[<AxesSubplot:title={'center':'Exposure'}>,\n",
       "        <AxesSubplot:title={'center':'ClaimNb'}>]], dtype=object)"
      ]
     },
     "execution_count": 101,
     "metadata": {},
     "output_type": "execute_result"
    },
    {
     "data": {
      "image/png": "[encoded data removed]",
      "text/plain": [
       "<Figure size 432x288 with 2 Axes>"
      ]
     },
     "metadata": {
      "needs_background": "light"
     },
     "output_type": "display_data"
    }
   ],
   "source": [
    "pol_clm_db[pol_clm_db['ClaimNb']>4][['Exposure','ClaimNb']].hist(bins = 30)"
   ]
  },
  {
   "cell_type": "markdown",
   "id": "15220810-4044-481a-93b7-eb53589b0dec",
   "metadata": {
    "tags": [
     "type:NotebookTask"
    ]
   },
   "source": [
    "## 6. Explanatory variables: duplicates (bonus | difficult)"
   ]
  },
  {
   "cell_type": "markdown",
   "id": "ac8b13b4-8a07-43db-aa83-a33df0db318b",
   "metadata": {
    "tags": [
     "@context"
    ]
   },
   "source": [
    "**[Context for Task 6]**\n",
    "\n",
    "Comment based on the plots from last question: \n",
    "- A significant number of policies have low Exposure, i.e. close to zero.\n",
    "- Distribution of values is reasonable except that a spike (exposure = 0.08) occurs in `Exposure` plot (top left graph). We will further investigate it in the section below.\n",
    "\n",
    "\n",
    "Let's further look into two potential data errors: \n",
    "\n",
    "1. Policies belonging to the same policy holder should normally share same policy ID and be aggregated; Otherwise, when modelling, it will violate the assumption of independent sample.\n",
    "\n",
    "2. Duplicated policy: some policy is split into two parts where the sum of exposure equals the other policy(different `IDpol`) in this dataset.\n",
    "\n",
    "we don't fix the error above since it requires more granular information and dedicated efforts, which is not the main aim of this project."
   ]
  },
  {
   "cell_type": "markdown",
   "id": "beabb736-d83b-43ab-af1f-50d93a4ccc84",
   "metadata": {
    "tags": [
     "@instructions"
    ]
   },
   "source": [
    "**[Add instructions]**\n",
    "\n",
    "Find any example/policy that might belong to the same policy holder."
   ]
  },
  {
   "cell_type": "markdown",
   "id": "5e3b4dcf-4ad6-4213-a8cb-5ad43f9acf76",
   "metadata": {},
   "source": [
    "### Comment\n",
    "- I have a new dataset with the rows of all policy holders.\n",
    "- The explanation of the difference in number of claims seems to be in the policy-holder grouping.\n",
    "- the problem of the large exposures remains\n"
   ]
  },
  {
   "cell_type": "markdown",
   "id": "d4fa383a-3c33-4543-8273-5af7d4087194",
   "metadata": {},
   "source": [
    "### Sample Code"
   ]
  },
  {
   "cell_type": "code",
   "execution_count": 107,
   "id": "f6e60dcf-ac3f-46f4-bd57-34c235e3b164",
   "metadata": {
    "tags": [
     "@sample_code"
    ]
   },
   "outputs": [
    {
     "data": {
      "text/plain": [
       "1               3\n",
       "4              11\n",
       "6              15\n",
       "8              18\n",
       "10             25\n",
       "           ...   \n",
       "677922    6114240\n",
       "677946    6114264\n",
       "677948    6114266\n",
       "677974    6114292\n",
       "677996    6114314\n",
       "Name: IDpol, Length: 149248, dtype: int64"
      ]
     },
     "execution_count": 107,
     "metadata": {},
     "output_type": "execute_result"
    }
   ],
   "source": [
    "pol_clm_db[pol_clm_db[grouping_fields].duplicated()]['IDpol']"
   ]
  },
  {
   "cell_type": "markdown",
   "id": "c26ae345-e3e9-4a17-a34c-8608b2800e40",
   "metadata": {},
   "source": [
    "#### From the grouped set, identify those with more than one row. \n",
    "#### and merge the column repeated with the original dataset"
   ]
  },
  {
   "cell_type": "code",
   "execution_count": 109,
   "id": "2c80c7e3-e386-4ed8-8c14-df86d8217950",
   "metadata": {},
   "outputs": [],
   "source": [
    "feat = unique_feat.sort_values(by = ('Exposure',   'count'), ascending = False).reset_index()"
   ]
  },
  {
   "cell_type": "code",
   "execution_count": 110,
   "id": "f8062908-daf8-4c7c-8945-b24302de1a84",
   "metadata": {},
   "outputs": [
    {
     "data": {
      "text/html": [
       "<div>\n",
       "<style scoped>\n",
       "    .dataframe tbody tr th:only-of-type {\n",
       "        vertical-align: middle;\n",
       "    }\n",
       "\n",
       "    .dataframe tbody tr th {\n",
       "        vertical-align: top;\n",
       "    }\n",
       "\n",
       "    .dataframe thead tr th {\n",
       "        text-align: left;\n",
       "    }\n",
       "</style>\n",
       "<table border=\"1\" class=\"dataframe\">\n",
       "  <thead>\n",
       "    <tr>\n",
       "      <th></th>\n",
       "      <th>Area</th>\n",
       "      <th>VehPower</th>\n",
       "      <th>VehAge</th>\n",
       "      <th>DrivAge</th>\n",
       "      <th>BonusMalus</th>\n",
       "      <th>VehBrand</th>\n",
       "      <th>VehGas</th>\n",
       "      <th>Density</th>\n",
       "      <th>Region</th>\n",
       "      <th>counts_feat</th>\n",
       "      <th>sum_exp</th>\n",
       "      <th>repeated</th>\n",
       "    </tr>\n",
       "    <tr>\n",
       "      <th></th>\n",
       "      <th></th>\n",
       "      <th></th>\n",
       "      <th></th>\n",
       "      <th></th>\n",
       "      <th></th>\n",
       "      <th></th>\n",
       "      <th></th>\n",
       "      <th></th>\n",
       "      <th></th>\n",
       "      <th></th>\n",
       "      <th></th>\n",
       "      <th></th>\n",
       "    </tr>\n",
       "  </thead>\n",
       "  <tbody>\n",
       "    <tr>\n",
       "      <th>82086</th>\n",
       "      <td>A</td>\n",
       "      <td>4.0</td>\n",
       "      <td>0.0</td>\n",
       "      <td>19.0</td>\n",
       "      <td>95.0</td>\n",
       "      <td>B12</td>\n",
       "      <td>Regular</td>\n",
       "      <td>28.0</td>\n",
       "      <td>R54</td>\n",
       "      <td>2</td>\n",
       "      <td>0.09</td>\n",
       "      <td>1</td>\n",
       "    </tr>\n",
       "    <tr>\n",
       "      <th>20512</th>\n",
       "      <td>A</td>\n",
       "      <td>4.0</td>\n",
       "      <td>0.0</td>\n",
       "      <td>19.0</td>\n",
       "      <td>100.0</td>\n",
       "      <td>B12</td>\n",
       "      <td>Diesel</td>\n",
       "      <td>20.0</td>\n",
       "      <td>R73</td>\n",
       "      <td>3</td>\n",
       "      <td>0.23</td>\n",
       "      <td>1</td>\n",
       "    </tr>\n",
       "    <tr>\n",
       "      <th>82084</th>\n",
       "      <td>A</td>\n",
       "      <td>4.0</td>\n",
       "      <td>0.0</td>\n",
       "      <td>20.0</td>\n",
       "      <td>100.0</td>\n",
       "      <td>B12</td>\n",
       "      <td>Regular</td>\n",
       "      <td>13.0</td>\n",
       "      <td>R72</td>\n",
       "      <td>2</td>\n",
       "      <td>0.36</td>\n",
       "      <td>1</td>\n",
       "    </tr>\n",
       "    <tr>\n",
       "      <th>82082</th>\n",
       "      <td>A</td>\n",
       "      <td>4.0</td>\n",
       "      <td>0.0</td>\n",
       "      <td>21.0</td>\n",
       "      <td>90.0</td>\n",
       "      <td>B12</td>\n",
       "      <td>Regular</td>\n",
       "      <td>12.0</td>\n",
       "      <td>R73</td>\n",
       "      <td>2</td>\n",
       "      <td>0.16</td>\n",
       "      <td>1</td>\n",
       "    </tr>\n",
       "    <tr>\n",
       "      <th>82080</th>\n",
       "      <td>A</td>\n",
       "      <td>4.0</td>\n",
       "      <td>0.0</td>\n",
       "      <td>21.0</td>\n",
       "      <td>100.0</td>\n",
       "      <td>B1</td>\n",
       "      <td>Regular</td>\n",
       "      <td>21.0</td>\n",
       "      <td>R26</td>\n",
       "      <td>2</td>\n",
       "      <td>0.81</td>\n",
       "      <td>1</td>\n",
       "    </tr>\n",
       "    <tr>\n",
       "      <th>...</th>\n",
       "      <td>...</td>\n",
       "      <td>...</td>\n",
       "      <td>...</td>\n",
       "      <td>...</td>\n",
       "      <td>...</td>\n",
       "      <td>...</td>\n",
       "      <td>...</td>\n",
       "      <td>...</td>\n",
       "      <td>...</td>\n",
       "      <td>...</td>\n",
       "      <td>...</td>\n",
       "      <td>...</td>\n",
       "    </tr>\n",
       "    <tr>\n",
       "      <th>20577</th>\n",
       "      <td>F</td>\n",
       "      <td>15.0</td>\n",
       "      <td>4.0</td>\n",
       "      <td>56.0</td>\n",
       "      <td>50.0</td>\n",
       "      <td>B3</td>\n",
       "      <td>Regular</td>\n",
       "      <td>15703.0</td>\n",
       "      <td>R11</td>\n",
       "      <td>3</td>\n",
       "      <td>0.70</td>\n",
       "      <td>1</td>\n",
       "    </tr>\n",
       "    <tr>\n",
       "      <th>82093</th>\n",
       "      <td>F</td>\n",
       "      <td>15.0</td>\n",
       "      <td>4.0</td>\n",
       "      <td>58.0</td>\n",
       "      <td>50.0</td>\n",
       "      <td>B12</td>\n",
       "      <td>Regular</td>\n",
       "      <td>27000.0</td>\n",
       "      <td>R11</td>\n",
       "      <td>2</td>\n",
       "      <td>0.99</td>\n",
       "      <td>1</td>\n",
       "    </tr>\n",
       "    <tr>\n",
       "      <th>82099</th>\n",
       "      <td>F</td>\n",
       "      <td>15.0</td>\n",
       "      <td>5.0</td>\n",
       "      <td>32.0</td>\n",
       "      <td>64.0</td>\n",
       "      <td>B12</td>\n",
       "      <td>Regular</td>\n",
       "      <td>27000.0</td>\n",
       "      <td>R11</td>\n",
       "      <td>2</td>\n",
       "      <td>0.31</td>\n",
       "      <td>1</td>\n",
       "    </tr>\n",
       "    <tr>\n",
       "      <th>82101</th>\n",
       "      <td>F</td>\n",
       "      <td>15.0</td>\n",
       "      <td>5.0</td>\n",
       "      <td>42.0</td>\n",
       "      <td>50.0</td>\n",
       "      <td>B12</td>\n",
       "      <td>Regular</td>\n",
       "      <td>15703.0</td>\n",
       "      <td>R11</td>\n",
       "      <td>2</td>\n",
       "      <td>0.74</td>\n",
       "      <td>1</td>\n",
       "    </tr>\n",
       "    <tr>\n",
       "      <th>82111</th>\n",
       "      <td>F</td>\n",
       "      <td>15.0</td>\n",
       "      <td>6.0</td>\n",
       "      <td>58.0</td>\n",
       "      <td>50.0</td>\n",
       "      <td>B10</td>\n",
       "      <td>Regular</td>\n",
       "      <td>12374.0</td>\n",
       "      <td>R11</td>\n",
       "      <td>2</td>\n",
       "      <td>0.46</td>\n",
       "      <td>1</td>\n",
       "    </tr>\n",
       "  </tbody>\n",
       "</table>\n",
       "<p>108663 rows × 12 columns</p>\n",
       "</div>"
      ],
      "text/plain": [
       "      Area VehPower VehAge DrivAge BonusMalus VehBrand   VehGas  Density  \\\n",
       "                                                                           \n",
       "82086    A      4.0    0.0    19.0       95.0      B12  Regular     28.0   \n",
       "20512    A      4.0    0.0    19.0      100.0      B12   Diesel     20.0   \n",
       "82084    A      4.0    0.0    20.0      100.0      B12  Regular     13.0   \n",
       "82082    A      4.0    0.0    21.0       90.0      B12  Regular     12.0   \n",
       "82080    A      4.0    0.0    21.0      100.0       B1  Regular     21.0   \n",
       "...    ...      ...    ...     ...        ...      ...      ...      ...   \n",
       "20577    F     15.0    4.0    56.0       50.0       B3  Regular  15703.0   \n",
       "82093    F     15.0    4.0    58.0       50.0      B12  Regular  27000.0   \n",
       "82099    F     15.0    5.0    32.0       64.0      B12  Regular  27000.0   \n",
       "82101    F     15.0    5.0    42.0       50.0      B12  Regular  15703.0   \n",
       "82111    F     15.0    6.0    58.0       50.0      B10  Regular  12374.0   \n",
       "\n",
       "      Region counts_feat sum_exp repeated  \n",
       "                                           \n",
       "82086    R54           2    0.09        1  \n",
       "20512    R73           3    0.23        1  \n",
       "82084    R72           2    0.36        1  \n",
       "82082    R73           2    0.16        1  \n",
       "82080    R26           2    0.81        1  \n",
       "...      ...         ...     ...      ...  \n",
       "20577    R11           3    0.70        1  \n",
       "82093    R11           2    0.99        1  \n",
       "82099    R11           2    0.31        1  \n",
       "82101    R11           2    0.74        1  \n",
       "82111    R11           2    0.46        1  \n",
       "\n",
       "[108663 rows x 12 columns]"
      ]
     },
     "execution_count": 110,
     "metadata": {},
     "output_type": "execute_result"
    }
   ],
   "source": [
    "feat = feat[ feat[('Exposure',   'count')] > 1]\n",
    "feat['counts_feat'] = feat[('Exposure',   'count')]\n",
    "feat['sum_exp'] = feat[('Exposure',   'sum')]\n",
    "feat = feat.drop( ('Exposure',   'sum') , axis = 1)\n",
    "feat = feat.drop( ('Exposure',   'count') , axis = 1)\n",
    "feat['repeated'] = 1\n",
    "feat.sort_values(by = grouping_fields, ascending = True)\n",
    "\n"
   ]
  },
  {
   "cell_type": "markdown",
   "id": "f4930ecb-b5a5-4440-8ccc-c390d08bce3d",
   "metadata": {},
   "source": [
    "### Merge the full dataset by all these to find the repeated"
   ]
  },
  {
   "cell_type": "code",
   "execution_count": 112,
   "id": "326b066f-6d08-4013-b18d-73eee2d9cced",
   "metadata": {},
   "outputs": [
    {
     "name": "stderr",
     "output_type": "stream",
     "text": [
      "/tmp/ipykernel_172/4265164045.py:1: FutureWarning: merging between different levels is deprecated and will be removed in a future version. (1 levels on the left, 2 on the right)\n",
      "  repeated_pol = pol_clm_db.merge(feat, on = grouping_fields, how = 'left')\n",
      "/tmp/ipykernel_172/4265164045.py:1: PerformanceWarning: dropping on a non-lexsorted multi-index without a level parameter may impact performance.\n",
      "  repeated_pol = pol_clm_db.merge(feat, on = grouping_fields, how = 'left')\n"
     ]
    }
   ],
   "source": [
    "repeated_pol = pol_clm_db.merge(feat, on = grouping_fields, how = 'left')"
   ]
  },
  {
   "cell_type": "code",
   "execution_count": 113,
   "id": "68931ad5-45b9-4642-8c28-fc1534da0a94",
   "metadata": {},
   "outputs": [],
   "source": [
    "repeated_pol.columns\n",
    "repeated_pol = repeated_pol[ repeated_pol[('repeated', '')] == 1 ]"
   ]
  },
  {
   "cell_type": "markdown",
   "id": "2d7b3f3c-c439-4511-8eb7-94721be10a67",
   "metadata": {},
   "source": [
    "### View rows with the same characteristics"
   ]
  },
  {
   "cell_type": "code",
   "execution_count": 115,
   "id": "f0e1de06-5e34-4e33-b31d-f8985f53798b",
   "metadata": {},
   "outputs": [
    {
     "data": {
      "text/html": [
       "<div>\n",
       "<style scoped>\n",
       "    .dataframe tbody tr th:only-of-type {\n",
       "        vertical-align: middle;\n",
       "    }\n",
       "\n",
       "    .dataframe tbody tr th {\n",
       "        vertical-align: top;\n",
       "    }\n",
       "\n",
       "    .dataframe thead th {\n",
       "        text-align: right;\n",
       "    }\n",
       "</style>\n",
       "<table border=\"1\" class=\"dataframe\">\n",
       "  <thead>\n",
       "    <tr style=\"text-align: right;\">\n",
       "      <th></th>\n",
       "      <th>index</th>\n",
       "      <th>IDpol</th>\n",
       "      <th>ClaimNb</th>\n",
       "      <th>Exposure</th>\n",
       "      <th>Area</th>\n",
       "      <th>VehPower</th>\n",
       "      <th>VehAge</th>\n",
       "      <th>DrivAge</th>\n",
       "      <th>BonusMalus</th>\n",
       "      <th>VehBrand</th>\n",
       "      <th>VehGas</th>\n",
       "      <th>Density</th>\n",
       "      <th>Region</th>\n",
       "      <th>ClaimAmount</th>\n",
       "      <th>Exposure2</th>\n",
       "      <th>(counts_feat, )</th>\n",
       "      <th>(sum_exp, )</th>\n",
       "      <th>(repeated, )</th>\n",
       "    </tr>\n",
       "  </thead>\n",
       "  <tbody>\n",
       "    <tr>\n",
       "      <th>639673</th>\n",
       "      <td>639673</td>\n",
       "      <td>5107815</td>\n",
       "      <td>0</td>\n",
       "      <td>0.03</td>\n",
       "      <td>A</td>\n",
       "      <td>4.0</td>\n",
       "      <td>0.0</td>\n",
       "      <td>19.0</td>\n",
       "      <td>95.0</td>\n",
       "      <td>B12</td>\n",
       "      <td>Regular</td>\n",
       "      <td>28.0</td>\n",
       "      <td>R54</td>\n",
       "      <td>0.0</td>\n",
       "      <td>0.03</td>\n",
       "      <td>2.0</td>\n",
       "      <td>0.09</td>\n",
       "      <td>1.0</td>\n",
       "    </tr>\n",
       "    <tr>\n",
       "      <th>639674</th>\n",
       "      <td>639674</td>\n",
       "      <td>5107816</td>\n",
       "      <td>0</td>\n",
       "      <td>0.06</td>\n",
       "      <td>A</td>\n",
       "      <td>4.0</td>\n",
       "      <td>0.0</td>\n",
       "      <td>19.0</td>\n",
       "      <td>95.0</td>\n",
       "      <td>B12</td>\n",
       "      <td>Regular</td>\n",
       "      <td>28.0</td>\n",
       "      <td>R54</td>\n",
       "      <td>0.0</td>\n",
       "      <td>0.06</td>\n",
       "      <td>2.0</td>\n",
       "      <td>0.09</td>\n",
       "      <td>1.0</td>\n",
       "    </tr>\n",
       "    <tr>\n",
       "      <th>514181</th>\n",
       "      <td>514181</td>\n",
       "      <td>4063566</td>\n",
       "      <td>0</td>\n",
       "      <td>0.03</td>\n",
       "      <td>A</td>\n",
       "      <td>4.0</td>\n",
       "      <td>0.0</td>\n",
       "      <td>19.0</td>\n",
       "      <td>100.0</td>\n",
       "      <td>B12</td>\n",
       "      <td>Diesel</td>\n",
       "      <td>20.0</td>\n",
       "      <td>R73</td>\n",
       "      <td>0.0</td>\n",
       "      <td>0.03</td>\n",
       "      <td>3.0</td>\n",
       "      <td>0.23</td>\n",
       "      <td>1.0</td>\n",
       "    </tr>\n",
       "    <tr>\n",
       "      <th>514182</th>\n",
       "      <td>514182</td>\n",
       "      <td>4063568</td>\n",
       "      <td>0</td>\n",
       "      <td>0.02</td>\n",
       "      <td>A</td>\n",
       "      <td>4.0</td>\n",
       "      <td>0.0</td>\n",
       "      <td>19.0</td>\n",
       "      <td>100.0</td>\n",
       "      <td>B12</td>\n",
       "      <td>Diesel</td>\n",
       "      <td>20.0</td>\n",
       "      <td>R73</td>\n",
       "      <td>0.0</td>\n",
       "      <td>0.02</td>\n",
       "      <td>3.0</td>\n",
       "      <td>0.23</td>\n",
       "      <td>1.0</td>\n",
       "    </tr>\n",
       "    <tr>\n",
       "      <th>514183</th>\n",
       "      <td>514183</td>\n",
       "      <td>4063569</td>\n",
       "      <td>0</td>\n",
       "      <td>0.18</td>\n",
       "      <td>A</td>\n",
       "      <td>4.0</td>\n",
       "      <td>0.0</td>\n",
       "      <td>19.0</td>\n",
       "      <td>100.0</td>\n",
       "      <td>B12</td>\n",
       "      <td>Diesel</td>\n",
       "      <td>20.0</td>\n",
       "      <td>R73</td>\n",
       "      <td>0.0</td>\n",
       "      <td>0.18</td>\n",
       "      <td>3.0</td>\n",
       "      <td>0.23</td>\n",
       "      <td>1.0</td>\n",
       "    </tr>\n",
       "    <tr>\n",
       "      <th>...</th>\n",
       "      <td>...</td>\n",
       "      <td>...</td>\n",
       "      <td>...</td>\n",
       "      <td>...</td>\n",
       "      <td>...</td>\n",
       "      <td>...</td>\n",
       "      <td>...</td>\n",
       "      <td>...</td>\n",
       "      <td>...</td>\n",
       "      <td>...</td>\n",
       "      <td>...</td>\n",
       "      <td>...</td>\n",
       "      <td>...</td>\n",
       "      <td>...</td>\n",
       "      <td>...</td>\n",
       "      <td>...</td>\n",
       "      <td>...</td>\n",
       "      <td>...</td>\n",
       "    </tr>\n",
       "    <tr>\n",
       "      <th>576975</th>\n",
       "      <td>576975</td>\n",
       "      <td>4168153</td>\n",
       "      <td>0</td>\n",
       "      <td>0.28</td>\n",
       "      <td>F</td>\n",
       "      <td>15.0</td>\n",
       "      <td>5.0</td>\n",
       "      <td>32.0</td>\n",
       "      <td>64.0</td>\n",
       "      <td>B12</td>\n",
       "      <td>Regular</td>\n",
       "      <td>27000.0</td>\n",
       "      <td>R11</td>\n",
       "      <td>0.0</td>\n",
       "      <td>0.28</td>\n",
       "      <td>2.0</td>\n",
       "      <td>0.31</td>\n",
       "      <td>1.0</td>\n",
       "    </tr>\n",
       "    <tr>\n",
       "      <th>670767</th>\n",
       "      <td>670767</td>\n",
       "      <td>6104233</td>\n",
       "      <td>0</td>\n",
       "      <td>0.70</td>\n",
       "      <td>F</td>\n",
       "      <td>15.0</td>\n",
       "      <td>5.0</td>\n",
       "      <td>42.0</td>\n",
       "      <td>50.0</td>\n",
       "      <td>B12</td>\n",
       "      <td>Regular</td>\n",
       "      <td>15703.0</td>\n",
       "      <td>R11</td>\n",
       "      <td>0.0</td>\n",
       "      <td>0.70</td>\n",
       "      <td>2.0</td>\n",
       "      <td>0.74</td>\n",
       "      <td>1.0</td>\n",
       "    </tr>\n",
       "    <tr>\n",
       "      <th>670768</th>\n",
       "      <td>670768</td>\n",
       "      <td>6104236</td>\n",
       "      <td>0</td>\n",
       "      <td>0.04</td>\n",
       "      <td>F</td>\n",
       "      <td>15.0</td>\n",
       "      <td>5.0</td>\n",
       "      <td>42.0</td>\n",
       "      <td>50.0</td>\n",
       "      <td>B12</td>\n",
       "      <td>Regular</td>\n",
       "      <td>15703.0</td>\n",
       "      <td>R11</td>\n",
       "      <td>0.0</td>\n",
       "      <td>0.04</td>\n",
       "      <td>2.0</td>\n",
       "      <td>0.74</td>\n",
       "      <td>1.0</td>\n",
       "    </tr>\n",
       "    <tr>\n",
       "      <th>576961</th>\n",
       "      <td>576961</td>\n",
       "      <td>4168139</td>\n",
       "      <td>0</td>\n",
       "      <td>0.21</td>\n",
       "      <td>F</td>\n",
       "      <td>15.0</td>\n",
       "      <td>6.0</td>\n",
       "      <td>58.0</td>\n",
       "      <td>50.0</td>\n",
       "      <td>B10</td>\n",
       "      <td>Regular</td>\n",
       "      <td>12374.0</td>\n",
       "      <td>R11</td>\n",
       "      <td>0.0</td>\n",
       "      <td>0.21</td>\n",
       "      <td>2.0</td>\n",
       "      <td>0.46</td>\n",
       "      <td>1.0</td>\n",
       "    </tr>\n",
       "    <tr>\n",
       "      <th>576962</th>\n",
       "      <td>576962</td>\n",
       "      <td>4168140</td>\n",
       "      <td>0</td>\n",
       "      <td>0.25</td>\n",
       "      <td>F</td>\n",
       "      <td>15.0</td>\n",
       "      <td>6.0</td>\n",
       "      <td>58.0</td>\n",
       "      <td>50.0</td>\n",
       "      <td>B10</td>\n",
       "      <td>Regular</td>\n",
       "      <td>12374.0</td>\n",
       "      <td>R11</td>\n",
       "      <td>0.0</td>\n",
       "      <td>0.25</td>\n",
       "      <td>2.0</td>\n",
       "      <td>0.46</td>\n",
       "      <td>1.0</td>\n",
       "    </tr>\n",
       "  </tbody>\n",
       "</table>\n",
       "<p>257911 rows × 18 columns</p>\n",
       "</div>"
      ],
      "text/plain": [
       "         index    IDpol  ClaimNb  Exposure Area  VehPower  VehAge  DrivAge  \\\n",
       "639673  639673  5107815        0      0.03    A       4.0     0.0     19.0   \n",
       "639674  639674  5107816        0      0.06    A       4.0     0.0     19.0   \n",
       "514181  514181  4063566        0      0.03    A       4.0     0.0     19.0   \n",
       "514182  514182  4063568        0      0.02    A       4.0     0.0     19.0   \n",
       "514183  514183  4063569        0      0.18    A       4.0     0.0     19.0   \n",
       "...        ...      ...      ...       ...  ...       ...     ...      ...   \n",
       "576975  576975  4168153        0      0.28    F      15.0     5.0     32.0   \n",
       "670767  670767  6104233        0      0.70    F      15.0     5.0     42.0   \n",
       "670768  670768  6104236        0      0.04    F      15.0     5.0     42.0   \n",
       "576961  576961  4168139        0      0.21    F      15.0     6.0     58.0   \n",
       "576962  576962  4168140        0      0.25    F      15.0     6.0     58.0   \n",
       "\n",
       "        BonusMalus VehBrand   VehGas  Density Region  ClaimAmount  Exposure2  \\\n",
       "639673        95.0      B12  Regular     28.0    R54          0.0       0.03   \n",
       "639674        95.0      B12  Regular     28.0    R54          0.0       0.06   \n",
       "514181       100.0      B12   Diesel     20.0    R73          0.0       0.03   \n",
       "514182       100.0      B12   Diesel     20.0    R73          0.0       0.02   \n",
       "514183       100.0      B12   Diesel     20.0    R73          0.0       0.18   \n",
       "...            ...      ...      ...      ...    ...          ...        ...   \n",
       "576975        64.0      B12  Regular  27000.0    R11          0.0       0.28   \n",
       "670767        50.0      B12  Regular  15703.0    R11          0.0       0.70   \n",
       "670768        50.0      B12  Regular  15703.0    R11          0.0       0.04   \n",
       "576961        50.0      B10  Regular  12374.0    R11          0.0       0.21   \n",
       "576962        50.0      B10  Regular  12374.0    R11          0.0       0.25   \n",
       "\n",
       "        (counts_feat, )  (sum_exp, )  (repeated, )  \n",
       "639673              2.0         0.09           1.0  \n",
       "639674              2.0         0.09           1.0  \n",
       "514181              3.0         0.23           1.0  \n",
       "514182              3.0         0.23           1.0  \n",
       "514183              3.0         0.23           1.0  \n",
       "...                 ...          ...           ...  \n",
       "576975              2.0         0.31           1.0  \n",
       "670767              2.0         0.74           1.0  \n",
       "670768              2.0         0.74           1.0  \n",
       "576961              2.0         0.46           1.0  \n",
       "576962              2.0         0.46           1.0  \n",
       "\n",
       "[257911 rows x 18 columns]"
      ]
     },
     "execution_count": 115,
     "metadata": {},
     "output_type": "execute_result"
    }
   ],
   "source": [
    "repeated_pol.sort_values(by = grouping_fields, ascending = True)"
   ]
  },
  {
   "cell_type": "markdown",
   "id": "49677245-1b03-412a-a387-80b4081a8b95",
   "metadata": {},
   "source": [
    "### New Number of claims\n",
    "\n",
    "The number of claims in the repeated dataset is very close to the number of mismatched extra claims"
   ]
  },
  {
   "cell_type": "code",
   "execution_count": 117,
   "id": "3088424a-70bc-45e7-95b4-275cf8710480",
   "metadata": {},
   "outputs": [
    {
     "data": {
      "text/plain": [
       "10051"
      ]
     },
     "execution_count": 117,
     "metadata": {},
     "output_type": "execute_result"
    }
   ],
   "source": [
    "### how many claims are repeated (in the repeated set)\n",
    "ClaimNbrep = repeated_pol['ClaimNb'].sum()\n",
    "ClaimNbrep\n"
   ]
  },
  {
   "cell_type": "code",
   "execution_count": 118,
   "id": "eac67d80-7fdc-4786-ba99-edee10311181",
   "metadata": {},
   "outputs": [
    {
     "data": {
      "text/plain": [
       "26051"
      ]
     },
     "execution_count": 118,
     "metadata": {},
     "output_type": "execute_result"
    }
   ],
   "source": [
    "pol_clm_db['ClaimNb'].sum() - ClaimNbrep"
   ]
  },
  {
   "cell_type": "code",
   "execution_count": 119,
   "id": "b0ec88a0-fdf3-4b89-825e-dfd6a10f1ad3",
   "metadata": {},
   "outputs": [
    {
     "data": {
      "text/plain": [
       "26639"
      ]
     },
     "execution_count": 119,
     "metadata": {},
     "output_type": "execute_result"
    }
   ],
   "source": [
    "len(claims_original)"
   ]
  },
  {
   "cell_type": "markdown",
   "id": "d4d92ea2-f9c8-4bf9-9ffb-b8a6f582d731",
   "metadata": {},
   "source": [
    "### this seems to be the solution for the difference in claims in the two files"
   ]
  },
  {
   "cell_type": "markdown",
   "id": "5e8a6df6-cb46-4dd5-a6ea-f49535e4b731",
   "metadata": {},
   "source": [
    "##### An alternative to the analysis would be to keep the rows grouped and not summing up the ClaimNb of the rows. \n",
    "I decide not to do this because I do not yet know how to explain the exposures larger than 12"
   ]
  },
  {
   "cell_type": "markdown",
   "id": "490ce032-66fe-494d-b249-69ca086774af",
   "metadata": {
    "tags": [
     "type:NotebookTask"
    ]
   },
   "source": [
    "## 7. Abnormal behavior"
   ]
  },
  {
   "cell_type": "markdown",
   "id": "9f794d3f-b725-4a17-a969-91eb216c7b75",
   "metadata": {
    "tags": [
     "@context"
    ]
   },
   "source": [
    "**[Context for Task 7]**\n",
    "\n",
    "As mentioned previously, there is a spike in exposure histogram where exposure = 0.08. Figure out potential reasons for this abnormal behavior."
   ]
  },
  {
   "cell_type": "markdown",
   "id": "3ecc6dd1-4592-4786-8b61-c972a5fcbedb",
   "metadata": {
    "tags": [
     "@instructions"
    ]
   },
   "source": [
    "**[Add Instructions]**\n",
    "\n",
    "- Figure out potential reasons for this abnormal behavior."
   ]
  },
  {
   "cell_type": "markdown",
   "id": "b0f14f2c-6be8-4e99-9e92-0bf934665d26",
   "metadata": {},
   "source": [
    "### Comment\n",
    "- Policies of about a month, can be a grace period.\n",
    "- We see that they are newer cars and of a specific brand.\n",
    "    - Rental cars or a fleet"
   ]
  },
  {
   "cell_type": "markdown",
   "id": "342651c3-406a-4f6b-894d-e93131edd657",
   "metadata": {},
   "source": [
    "### Sample Code"
   ]
  },
  {
   "cell_type": "code",
   "execution_count": 127,
   "id": "b2e5dff7-c662-4b1f-b21b-cc32b3893166",
   "metadata": {
    "tags": [
     "@sample_code"
    ]
   },
   "outputs": [
    {
     "data": {
      "text/plain": [
       "array([[<AxesSubplot:title={'center':'Exposure'}>]], dtype=object)"
      ]
     },
     "execution_count": 127,
     "metadata": {},
     "output_type": "execute_result"
    },
    {
     "data": {
      "image/png": "[encoded data removed]",
      "text/plain": [
       "<Figure size 432x288 with 1 Axes>"
      ]
     },
     "metadata": {
      "needs_background": "light"
     },
     "output_type": "display_data"
    }
   ],
   "source": [
    "pol_clm_db[pol_clm_db['Exposure']<1].hist(bins=100, column='Exposure')\n"
   ]
  },
  {
   "cell_type": "code",
   "execution_count": 128,
   "id": "be18de48-a5e1-4939-8480-43e3e89009d7",
   "metadata": {},
   "outputs": [
    {
     "data": {
      "text/plain": [
       "29.2"
      ]
     },
     "execution_count": 128,
     "metadata": {},
     "output_type": "execute_result"
    }
   ],
   "source": [
    "365*.08"
   ]
  },
  {
   "cell_type": "markdown",
   "id": "57272c6c-ab4f-4728-b0be-1039ee6b3fa2",
   "metadata": {},
   "source": [
    "#### It's roughly a month  -  \n",
    "\n",
    "##### Grace period?\n",
    "##### rental car?\n"
   ]
  },
  {
   "cell_type": "markdown",
   "id": "fabd6626-de8d-4531-baac-8e522a53eca5",
   "metadata": {},
   "source": [
    "### describe all variables for policies in the spike Vs not in the spike (numeric)"
   ]
  },
  {
   "cell_type": "code",
   "execution_count": 131,
   "id": "5f1c9d61-f79a-4744-997a-864f079eca78",
   "metadata": {},
   "outputs": [
    {
     "data": {
      "text/html": [
       "<div>\n",
       "<style scoped>\n",
       "    .dataframe tbody tr th:only-of-type {\n",
       "        vertical-align: middle;\n",
       "    }\n",
       "\n",
       "    .dataframe tbody tr th {\n",
       "        vertical-align: top;\n",
       "    }\n",
       "\n",
       "    .dataframe thead th {\n",
       "        text-align: right;\n",
       "    }\n",
       "</style>\n",
       "<table border=\"1\" class=\"dataframe\">\n",
       "  <thead>\n",
       "    <tr style=\"text-align: right;\">\n",
       "      <th></th>\n",
       "      <th>index</th>\n",
       "      <th>IDpol</th>\n",
       "      <th>ClaimNb</th>\n",
       "      <th>Exposure</th>\n",
       "      <th>VehPower</th>\n",
       "      <th>VehAge</th>\n",
       "      <th>DrivAge</th>\n",
       "      <th>BonusMalus</th>\n",
       "      <th>Density</th>\n",
       "      <th>ClaimAmount</th>\n",
       "      <th>Exposure2</th>\n",
       "    </tr>\n",
       "  </thead>\n",
       "  <tbody>\n",
       "    <tr>\n",
       "      <th>count</th>\n",
       "      <td>674036.000000</td>\n",
       "      <td>6.740360e+05</td>\n",
       "      <td>674036.000000</td>\n",
       "      <td>674036.000000</td>\n",
       "      <td>674036.000000</td>\n",
       "      <td>674036.000000</td>\n",
       "      <td>674036.000000</td>\n",
       "      <td>674036.000000</td>\n",
       "      <td>674036.000000</td>\n",
       "      <td>6.740360e+05</td>\n",
       "      <td>674036.000000</td>\n",
       "    </tr>\n",
       "    <tr>\n",
       "      <th>mean</th>\n",
       "      <td>338953.650901</td>\n",
       "      <td>2.620828e+06</td>\n",
       "      <td>0.053159</td>\n",
       "      <td>0.527150</td>\n",
       "      <td>6.454667</td>\n",
       "      <td>7.053454</td>\n",
       "      <td>45.496071</td>\n",
       "      <td>59.763395</td>\n",
       "      <td>1791.837571</td>\n",
       "      <td>8.825967e+01</td>\n",
       "      <td>0.526943</td>\n",
       "    </tr>\n",
       "    <tr>\n",
       "      <th>std</th>\n",
       "      <td>195730.588250</td>\n",
       "      <td>1.642239e+06</td>\n",
       "      <td>0.239975</td>\n",
       "      <td>0.364917</td>\n",
       "      <td>2.050545</td>\n",
       "      <td>5.668845</td>\n",
       "      <td>14.139745</td>\n",
       "      <td>15.638858</td>\n",
       "      <td>3958.620158</td>\n",
       "      <td>5.839086e+03</td>\n",
       "      <td>0.364554</td>\n",
       "    </tr>\n",
       "    <tr>\n",
       "      <th>min</th>\n",
       "      <td>0.000000</td>\n",
       "      <td>1.000000e+00</td>\n",
       "      <td>0.000000</td>\n",
       "      <td>0.002732</td>\n",
       "      <td>4.000000</td>\n",
       "      <td>0.000000</td>\n",
       "      <td>18.000000</td>\n",
       "      <td>50.000000</td>\n",
       "      <td>1.000000</td>\n",
       "      <td>0.000000e+00</td>\n",
       "      <td>0.002732</td>\n",
       "    </tr>\n",
       "    <tr>\n",
       "      <th>25%</th>\n",
       "      <td>169380.750000</td>\n",
       "      <td>1.157680e+06</td>\n",
       "      <td>0.000000</td>\n",
       "      <td>0.170000</td>\n",
       "      <td>5.000000</td>\n",
       "      <td>2.000000</td>\n",
       "      <td>34.000000</td>\n",
       "      <td>50.000000</td>\n",
       "      <td>92.000000</td>\n",
       "      <td>0.000000e+00</td>\n",
       "      <td>0.170000</td>\n",
       "    </tr>\n",
       "    <tr>\n",
       "      <th>50%</th>\n",
       "      <td>338780.500000</td>\n",
       "      <td>2.271926e+06</td>\n",
       "      <td>0.000000</td>\n",
       "      <td>0.490000</td>\n",
       "      <td>6.000000</td>\n",
       "      <td>6.000000</td>\n",
       "      <td>44.000000</td>\n",
       "      <td>50.000000</td>\n",
       "      <td>393.000000</td>\n",
       "      <td>0.000000e+00</td>\n",
       "      <td>0.490000</td>\n",
       "    </tr>\n",
       "    <tr>\n",
       "      <th>75%</th>\n",
       "      <td>508365.250000</td>\n",
       "      <td>4.045868e+06</td>\n",
       "      <td>0.000000</td>\n",
       "      <td>1.000000</td>\n",
       "      <td>7.000000</td>\n",
       "      <td>11.000000</td>\n",
       "      <td>55.000000</td>\n",
       "      <td>64.000000</td>\n",
       "      <td>1635.000000</td>\n",
       "      <td>0.000000e+00</td>\n",
       "      <td>1.000000</td>\n",
       "    </tr>\n",
       "    <tr>\n",
       "      <th>max</th>\n",
       "      <td>678012.000000</td>\n",
       "      <td>6.114330e+06</td>\n",
       "      <td>16.000000</td>\n",
       "      <td>2.010000</td>\n",
       "      <td>15.000000</td>\n",
       "      <td>100.000000</td>\n",
       "      <td>100.000000</td>\n",
       "      <td>230.000000</td>\n",
       "      <td>27000.000000</td>\n",
       "      <td>4.075401e+06</td>\n",
       "      <td>1.000000</td>\n",
       "    </tr>\n",
       "  </tbody>\n",
       "</table>\n",
       "</div>"
      ],
      "text/plain": [
       "               index         IDpol        ClaimNb       Exposure  \\\n",
       "count  674036.000000  6.740360e+05  674036.000000  674036.000000   \n",
       "mean   338953.650901  2.620828e+06       0.053159       0.527150   \n",
       "std    195730.588250  1.642239e+06       0.239975       0.364917   \n",
       "min         0.000000  1.000000e+00       0.000000       0.002732   \n",
       "25%    169380.750000  1.157680e+06       0.000000       0.170000   \n",
       "50%    338780.500000  2.271926e+06       0.000000       0.490000   \n",
       "75%    508365.250000  4.045868e+06       0.000000       1.000000   \n",
       "max    678012.000000  6.114330e+06      16.000000       2.010000   \n",
       "\n",
       "            VehPower         VehAge        DrivAge     BonusMalus  \\\n",
       "count  674036.000000  674036.000000  674036.000000  674036.000000   \n",
       "mean        6.454667       7.053454      45.496071      59.763395   \n",
       "std         2.050545       5.668845      14.139745      15.638858   \n",
       "min         4.000000       0.000000      18.000000      50.000000   \n",
       "25%         5.000000       2.000000      34.000000      50.000000   \n",
       "50%         6.000000       6.000000      44.000000      50.000000   \n",
       "75%         7.000000      11.000000      55.000000      64.000000   \n",
       "max        15.000000     100.000000     100.000000     230.000000   \n",
       "\n",
       "             Density   ClaimAmount      Exposure2  \n",
       "count  674036.000000  6.740360e+05  674036.000000  \n",
       "mean     1791.837571  8.825967e+01       0.526943  \n",
       "std      3958.620158  5.839086e+03       0.364554  \n",
       "min         1.000000  0.000000e+00       0.002732  \n",
       "25%        92.000000  0.000000e+00       0.170000  \n",
       "50%       393.000000  0.000000e+00       0.490000  \n",
       "75%      1635.000000  0.000000e+00       1.000000  \n",
       "max     27000.000000  4.075401e+06       1.000000  "
      ]
     },
     "execution_count": 131,
     "metadata": {},
     "output_type": "execute_result"
    }
   ],
   "source": [
    "not_08 = pol_clm_db[ pol_clm_db['Exposure']!=0.8 ]\n",
    "not_08.describe()"
   ]
  },
  {
   "cell_type": "code",
   "execution_count": 132,
   "id": "4079a394-454e-4066-bc43-5a1a9d5bb7c3",
   "metadata": {},
   "outputs": [
    {
     "data": {
      "text/html": [
       "<div>\n",
       "<style scoped>\n",
       "    .dataframe tbody tr th:only-of-type {\n",
       "        vertical-align: middle;\n",
       "    }\n",
       "\n",
       "    .dataframe tbody tr th {\n",
       "        vertical-align: top;\n",
       "    }\n",
       "\n",
       "    .dataframe thead th {\n",
       "        text-align: right;\n",
       "    }\n",
       "</style>\n",
       "<table border=\"1\" class=\"dataframe\">\n",
       "  <thead>\n",
       "    <tr style=\"text-align: right;\">\n",
       "      <th></th>\n",
       "      <th>index</th>\n",
       "      <th>IDpol</th>\n",
       "      <th>ClaimNb</th>\n",
       "      <th>Exposure</th>\n",
       "      <th>VehPower</th>\n",
       "      <th>VehAge</th>\n",
       "      <th>DrivAge</th>\n",
       "      <th>BonusMalus</th>\n",
       "      <th>Density</th>\n",
       "      <th>ClaimAmount</th>\n",
       "      <th>Exposure2</th>\n",
       "    </tr>\n",
       "  </thead>\n",
       "  <tbody>\n",
       "    <tr>\n",
       "      <th>count</th>\n",
       "      <td>3977.000000</td>\n",
       "      <td>3.977000e+03</td>\n",
       "      <td>3977.000000</td>\n",
       "      <td>3.977000e+03</td>\n",
       "      <td>3977.000000</td>\n",
       "      <td>3977.000000</td>\n",
       "      <td>3977.000000</td>\n",
       "      <td>3977.000000</td>\n",
       "      <td>3977.000000</td>\n",
       "      <td>3977.000000</td>\n",
       "      <td>3.977000e+03</td>\n",
       "    </tr>\n",
       "    <tr>\n",
       "      <th>mean</th>\n",
       "      <td>347878.310033</td>\n",
       "      <td>2.796195e+06</td>\n",
       "      <td>0.068142</td>\n",
       "      <td>8.000000e-01</td>\n",
       "      <td>6.448579</td>\n",
       "      <td>5.486799</td>\n",
       "      <td>46.016093</td>\n",
       "      <td>59.440533</td>\n",
       "      <td>1891.542117</td>\n",
       "      <td>105.361323</td>\n",
       "      <td>8.000000e-01</td>\n",
       "    </tr>\n",
       "    <tr>\n",
       "      <th>std</th>\n",
       "      <td>194706.123139</td>\n",
       "      <td>1.552868e+06</td>\n",
       "      <td>0.262769</td>\n",
       "      <td>4.408140e-14</td>\n",
       "      <td>2.111441</td>\n",
       "      <td>4.964957</td>\n",
       "      <td>13.733917</td>\n",
       "      <td>15.257631</td>\n",
       "      <td>3962.370453</td>\n",
       "      <td>1014.611562</td>\n",
       "      <td>4.408140e-14</td>\n",
       "    </tr>\n",
       "    <tr>\n",
       "      <th>min</th>\n",
       "      <td>32.000000</td>\n",
       "      <td>6.700000e+01</td>\n",
       "      <td>0.000000</td>\n",
       "      <td>8.000000e-01</td>\n",
       "      <td>4.000000</td>\n",
       "      <td>0.000000</td>\n",
       "      <td>18.000000</td>\n",
       "      <td>50.000000</td>\n",
       "      <td>3.000000</td>\n",
       "      <td>0.000000</td>\n",
       "      <td>8.000000e-01</td>\n",
       "    </tr>\n",
       "    <tr>\n",
       "      <th>25%</th>\n",
       "      <td>199941.000000</td>\n",
       "      <td>2.001668e+06</td>\n",
       "      <td>0.000000</td>\n",
       "      <td>8.000000e-01</td>\n",
       "      <td>5.000000</td>\n",
       "      <td>2.000000</td>\n",
       "      <td>35.000000</td>\n",
       "      <td>50.000000</td>\n",
       "      <td>103.000000</td>\n",
       "      <td>0.000000</td>\n",
       "      <td>8.000000e-01</td>\n",
       "    </tr>\n",
       "    <tr>\n",
       "      <th>50%</th>\n",
       "      <td>362288.000000</td>\n",
       "      <td>3.012230e+06</td>\n",
       "      <td>0.000000</td>\n",
       "      <td>8.000000e-01</td>\n",
       "      <td>6.000000</td>\n",
       "      <td>4.000000</td>\n",
       "      <td>45.000000</td>\n",
       "      <td>50.000000</td>\n",
       "      <td>411.000000</td>\n",
       "      <td>0.000000</td>\n",
       "      <td>8.000000e-01</td>\n",
       "    </tr>\n",
       "    <tr>\n",
       "      <th>75%</th>\n",
       "      <td>551080.000000</td>\n",
       "      <td>4.142258e+06</td>\n",
       "      <td>0.000000</td>\n",
       "      <td>8.000000e-01</td>\n",
       "      <td>7.000000</td>\n",
       "      <td>9.000000</td>\n",
       "      <td>55.000000</td>\n",
       "      <td>64.000000</td>\n",
       "      <td>1955.000000</td>\n",
       "      <td>0.000000</td>\n",
       "      <td>8.000000e-01</td>\n",
       "    </tr>\n",
       "    <tr>\n",
       "      <th>max</th>\n",
       "      <td>631517.000000</td>\n",
       "      <td>5.091173e+06</td>\n",
       "      <td>2.000000</td>\n",
       "      <td>8.000000e-01</td>\n",
       "      <td>15.000000</td>\n",
       "      <td>30.000000</td>\n",
       "      <td>95.000000</td>\n",
       "      <td>156.000000</td>\n",
       "      <td>27000.000000</td>\n",
       "      <td>43742.040000</td>\n",
       "      <td>8.000000e-01</td>\n",
       "    </tr>\n",
       "  </tbody>\n",
       "</table>\n",
       "</div>"
      ],
      "text/plain": [
       "               index         IDpol      ClaimNb      Exposure     VehPower  \\\n",
       "count    3977.000000  3.977000e+03  3977.000000  3.977000e+03  3977.000000   \n",
       "mean   347878.310033  2.796195e+06     0.068142  8.000000e-01     6.448579   \n",
       "std    194706.123139  1.552868e+06     0.262769  4.408140e-14     2.111441   \n",
       "min        32.000000  6.700000e+01     0.000000  8.000000e-01     4.000000   \n",
       "25%    199941.000000  2.001668e+06     0.000000  8.000000e-01     5.000000   \n",
       "50%    362288.000000  3.012230e+06     0.000000  8.000000e-01     6.000000   \n",
       "75%    551080.000000  4.142258e+06     0.000000  8.000000e-01     7.000000   \n",
       "max    631517.000000  5.091173e+06     2.000000  8.000000e-01    15.000000   \n",
       "\n",
       "            VehAge      DrivAge   BonusMalus       Density   ClaimAmount  \\\n",
       "count  3977.000000  3977.000000  3977.000000   3977.000000   3977.000000   \n",
       "mean      5.486799    46.016093    59.440533   1891.542117    105.361323   \n",
       "std       4.964957    13.733917    15.257631   3962.370453   1014.611562   \n",
       "min       0.000000    18.000000    50.000000      3.000000      0.000000   \n",
       "25%       2.000000    35.000000    50.000000    103.000000      0.000000   \n",
       "50%       4.000000    45.000000    50.000000    411.000000      0.000000   \n",
       "75%       9.000000    55.000000    64.000000   1955.000000      0.000000   \n",
       "max      30.000000    95.000000   156.000000  27000.000000  43742.040000   \n",
       "\n",
       "          Exposure2  \n",
       "count  3.977000e+03  \n",
       "mean   8.000000e-01  \n",
       "std    4.408140e-14  \n",
       "min    8.000000e-01  \n",
       "25%    8.000000e-01  \n",
       "50%    8.000000e-01  \n",
       "75%    8.000000e-01  \n",
       "max    8.000000e-01  "
      ]
     },
     "execution_count": 132,
     "metadata": {},
     "output_type": "execute_result"
    }
   ],
   "source": [
    "yes_08 = pol_clm_db[ pol_clm_db['Exposure']==0.8 ]\n",
    "yes_08.describe()"
   ]
  },
  {
   "cell_type": "markdown",
   "id": "7afcf091-f9b5-4a3b-96b8-d198d7338234",
   "metadata": {},
   "source": [
    "##### only the vehicle age seem slighlty different (newer cars)"
   ]
  },
  {
   "cell_type": "markdown",
   "id": "acad859b-f594-472a-b13d-f5318416c395",
   "metadata": {},
   "source": [
    "test of difference"
   ]
  },
  {
   "cell_type": "code",
   "execution_count": 135,
   "id": "922fb321-5b51-47df-beae-98f6f7da072e",
   "metadata": {},
   "outputs": [
    {
     "name": "stdout",
     "output_type": "stream",
     "text": [
      "0.1487855786764734 7.172087671739524e-77\n"
     ]
    }
   ],
   "source": [
    "from scipy import stats\n",
    "c1 = not_08['VehAge']\n",
    "c2 = yes_08['VehAge']\n",
    "\n",
    "stat_v,p_v = stats.ks_2samp(c1,c2)\n",
    "print(stat_v, p_v)"
   ]
  },
  {
   "cell_type": "markdown",
   "id": "8b336ced-1275-4f95-8f8d-3d387d2e9450",
   "metadata": {},
   "source": [
    "### Categorical"
   ]
  },
  {
   "cell_type": "markdown",
   "id": "35bfa823-40a0-4f10-8953-bc6eb4040961",
   "metadata": {},
   "source": [
    "##### Veh Brand is also different.  (most are B12)"
   ]
  },
  {
   "cell_type": "code",
   "execution_count": 138,
   "id": "cb47f2a8-4018-481f-ba93-ed1fe057324d",
   "metadata": {},
   "outputs": [
    {
     "data": {
      "text/plain": [
       "array([[<AxesSubplot:title={'center':'DrivAge'}>,\n",
       "        <AxesSubplot:title={'center':'VehAge'}>]], dtype=object)"
      ]
     },
     "execution_count": 138,
     "metadata": {},
     "output_type": "execute_result"
    },
    {
     "data": {
      "image/png": "[encoded data removed]",
      "text/plain": [
       "<Figure size 432x288 with 2 Axes>"
      ]
     },
     "metadata": {
      "needs_background": "light"
     },
     "output_type": "display_data"
    }
   ],
   "source": [
    "not_08[['DrivAge','VehAge']].hist(bins = 50)"
   ]
  },
  {
   "cell_type": "code",
   "execution_count": 139,
   "id": "05eba076-a610-4206-b6e2-e8989e8c7b65",
   "metadata": {},
   "outputs": [
    {
     "data": {
      "text/plain": [
       "array([[<AxesSubplot:title={'center':'DrivAge'}>,\n",
       "        <AxesSubplot:title={'center':'VehAge'}>]], dtype=object)"
      ]
     },
     "execution_count": 139,
     "metadata": {},
     "output_type": "execute_result"
    },
    {
     "data": {
      "image/png": "[encoded data removed]",
      "text/plain": [
       "<Figure size 432x288 with 2 Axes>"
      ]
     },
     "metadata": {
      "needs_background": "light"
     },
     "output_type": "display_data"
    }
   ],
   "source": [
    "yes_08[['DrivAge','VehAge']].hist(bins = 50)"
   ]
  },
  {
   "cell_type": "code",
   "execution_count": 140,
   "id": "b876b576-3e91-4b71-b645-b3fa638147b8",
   "metadata": {},
   "outputs": [
    {
     "data": {
      "text/plain": [
       "<AxesSubplot:>"
      ]
     },
     "execution_count": 140,
     "metadata": {},
     "output_type": "execute_result"
    },
    {
     "data": {
      "image/png": "[encoded data removed]",
      "text/plain": [
       "<Figure size 432x288 with 1 Axes>"
      ]
     },
     "metadata": {
      "needs_background": "light"
     },
     "output_type": "display_data"
    }
   ],
   "source": [
    "import matplotlib.pyplot as plt\n",
    "\n",
    "counts_yes08 = yes_08['Area'].value_counts()\n",
    "counts_yes08.plot(kind = 'bar')"
   ]
  },
  {
   "cell_type": "code",
   "execution_count": 141,
   "id": "21538c14-49ad-4de9-b3e1-734ec52e1731",
   "metadata": {},
   "outputs": [
    {
     "data": {
      "text/plain": [
       "<AxesSubplot:>"
      ]
     },
     "execution_count": 141,
     "metadata": {},
     "output_type": "execute_result"
    },
    {
     "data": {
      "image/png": "[encoded data removed]",
      "text/plain": [
       "<Figure size 432x288 with 1 Axes>"
      ]
     },
     "metadata": {
      "needs_background": "light"
     },
     "output_type": "display_data"
    }
   ],
   "source": [
    "counts_no08 = not_08['Area'].value_counts()\n",
    "counts_no08.plot(kind = 'bar')\n",
    "\n",
    "#,'Area','Region','VehBrand'"
   ]
  },
  {
   "cell_type": "code",
   "execution_count": 142,
   "id": "047ee08c-ac05-4209-90e9-5e8de2dc9af4",
   "metadata": {},
   "outputs": [
    {
     "data": {
      "text/plain": [
       "<AxesSubplot:>"
      ]
     },
     "execution_count": 142,
     "metadata": {},
     "output_type": "execute_result"
    },
    {
     "data": {
      "image/png": "[encoded data removed]",
      "text/plain": [
       "<Figure size 432x288 with 1 Axes>"
      ]
     },
     "metadata": {
      "needs_background": "light"
     },
     "output_type": "display_data"
    }
   ],
   "source": [
    "counts_yes08 = yes_08['VehBrand'].value_counts()\n",
    "counts_yes08.plot(kind = 'bar')"
   ]
  },
  {
   "cell_type": "code",
   "execution_count": 143,
   "id": "79f333c6-f5b6-40ba-9bb9-951f5b790317",
   "metadata": {},
   "outputs": [
    {
     "data": {
      "text/plain": [
       "<AxesSubplot:>"
      ]
     },
     "execution_count": 143,
     "metadata": {},
     "output_type": "execute_result"
    },
    {
     "data": {
      "image/png": "[encoded data removed]",
      "text/plain": [
       "<Figure size 432x288 with 1 Axes>"
      ]
     },
     "metadata": {
      "needs_background": "light"
     },
     "output_type": "display_data"
    }
   ],
   "source": [
    "counts_no08 = not_08['VehBrand'].value_counts()\n",
    "counts_no08.plot(kind = 'bar')"
   ]
  },
  {
   "cell_type": "markdown",
   "id": "ac7252d9-1452-4e11-a465-1719be3e344f",
   "metadata": {},
   "source": [
    "Rental cars fit both VehAge and Brand differences"
   ]
  },
  {
   "cell_type": "code",
   "execution_count": 145,
   "id": "b9056648-4d09-4062-8bed-298ff948c247",
   "metadata": {},
   "outputs": [
    {
     "data": {
      "text/plain": [
       "<AxesSubplot:>"
      ]
     },
     "execution_count": 145,
     "metadata": {},
     "output_type": "execute_result"
    },
    {
     "data": {
      "image/png": "[encoded data removed]",
      "text/plain": [
       "<Figure size 432x288 with 1 Axes>"
      ]
     },
     "metadata": {
      "needs_background": "light"
     },
     "output_type": "display_data"
    }
   ],
   "source": [
    "counts_yes08 = yes_08['Region'].value_counts()\n",
    "counts_yes08.plot(kind = 'bar')"
   ]
  },
  {
   "cell_type": "code",
   "execution_count": 146,
   "id": "8be8d3b9-00ee-4e45-ba03-ed5577ebbb12",
   "metadata": {},
   "outputs": [
    {
     "data": {
      "text/plain": [
       "<AxesSubplot:>"
      ]
     },
     "execution_count": 146,
     "metadata": {},
     "output_type": "execute_result"
    },
    {
     "data": {
      "image/png": "[encoded data removed]",
      "text/plain": [
       "<Figure size 432x288 with 1 Axes>"
      ]
     },
     "metadata": {
      "needs_background": "light"
     },
     "output_type": "display_data"
    }
   ],
   "source": [
    "counts_no08 = not_08['Region'].value_counts()\n",
    "counts_no08.plot(kind = 'bar')"
   ]
  },
  {
   "cell_type": "markdown",
   "id": "539b4e94-f7be-4434-9491-31bfc3294b13",
   "metadata": {
    "tags": [
     "type:NotebookTask"
    ]
   },
   "source": [
    "## 8. Data anomaly: Large claim number"
   ]
  },
  {
   "cell_type": "markdown",
   "id": "f0b7c9c5-3e5c-4311-b70b-82481d57db19",
   "metadata": {
    "tags": [
     "@context"
    ]
   },
   "source": [
    "**[Context for Task 8]**\n",
    "\n",
    "The largest claim number is 16, which is unusual for this data set. Try to find reason to explain such anomaly."
   ]
  },
  {
   "cell_type": "markdown",
   "id": "a34ea405-2f82-4655-869c-e5e0f1d0b308",
   "metadata": {
    "tags": [
     "@instructions"
    ]
   },
   "source": [
    "**[Instructions]**\n",
    "\n",
    "- No instruction"
   ]
  },
  {
   "cell_type": "markdown",
   "id": "c822d18d-b797-4721-8cce-170cddcb084c",
   "metadata": {},
   "source": [
    "### Comment\n",
    "12 small claims. Not part of the above group (new cars brand B12)"
   ]
  },
  {
   "cell_type": "markdown",
   "id": "34ebe89c-ce7d-4165-b289-0c5f11b0d982",
   "metadata": {},
   "source": [
    "### Sample Code"
   ]
  },
  {
   "cell_type": "code",
   "execution_count": 152,
   "id": "e84693a0-eda9-4f59-90b7-1f15a16a8f47",
   "metadata": {
    "tags": [
     "@sample_code"
    ]
   },
   "outputs": [
    {
     "data": {
      "text/html": [
       "<div>\n",
       "<style scoped>\n",
       "    .dataframe tbody tr th:only-of-type {\n",
       "        vertical-align: middle;\n",
       "    }\n",
       "\n",
       "    .dataframe tbody tr th {\n",
       "        vertical-align: top;\n",
       "    }\n",
       "\n",
       "    .dataframe thead th {\n",
       "        text-align: right;\n",
       "    }\n",
       "</style>\n",
       "<table border=\"1\" class=\"dataframe\">\n",
       "  <thead>\n",
       "    <tr style=\"text-align: right;\">\n",
       "      <th></th>\n",
       "      <th>index</th>\n",
       "      <th>IDpol</th>\n",
       "      <th>ClaimNb</th>\n",
       "      <th>Exposure</th>\n",
       "      <th>Area</th>\n",
       "      <th>VehPower</th>\n",
       "      <th>VehAge</th>\n",
       "      <th>DrivAge</th>\n",
       "      <th>BonusMalus</th>\n",
       "      <th>VehBrand</th>\n",
       "      <th>VehGas</th>\n",
       "      <th>Density</th>\n",
       "      <th>Region</th>\n",
       "      <th>ClaimAmount</th>\n",
       "      <th>Exposure2</th>\n",
       "    </tr>\n",
       "  </thead>\n",
       "  <tbody>\n",
       "    <tr>\n",
       "      <th>321248</th>\n",
       "      <td>321248</td>\n",
       "      <td>2241683</td>\n",
       "      <td>16</td>\n",
       "      <td>0.33</td>\n",
       "      <td>D</td>\n",
       "      <td>4.0</td>\n",
       "      <td>12.0</td>\n",
       "      <td>52.0</td>\n",
       "      <td>50.0</td>\n",
       "      <td>B1</td>\n",
       "      <td>Regular</td>\n",
       "      <td>824.0</td>\n",
       "      <td>R91</td>\n",
       "      <td>35529.37</td>\n",
       "      <td>0.33</td>\n",
       "    </tr>\n",
       "  </tbody>\n",
       "</table>\n",
       "</div>"
      ],
      "text/plain": [
       "         index    IDpol  ClaimNb  Exposure Area  VehPower  VehAge  DrivAge  \\\n",
       "321248  321248  2241683       16      0.33    D       4.0    12.0     52.0   \n",
       "\n",
       "        BonusMalus VehBrand   VehGas  Density Region  ClaimAmount  Exposure2  \n",
       "321248        50.0       B1  Regular    824.0    R91     35529.37       0.33  "
      ]
     },
     "execution_count": 152,
     "metadata": {},
     "output_type": "execute_result"
    }
   ],
   "source": [
    "pol_clm_db [pol_clm_db['ClaimNb'] == 16]"
   ]
  },
  {
   "cell_type": "markdown",
   "id": "9ed06779-7cec-4cba-9bbb-58034a548efa",
   "metadata": {},
   "source": [
    "#### All the characteristics of this policy are well within the percentiles, only Vehicle Age is above Q3"
   ]
  },
  {
   "cell_type": "code",
   "execution_count": 154,
   "id": "4907a44a-9fa4-4c2f-9495-8bf73a6d5999",
   "metadata": {},
   "outputs": [
    {
     "data": {
      "text/plain": [
       "2220.585625"
      ]
     },
     "execution_count": 154,
     "metadata": {},
     "output_type": "execute_result"
    }
   ],
   "source": [
    "35529.37/16"
   ]
  },
  {
   "cell_type": "code",
   "execution_count": 155,
   "id": "f355112a-30fd-46eb-8b87-dc4594454a06",
   "metadata": {},
   "outputs": [
    {
     "data": {
      "text/plain": [
       "2401.748576812043"
      ]
     },
     "execution_count": 155,
     "metadata": {},
     "output_type": "execute_result"
    }
   ],
   "source": [
    "pol_clm_db [pol_clm_db['ClaimAmount'] > 0]['ClaimAmount'].mean()"
   ]
  },
  {
   "cell_type": "markdown",
   "id": "a4d8cf9d-3ce1-4621-a8e4-1e582ddfc0f1",
   "metadata": {},
   "source": [
    "#### looking at the original claims"
   ]
  },
  {
   "cell_type": "markdown",
   "id": "c9c03f6d-a8b6-4c52-b403-b46056eaa02e",
   "metadata": {},
   "source": [
    "##### they are all under 10,000, some very small"
   ]
  },
  {
   "cell_type": "code",
   "execution_count": 158,
   "id": "c391b1ad-131e-4e39-9dfb-7ccbbb63b4ca",
   "metadata": {},
   "outputs": [
    {
     "data": {
      "text/html": [
       "<div>\n",
       "<style scoped>\n",
       "    .dataframe tbody tr th:only-of-type {\n",
       "        vertical-align: middle;\n",
       "    }\n",
       "\n",
       "    .dataframe tbody tr th {\n",
       "        vertical-align: top;\n",
       "    }\n",
       "\n",
       "    .dataframe thead th {\n",
       "        text-align: right;\n",
       "    }\n",
       "</style>\n",
       "<table border=\"1\" class=\"dataframe\">\n",
       "  <thead>\n",
       "    <tr style=\"text-align: right;\">\n",
       "      <th></th>\n",
       "      <th>IDpol</th>\n",
       "      <th>ClaimAmount</th>\n",
       "    </tr>\n",
       "  </thead>\n",
       "  <tbody>\n",
       "    <tr>\n",
       "      <th>26207</th>\n",
       "      <td>2241683.0</td>\n",
       "      <td>809.31</td>\n",
       "    </tr>\n",
       "    <tr>\n",
       "      <th>26209</th>\n",
       "      <td>2241683.0</td>\n",
       "      <td>4500.00</td>\n",
       "    </tr>\n",
       "    <tr>\n",
       "      <th>26213</th>\n",
       "      <td>2241683.0</td>\n",
       "      <td>1628.50</td>\n",
       "    </tr>\n",
       "    <tr>\n",
       "      <th>26358</th>\n",
       "      <td>2241683.0</td>\n",
       "      <td>1987.42</td>\n",
       "    </tr>\n",
       "    <tr>\n",
       "      <th>26359</th>\n",
       "      <td>2241683.0</td>\n",
       "      <td>1520.00</td>\n",
       "    </tr>\n",
       "    <tr>\n",
       "      <th>26370</th>\n",
       "      <td>2241683.0</td>\n",
       "      <td>101.66</td>\n",
       "    </tr>\n",
       "    <tr>\n",
       "      <th>26372</th>\n",
       "      <td>2241683.0</td>\n",
       "      <td>127.74</td>\n",
       "    </tr>\n",
       "    <tr>\n",
       "      <th>26374</th>\n",
       "      <td>2241683.0</td>\n",
       "      <td>2093.85</td>\n",
       "    </tr>\n",
       "    <tr>\n",
       "      <th>26387</th>\n",
       "      <td>2241683.0</td>\n",
       "      <td>1500.00</td>\n",
       "    </tr>\n",
       "    <tr>\n",
       "      <th>26388</th>\n",
       "      <td>2241683.0</td>\n",
       "      <td>1965.60</td>\n",
       "    </tr>\n",
       "    <tr>\n",
       "      <th>26389</th>\n",
       "      <td>2241683.0</td>\n",
       "      <td>10000.00</td>\n",
       "    </tr>\n",
       "    <tr>\n",
       "      <th>26390</th>\n",
       "      <td>2241683.0</td>\n",
       "      <td>1850.19</td>\n",
       "    </tr>\n",
       "    <tr>\n",
       "      <th>26405</th>\n",
       "      <td>2241683.0</td>\n",
       "      <td>96.24</td>\n",
       "    </tr>\n",
       "    <tr>\n",
       "      <th>26409</th>\n",
       "      <td>2241683.0</td>\n",
       "      <td>3499.65</td>\n",
       "    </tr>\n",
       "    <tr>\n",
       "      <th>26410</th>\n",
       "      <td>2241683.0</td>\n",
       "      <td>1500.00</td>\n",
       "    </tr>\n",
       "    <tr>\n",
       "      <th>26415</th>\n",
       "      <td>2241683.0</td>\n",
       "      <td>2349.21</td>\n",
       "    </tr>\n",
       "  </tbody>\n",
       "</table>\n",
       "</div>"
      ],
      "text/plain": [
       "           IDpol  ClaimAmount\n",
       "26207  2241683.0       809.31\n",
       "26209  2241683.0      4500.00\n",
       "26213  2241683.0      1628.50\n",
       "26358  2241683.0      1987.42\n",
       "26359  2241683.0      1520.00\n",
       "26370  2241683.0       101.66\n",
       "26372  2241683.0       127.74\n",
       "26374  2241683.0      2093.85\n",
       "26387  2241683.0      1500.00\n",
       "26388  2241683.0      1965.60\n",
       "26389  2241683.0     10000.00\n",
       "26390  2241683.0      1850.19\n",
       "26405  2241683.0        96.24\n",
       "26409  2241683.0      3499.65\n",
       "26410  2241683.0      1500.00\n",
       "26415  2241683.0      2349.21"
      ]
     },
     "execution_count": 158,
     "metadata": {},
     "output_type": "execute_result"
    }
   ],
   "source": [
    "claims_original[claims_original['IDpol']== 2241683]"
   ]
  },
  {
   "cell_type": "markdown",
   "id": "598539be-9f6f-45ae-b82c-d9d286969389",
   "metadata": {},
   "source": [
    "##### Can several cars fall under the same policy (policy-object) for example a fleet?  Otherwise this is clearly an outlier"
   ]
  },
  {
   "cell_type": "markdown",
   "id": "893cc31d-719a-4db5-9eaa-ec6bbb043a24",
   "metadata": {
    "tags": [
     "type:NotebookTask"
    ]
   },
   "source": [
    "## 9. Dealing with outliers"
   ]
  },
  {
   "cell_type": "markdown",
   "id": "73e19b5b-4de6-43ba-85ee-85a8f89e24e0",
   "metadata": {
    "tags": [
     "@context"
    ]
   },
   "source": [
    "**[Context for Task 9]**\n",
    "\n",
    "Some policy contains certainly outliers (large claim count), and look very suspiciously like either poor data or fraudulent activity. Given the fields in the input data, we'll never be able to fully ascertain the true cause. The options are:\n",
    "\n",
    "1. Leave the data and hope any resulting model is unaffected. It may be a question of selecting a model specifically to be immune to this type of data.\n",
    "2. Remove these suspicious records from the data.\n",
    "3. Keep them but manually alter the data, e.g. cap the number of claims at 3 or 4, for example.\n",
    "\n",
    "For the time being, we will cap the number of claims at 4 in modeling part. In fact, it'll be interesting to fit and assess any model with and without these extreme observations, to see what difference it makes."
   ]
  },
  {
   "cell_type": "markdown",
   "id": "a0ee5072-36ff-4bd5-b555-09ac97e4b5a5",
   "metadata": {
    "tags": [
     "@instructions"
    ]
   },
   "source": [
    "**[Instructions]**\n",
    "\n",
    "- Correct for those policy whose exposures are bigger than one year (by setting them equal to 1) since all observations are within one accounting year as per the data description. \n",
    "- It's easy to notice that 9 policies have more than 4 claims, the maximal number being 16. Please cap these values by 4 since these big values are likely to be data quote errors or fraud."
   ]
  },
  {
   "cell_type": "markdown",
   "id": "79b0e01d-e586-4b0d-bcef-9abff5e88f6c",
   "metadata": {},
   "source": [
    "### Comment\n",
    "Exposure was corrected above\n",
    "now I can drop and rename the column"
   ]
  },
  {
   "cell_type": "code",
   "execution_count": 164,
   "id": "29ee2227-6a26-427a-9d6f-f21e86fae9d2",
   "metadata": {},
   "outputs": [],
   "source": [
    "pol_clm_db['Exposure']= pol_clm_db['Exposure2']"
   ]
  },
  {
   "cell_type": "code",
   "execution_count": 165,
   "id": "0c3ee363-55e9-44ac-a104-22680f65a37f",
   "metadata": {},
   "outputs": [],
   "source": [
    "pol_clm_db = pol_clm_db.drop('Exposure2', axis = 1)"
   ]
  },
  {
   "cell_type": "code",
   "execution_count": 166,
   "id": "d0d3d78e-0eb0-43df-9a57-a023bf629945",
   "metadata": {},
   "outputs": [
    {
     "data": {
      "text/plain": [
       "count    678013.000000\n",
       "mean          0.528545\n",
       "std           0.364081\n",
       "min           0.002732\n",
       "25%           0.180000\n",
       "50%           0.490000\n",
       "75%           0.990000\n",
       "max           1.000000\n",
       "Name: Exposure, dtype: float64"
      ]
     },
     "execution_count": 166,
     "metadata": {},
     "output_type": "execute_result"
    }
   ],
   "source": [
    "pol_clm_db['Exposure'].describe()"
   ]
  },
  {
   "cell_type": "code",
   "execution_count": 167,
   "id": "86da4a04-fc3d-4993-aacc-66c9c5d2caa5",
   "metadata": {
    "tags": [
     "@sample_code"
    ]
   },
   "outputs": [],
   "source": [
    "pol_clm_db.loc[pol_clm_db['ClaimNb']>4, 'ClaimNb'] = 4"
   ]
  },
  {
   "cell_type": "code",
   "execution_count": 168,
   "id": "013efd43-a6c0-4197-91c8-1de5c335d8ee",
   "metadata": {},
   "outputs": [
    {
     "data": {
      "text/plain": [
       "count    678013.000000\n",
       "mean          0.053179\n",
       "std           0.237954\n",
       "min           0.000000\n",
       "25%           0.000000\n",
       "50%           0.000000\n",
       "75%           0.000000\n",
       "max           4.000000\n",
       "Name: ClaimNb, dtype: float64"
      ]
     },
     "execution_count": 168,
     "metadata": {},
     "output_type": "execute_result"
    }
   ],
   "source": [
    "pol_clm_db['ClaimNb'].describe()"
   ]
  },
  {
   "cell_type": "markdown",
   "id": "92497b70-db07-47b7-b903-f55c66fef852",
   "metadata": {
    "tags": [
     "type:NotebookTask"
    ]
   },
   "source": [
    "## 10. One-way analysis"
   ]
  },
  {
   "cell_type": "markdown",
   "id": "45def182-2fd2-449a-a3bf-3e7d7c1f1f11",
   "metadata": {
    "tags": [
     "@context"
    ]
   },
   "source": [
    "**[Context for Task 10]**\n",
    "\n",
    "A one-way analysis summarizes insurance statistics, such as frequency or loss ratio, for each value of each explanatory variable."
   ]
  },
  {
   "cell_type": "markdown",
   "id": "020f0a75-7bb5-4a92-87c1-8eeb54771c00",
   "metadata": {
    "tags": [
     "@instructions"
    ]
   },
   "source": [
    "**[Instructions]**\n",
    "\n",
    "- Read the function below for the one-way analysis, use it for variable \"Area\" and see what you can find. Also you can play it with other variables and try to extract business insights from the plots."
   ]
  },
  {
   "cell_type": "markdown",
   "id": "c079bed1-c5e9-45c8-9470-40c7bdaf850b",
   "metadata": {},
   "source": [
    "### Comment\n",
    "- Area has an upward trend of frequency but slightly downward in severity. Maybe smaller cars in a higher populated are.\n",
    "- Driving age shows a fast decline of frequency with age, then upwards before stabilizing. In older ages there are too few observations to make conclusions. Severity stabilizes quickly after the youngest years.\n",
    "- Bonus malus shous a clearly upward trend in frequency\n"
   ]
  },
  {
   "cell_type": "code",
   "execution_count": 173,
   "id": "7c7bc45f-7607-473a-ba15-601e91822a08",
   "metadata": {
    "tags": [
     "@sample_code"
    ]
   },
   "outputs": [
    {
     "data": {
      "image/png": "[encoded data removed]",
      "text/plain": [
       "<Figure size 1152x720 with 4 Axes>"
      ]
     },
     "metadata": {
      "needs_background": "light"
     },
     "output_type": "display_data"
    },
    {
     "data": {
      "image/png": "[encoded data removed]",
      "text/plain": [
       "<Figure size 1152x720 with 4 Axes>"
      ]
     },
     "metadata": {
      "needs_background": "light"
     },
     "output_type": "display_data"
    },
    {
     "data": {
      "image/png": "[encoded data removed]",
      "text/plain": [
       "<Figure size 1152x720 with 4 Axes>"
      ]
     },
     "metadata": {
      "needs_background": "light"
     },
     "output_type": "display_data"
    },
    {
     "data": {
      "image/png": "[encoded data removed]",
      "text/plain": [
       "<Figure size 1152x720 with 4 Axes>"
      ]
     },
     "metadata": {
      "needs_background": "light"
     },
     "output_type": "display_data"
    },
    {
     "data": {
      "image/png": "[encoded data removed]",
      "text/plain": [
       "<Figure size 1152x720 with 4 Axes>"
      ]
     },
     "metadata": {
      "needs_background": "light"
     },
     "output_type": "display_data"
    }
   ],
   "source": [
    "def one_way_analysis(db, ow_var, expo_fr, expo_sev, response_fr, response_sev):\n",
    "    \n",
    "    fig, axes = plt.subplots(nrows=2, ncols=2, figsize=(16,10))\n",
    "\n",
    "    response_fr    = db.groupby(ow_var)[response_fr].sum()\n",
    "    response_sev   = db.groupby(ow_var)[response_sev].sum()\n",
    "    expo_fr        = db.groupby(ow_var)[expo_fr].sum()\n",
    "    expo_sev       = db.groupby(ow_var)[expo_sev].sum()\n",
    "    ratio_fr       = response_fr / expo_fr\n",
    "    ratio_sev      = response_sev / expo_sev\n",
    "    \n",
    "    axes[0,0].title.set_text('Frequency')\n",
    "    axes[0,1].title.set_text('Severity')\n",
    "    axes[1,0].title.set_text('Exposure_Freq')\n",
    "    axes[1,1].title.set_text('Exposure_Sev')\n",
    "    axes[0,0].set_yscale('log')\n",
    "    \n",
    "    ratio_fr.plot(rot=0, ax=axes[0,0], style='o--')\n",
    "    expo_fr.plot.bar(rot=0, ax=axes[1,0])\n",
    "    \n",
    "    ratio_sev.plot(rot=0, ax=axes[0,1], style='o--')\n",
    "    expo_sev.plot.bar(rot=0, ax=axes[1,1])\n",
    "\n",
    "\n",
    "one_way_analysis(pol_clm_db, 'Area' , 'Exposure', 'ClaimNb', 'ClaimNb', 'ClaimAmount')\n",
    "\n",
    "one_way_analysis(pol_clm_db, 'DrivAge' , 'Exposure', 'ClaimNb', 'ClaimNb', 'ClaimAmount')\n",
    "\n",
    "one_way_analysis(pol_clm_db, 'Density' , 'Exposure', 'ClaimNb', 'ClaimNb', 'ClaimAmount')\n",
    "\n",
    "one_way_analysis(pol_clm_db, 'VehAge' , 'Exposure', 'ClaimNb', 'ClaimNb', 'ClaimAmount')\n",
    "\n",
    "one_way_analysis(pol_clm_db[ pol_clm_db['BonusMalus'] > 0 ], 'BonusMalus' , 'Exposure', 'ClaimNb', 'ClaimNb', 'ClaimAmount')"
   ]
  },
  {
   "cell_type": "markdown",
   "id": "890ac272-cb7b-4f18-b4d6-4accdd51be7b",
   "metadata": {
    "tags": [
     "type:NotebookTask"
    ]
   },
   "source": [
    "## 11. Log transformation"
   ]
  },
  {
   "cell_type": "markdown",
   "id": "ba451fe2-0580-4e6f-8aef-a187233ad2f1",
   "metadata": {
    "tags": [
     "@context"
    ]
   },
   "source": [
    "**[Add Context for Task 11]**\n",
    "\n",
    "Observation from one-way analysis:\n",
    "1. The marginal empirical frequency is monotonically increasing for the area code, suggesting that the feature component Area is ordinal.\n",
    "2. The marginal frequency is decreasing in vehicle age, and it has a \"U\" shape in driver's age (until age 50)\n",
    "3. We see that the frequency is monotonically increasing in the log density of the population\n",
    "4. By far the most explanatory feature component for frequency modeling is the bonus-malus level\n",
    "\n",
    "\n",
    "Based on the observation above, we can do some simplification for the explainable features."
   ]
  },
  {
   "cell_type": "markdown",
   "id": "fbfb8102-6f05-461b-a091-26505f9184cb",
   "metadata": {
    "tags": [
     "@instructions"
    ]
   },
   "source": [
    "**[Update Instructions]**\n",
    "\n",
    "- For variable `Area`, we found that, in frequency plot, the overall trend is upward. Please map the alphabet order into numerical order using dictionary `mapping = {'A': 1, 'B': 2, 'C': 3, 'D': 4, 'E': 5, 'F': 6}` \n",
    "- Capping variable `VehPower`, `VehAge`, `DrivAge` and `BonusMalus` at 9, 20, 90, 150, respectively, since the volume above these levels is negligible.\n",
    "- Log transformation for variable `Density`"
   ]
  },
  {
   "cell_type": "markdown",
   "id": "874ecfb7-2d75-492f-88ed-8f78e92f0442",
   "metadata": {},
   "source": [
    "### Sample Code"
   ]
  },
  {
   "cell_type": "markdown",
   "id": "7fd867ff-2227-4394-9ad4-450901dffa3f",
   "metadata": {},
   "source": [
    "### Comment\n",
    "No problems making factor bins"
   ]
  },
  {
   "cell_type": "code",
   "execution_count": 179,
   "id": "8419da83-7174-46f9-95a9-b208a896c2ff",
   "metadata": {
    "tags": [
     "@sample_code"
    ]
   },
   "outputs": [],
   "source": [
    "mapping = {'A': 1, 'B': 2, 'C': 3, 'D': 4, 'E': 5, 'F': 6} \n",
    "pol_clm_db['Area']          =  pol_clm_db['Area'].map(mapping)"
   ]
  },
  {
   "cell_type": "code",
   "execution_count": 180,
   "id": "752670e2-e9ea-459d-9772-1da97c4ae498",
   "metadata": {
    "tags": [
     "@sample_code"
    ]
   },
   "outputs": [
    {
     "name": "stdout",
     "output_type": "stream",
     "text": [
      "9.0\n",
      "20.0\n",
      "90.0\n",
      "150.0\n"
     ]
    }
   ],
   "source": [
    "pol_clm_db.loc[pol_clm_db['VehPower']>9, 'VehPower'] = 9\n",
    "print(pol_clm_db['VehPower'].max())\n",
    "\n",
    "pol_clm_db.loc[pol_clm_db['VehAge']>20, 'VehAge'] = 20\n",
    "print(pol_clm_db['VehAge'].max())\n",
    "\n",
    "pol_clm_db.loc[pol_clm_db['DrivAge']>90, 'DrivAge'] = 90\n",
    "print(pol_clm_db['DrivAge'].max())\n",
    "\n",
    "pol_clm_db.loc[pol_clm_db['BonusMalus']>150, 'BonusMalus'] = 150\n",
    "print(pol_clm_db['BonusMalus'].max())"
   ]
  },
  {
   "cell_type": "code",
   "execution_count": 181,
   "id": "b4171fcc-477b-4336-a902-4d5263c3c36f",
   "metadata": {
    "tags": [
     "@sample_code"
    ]
   },
   "outputs": [],
   "source": [
    "import numpy as np\n",
    "pol_clm_db['LogDensity']   = round(np.log(pol_clm_db['Density'] ), 0)\n",
    "#round(np.log(pol_clm_db['Density']))"
   ]
  },
  {
   "cell_type": "code",
   "execution_count": 182,
   "id": "68c1bbcc-2fa5-43f3-8698-1b076cd21f95",
   "metadata": {},
   "outputs": [
    {
     "data": {
      "text/html": [
       "<div>\n",
       "<style scoped>\n",
       "    .dataframe tbody tr th:only-of-type {\n",
       "        vertical-align: middle;\n",
       "    }\n",
       "\n",
       "    .dataframe tbody tr th {\n",
       "        vertical-align: top;\n",
       "    }\n",
       "\n",
       "    .dataframe thead th {\n",
       "        text-align: right;\n",
       "    }\n",
       "</style>\n",
       "<table border=\"1\" class=\"dataframe\">\n",
       "  <thead>\n",
       "    <tr style=\"text-align: right;\">\n",
       "      <th></th>\n",
       "      <th>index</th>\n",
       "      <th>IDpol</th>\n",
       "      <th>ClaimNb</th>\n",
       "      <th>Exposure</th>\n",
       "      <th>Area</th>\n",
       "      <th>VehPower</th>\n",
       "      <th>VehAge</th>\n",
       "      <th>DrivAge</th>\n",
       "      <th>BonusMalus</th>\n",
       "      <th>VehBrand</th>\n",
       "      <th>VehGas</th>\n",
       "      <th>Density</th>\n",
       "      <th>Region</th>\n",
       "      <th>ClaimAmount</th>\n",
       "      <th>LogDensity</th>\n",
       "    </tr>\n",
       "  </thead>\n",
       "  <tbody>\n",
       "    <tr>\n",
       "      <th>0</th>\n",
       "      <td>0</td>\n",
       "      <td>1</td>\n",
       "      <td>1</td>\n",
       "      <td>0.10</td>\n",
       "      <td>4</td>\n",
       "      <td>5.0</td>\n",
       "      <td>0.0</td>\n",
       "      <td>55.0</td>\n",
       "      <td>50.0</td>\n",
       "      <td>B12</td>\n",
       "      <td>Regular</td>\n",
       "      <td>1217.0</td>\n",
       "      <td>R82</td>\n",
       "      <td>0.0</td>\n",
       "      <td>7.0</td>\n",
       "    </tr>\n",
       "    <tr>\n",
       "      <th>1</th>\n",
       "      <td>1</td>\n",
       "      <td>3</td>\n",
       "      <td>1</td>\n",
       "      <td>0.77</td>\n",
       "      <td>4</td>\n",
       "      <td>5.0</td>\n",
       "      <td>0.0</td>\n",
       "      <td>55.0</td>\n",
       "      <td>50.0</td>\n",
       "      <td>B12</td>\n",
       "      <td>Regular</td>\n",
       "      <td>1217.0</td>\n",
       "      <td>R82</td>\n",
       "      <td>0.0</td>\n",
       "      <td>7.0</td>\n",
       "    </tr>\n",
       "    <tr>\n",
       "      <th>2</th>\n",
       "      <td>2</td>\n",
       "      <td>5</td>\n",
       "      <td>1</td>\n",
       "      <td>0.75</td>\n",
       "      <td>2</td>\n",
       "      <td>6.0</td>\n",
       "      <td>2.0</td>\n",
       "      <td>52.0</td>\n",
       "      <td>50.0</td>\n",
       "      <td>B12</td>\n",
       "      <td>Diesel</td>\n",
       "      <td>54.0</td>\n",
       "      <td>R22</td>\n",
       "      <td>0.0</td>\n",
       "      <td>4.0</td>\n",
       "    </tr>\n",
       "    <tr>\n",
       "      <th>3</th>\n",
       "      <td>3</td>\n",
       "      <td>10</td>\n",
       "      <td>1</td>\n",
       "      <td>0.09</td>\n",
       "      <td>2</td>\n",
       "      <td>7.0</td>\n",
       "      <td>0.0</td>\n",
       "      <td>46.0</td>\n",
       "      <td>50.0</td>\n",
       "      <td>B12</td>\n",
       "      <td>Diesel</td>\n",
       "      <td>76.0</td>\n",
       "      <td>R72</td>\n",
       "      <td>0.0</td>\n",
       "      <td>4.0</td>\n",
       "    </tr>\n",
       "    <tr>\n",
       "      <th>4</th>\n",
       "      <td>4</td>\n",
       "      <td>11</td>\n",
       "      <td>1</td>\n",
       "      <td>0.84</td>\n",
       "      <td>2</td>\n",
       "      <td>7.0</td>\n",
       "      <td>0.0</td>\n",
       "      <td>46.0</td>\n",
       "      <td>50.0</td>\n",
       "      <td>B12</td>\n",
       "      <td>Diesel</td>\n",
       "      <td>76.0</td>\n",
       "      <td>R72</td>\n",
       "      <td>0.0</td>\n",
       "      <td>4.0</td>\n",
       "    </tr>\n",
       "  </tbody>\n",
       "</table>\n",
       "</div>"
      ],
      "text/plain": [
       "   index  IDpol  ClaimNb  Exposure  Area  VehPower  VehAge  DrivAge  \\\n",
       "0      0      1        1      0.10     4       5.0     0.0     55.0   \n",
       "1      1      3        1      0.77     4       5.0     0.0     55.0   \n",
       "2      2      5        1      0.75     2       6.0     2.0     52.0   \n",
       "3      3     10        1      0.09     2       7.0     0.0     46.0   \n",
       "4      4     11        1      0.84     2       7.0     0.0     46.0   \n",
       "\n",
       "   BonusMalus VehBrand   VehGas  Density Region  ClaimAmount  LogDensity  \n",
       "0        50.0      B12  Regular   1217.0    R82          0.0         7.0  \n",
       "1        50.0      B12  Regular   1217.0    R82          0.0         7.0  \n",
       "2        50.0      B12   Diesel     54.0    R22          0.0         4.0  \n",
       "3        50.0      B12   Diesel     76.0    R72          0.0         4.0  \n",
       "4        50.0      B12   Diesel     76.0    R72          0.0         4.0  "
      ]
     },
     "execution_count": 182,
     "metadata": {},
     "output_type": "execute_result"
    }
   ],
   "source": [
    "pol_clm_db.head(5)"
   ]
  },
  {
   "cell_type": "markdown",
   "id": "9652069e-7160-45b3-be7a-85d2b6f4c96c",
   "metadata": {
    "tags": [
     "type:NotebookTask"
    ]
   },
   "source": [
    "## 12. Two-way analysis"
   ]
  },
  {
   "cell_type": "markdown",
   "id": "00e9d2fe-269b-45b5-be30-f62fe455a6cb",
   "metadata": {
    "tags": [
     "@context"
    ]
   },
   "source": [
    "**[Add Context for Task 12]**\n",
    "\n",
    "We only do the numerical correlation in this case; It's also possible to get the correlation for categorical variables (e.g. Cramér's V)"
   ]
  },
  {
   "cell_type": "markdown",
   "id": "c9deb58d-b547-4dce-8213-7507b15fdd8a",
   "metadata": {
    "tags": [
     "@instructions"
    ]
   },
   "source": [
    "**[Add Instructions for Task 12]**\n",
    "\n",
    "- Caculate correlation value for numberical variables"
   ]
  },
  {
   "cell_type": "markdown",
   "id": "63ddfccb-d233-44fd-a164-dcd40fb9c3f0",
   "metadata": {},
   "source": [
    "### Comment:\n",
    "I emulated R's corrplot\n",
    "Area and density show a high correlation, This is expected, but doesn't necessarily means they are collinear.  We can analyze further in a model\n",
    "    "
   ]
  },
  {
   "cell_type": "markdown",
   "id": "89720a2d-efc5-4b73-aba7-0c65f9674ceb",
   "metadata": {},
   "source": [
    "### Sample Code"
   ]
  },
  {
   "cell_type": "code",
   "execution_count": 188,
   "id": "91646a7e-7803-496e-88f5-20cb55e08378",
   "metadata": {
    "tags": [
     "@sample_code"
    ]
   },
   "outputs": [],
   "source": [
    "pol_clm_db_corr = pol_clm_db.copy()\n",
    "\n",
    "vars = ['Area', 'VehPower', 'VehAge', 'DrivAge', 'BonusMalus', 'Density'] #  'Area': catogory\n",
    "\n",
    "corr_db = pol_clm_db_corr[vars].corr()\n",
    "\n"
   ]
  },
  {
   "cell_type": "code",
   "execution_count": 189,
   "id": "4ccc7086-f65c-4df1-8c03-cc28c5f487d2",
   "metadata": {},
   "outputs": [
    {
     "data": {
      "image/png": "[encoded data removed]",
      "text/plain": [
       "<Figure size 720x576 with 2 Axes>"
      ]
     },
     "metadata": {
      "needs_background": "light"
     },
     "output_type": "display_data"
    }
   ],
   "source": [
    "import seaborn as sns\n",
    "import matplotlib.pyplot as plt\n",
    "\n",
    "plt.figure(figsize=(10,8))\n",
    "sns.heatmap(corr_db, annot=True, cmap='coolwarm', vmin=-1, vmax=1)\n",
    "plt.show()"
   ]
  },
  {
   "cell_type": "markdown",
   "id": "248de1e3-b473-4204-9636-3ad72d8c8766",
   "metadata": {
    "tags": [
     "type:NotebookTask"
    ]
   },
   "source": [
    "## 13. Large loss analysis"
   ]
  },
  {
   "cell_type": "markdown",
   "id": "56416322-980f-4956-9ec6-e98ef4bcb7fb",
   "metadata": {
    "tags": [
     "@context"
    ]
   },
   "source": [
    "**[Context for Task 13]**\n",
    "\n",
    "A large loss is a claim event that typically occurs with a low frequency but large severity. Some negative impact on the risk modeling from large loss could be:\n",
    "- It's difficult to estimate large losses in the tail’s distribution between different years,\n",
    "- It will bias the estimation because some specific segments can be largely influenced by large losses. \n",
    "\n",
    "In this section, we will discuss how to deal with large cost in order to model a more stable quantity."
   ]
  },
  {
   "cell_type": "markdown",
   "id": "a56c7463-939e-4d8a-a0c7-9187e883993f",
   "metadata": {
    "tags": [
     "@instructions"
    ]
   },
   "source": [
    "**[Add Instructions]**\n",
    "\n",
    "- Plot the empirical loss distribution for the whole data range and tail part. For tail threshold, one can choose certain value that he/she think it appropriate."
   ]
  },
  {
   "cell_type": "markdown",
   "id": "1b084713-660d-481b-bc2e-252c77cb5d56",
   "metadata": {},
   "source": [
    "### Comment\n",
    "The large losses make the analysis difficult.\n",
    "I chose a 20,000 euro treshold, close to the 99 quantile"
   ]
  },
  {
   "cell_type": "markdown",
   "id": "f6693d33-9b72-4593-afa7-ded4ab69a809",
   "metadata": {},
   "source": [
    "### Sample Code"
   ]
  },
  {
   "cell_type": "markdown",
   "id": "df621ba5-6317-40a6-ae33-cf56f443dfe6",
   "metadata": {},
   "source": [
    "### Plot of the distribution of N_claims and Amount"
   ]
  },
  {
   "cell_type": "code",
   "execution_count": 196,
   "id": "869535c7-dd84-4128-b01a-122c746867c1",
   "metadata": {},
   "outputs": [
    {
     "data": {
      "text/plain": [
       "<AxesSubplot:>"
      ]
     },
     "execution_count": 196,
     "metadata": {},
     "output_type": "execute_result"
    },
    {
     "data": {
      "image/png": "[encoded data removed]",
      "text/plain": [
       "<Figure size 432x288 with 1 Axes>"
      ]
     },
     "metadata": {
      "needs_background": "light"
     },
     "output_type": "display_data"
    }
   ],
   "source": [
    "pol_clm_db['ClaimNb'].hist() "
   ]
  },
  {
   "cell_type": "code",
   "execution_count": 197,
   "id": "73018ba1-33e9-42bf-890f-bd548f4e551e",
   "metadata": {},
   "outputs": [
    {
     "data": {
      "text/plain": [
       "<AxesSubplot:>"
      ]
     },
     "execution_count": 197,
     "metadata": {},
     "output_type": "execute_result"
    },
    {
     "data": {
      "image/png": "[encoded data removed]",
      "text/plain": [
       "<Figure size 432x288 with 1 Axes>"
      ]
     },
     "metadata": {
      "needs_background": "light"
     },
     "output_type": "display_data"
    }
   ],
   "source": [
    "pol_clm_db[pol_clm_db['ClaimNb']>0]['ClaimNb'].hist() "
   ]
  },
  {
   "cell_type": "code",
   "execution_count": 198,
   "id": "0c22c053-3953-42b5-8b91-d087582ed0c3",
   "metadata": {},
   "outputs": [
    {
     "data": {
      "text/plain": [
       "<AxesSubplot:>"
      ]
     },
     "execution_count": 198,
     "metadata": {},
     "output_type": "execute_result"
    },
    {
     "data": {
      "image/png": "[encoded data removed]",
      "text/plain": [
       "<Figure size 432x288 with 1 Axes>"
      ]
     },
     "metadata": {
      "needs_background": "light"
     },
     "output_type": "display_data"
    }
   ],
   "source": [
    "pol_clm_db[pol_clm_db['ClaimAmount']>0]['ClaimAmount'].hist() "
   ]
  },
  {
   "cell_type": "markdown",
   "id": "500a08b5-158f-43c8-9128-851c63003491",
   "metadata": {},
   "source": [
    "#### a problem to visualize indeed"
   ]
  },
  {
   "cell_type": "code",
   "execution_count": 200,
   "id": "da61fdf8-691f-402e-9659-52902095fee8",
   "metadata": {},
   "outputs": [
    {
     "data": {
      "text/plain": [
       "count      24944.000\n",
       "mean        2401.749\n",
       "std        30264.754\n",
       "min            1.000\n",
       "25%          749.788\n",
       "50%         1172.000\n",
       "75%         1346.400\n",
       "max      4075400.560\n",
       "Name: ClaimAmount, dtype: float64"
      ]
     },
     "execution_count": 200,
     "metadata": {},
     "output_type": "execute_result"
    }
   ],
   "source": [
    "pol_clm_db[pol_clm_db['ClaimAmount']>0]['ClaimAmount'].describe().round(3)"
   ]
  },
  {
   "cell_type": "code",
   "execution_count": 201,
   "id": "a67f76e2-13e8-4869-8a96-64de31e00f80",
   "metadata": {},
   "outputs": [
    {
     "data": {
      "text/plain": [
       "18278.38229999995"
      ]
     },
     "execution_count": 201,
     "metadata": {},
     "output_type": "execute_result"
    }
   ],
   "source": [
    "pol_clm_db[pol_clm_db['ClaimAmount']>0]['ClaimAmount'].quantile(.99)"
   ]
  },
  {
   "cell_type": "code",
   "execution_count": 202,
   "id": "6a9b2d54-31c7-4e2c-98ba-dd08bb05f5e4",
   "metadata": {
    "tags": [
     "@sample_code"
    ]
   },
   "outputs": [],
   "source": [
    "sev_db = pol_clm_db.loc[pol_clm_db['ClaimAmount']>0,['ClaimNb','ClaimAmount']]"
   ]
  },
  {
   "cell_type": "code",
   "execution_count": 203,
   "id": "c36517df-eea9-468f-8f32-d13a8850ab73",
   "metadata": {
    "tags": [
     "@sample_code"
    ]
   },
   "outputs": [
    {
     "data": {
      "image/png": "[encoded data removed]",
      "text/plain": [
       "<Figure size 1152x360 with 2 Axes>"
      ]
     },
     "metadata": {
      "needs_background": "light"
     },
     "output_type": "display_data"
    }
   ],
   "source": [
    "fig, axes = plt.subplots(nrows=1, ncols=2, figsize=(16,5))\n",
    "\n",
    "sev_db.hist(column='ClaimAmount', bins=100, log=True, ax=axes[0])\n",
    "sev_db[sev_db['ClaimAmount']>20000].hist(column='ClaimAmount', bins=100, ax=axes[1])\n",
    "\n",
    "axes[0].title.set_text('Claim Amount')\n",
    "axes[1].title.set_text('Tail behavior: Claim Amount')"
   ]
  },
  {
   "cell_type": "markdown",
   "id": "a0e7ee7b-27ec-42a2-a3d9-1be80e19b9e5",
   "metadata": {
    "tags": [
     "type:NotebookTask"
    ]
   },
   "source": [
    "## 14. Large loss analysis: Identifying thresholds"
   ]
  },
  {
   "cell_type": "markdown",
   "id": "98787030-619e-45a0-9254-bd304babcf2c",
   "metadata": {
    "tags": [
     "@context"
    ]
   },
   "source": [
    "**[Context for Task 14]**\n"
   ]
  },
  {
   "cell_type": "markdown",
   "id": "289ad6b9-bd9e-40bd-ac02-dd6654477e85",
   "metadata": {
    "tags": [
     "@instructions"
    ]
   },
   "source": [
    "**[Instructions]**\n",
    "\n",
    "- Identify threshold for large claim. Please note there are lots of ways to find the threshold, one can choose whatever method he/she thinks appropriate.\n",
    "- In this approach, we first get the percentage of claim amount over certain threshold, then we compute the percentage of claims number over the threshold. Finally, we define the metric, which is percentage of claim amount over threshold divided by percentage of claim number over threshold."
   ]
  },
  {
   "cell_type": "markdown",
   "id": "16e76136-d32a-48c3-9a1b-226c51de661d",
   "metadata": {
    "tags": [
     "@hint"
    ]
   },
   "source": [
    "**[Insert Hints Below]**\n",
    "\n",
    "- The approach here can be different as long as it can select a reasonable threshold."
   ]
  },
  {
   "cell_type": "markdown",
   "id": "cb50a694-0211-4166-9879-b29b8b27c65a",
   "metadata": {},
   "source": [
    "### Comment\n",
    "- Treshold is 20,000\n",
    "- 30% of the total claim amount is above this treshold\n",
    "- only 230 claims\n",
    "\n",
    "- In this example the factor integrates the probability of having a large claim.  Because the number of claims is too small to draw conclusions, another option is to spread this 30% over all policies."
   ]
  },
  {
   "cell_type": "markdown",
   "id": "51157eab-2381-4080-92e9-a895654786e6",
   "metadata": {},
   "source": [
    "### Sample Code"
   ]
  },
  {
   "cell_type": "markdown",
   "id": "30a722bf-b6a1-4886-8e50-8627d0572231",
   "metadata": {
    "tags": [
     "@sample_code"
    ]
   },
   "source": [
    "Above, I choose 20,000 euro as the treshold, a round amount close to the 99% quantile"
   ]
  },
  {
   "cell_type": "code",
   "execution_count": 211,
   "id": "55110ce9-56ac-4ee0-815f-132e7bb8e4e5",
   "metadata": {},
   "outputs": [],
   "source": [
    "large_claim_tresh = 20000"
   ]
  },
  {
   "cell_type": "code",
   "execution_count": 212,
   "id": "044feb5e-d0ca-446f-a410-30878ea9f228",
   "metadata": {},
   "outputs": [
    {
     "data": {
      "text/html": [
       "<div>\n",
       "<style scoped>\n",
       "    .dataframe tbody tr th:only-of-type {\n",
       "        vertical-align: middle;\n",
       "    }\n",
       "\n",
       "    .dataframe tbody tr th {\n",
       "        vertical-align: top;\n",
       "    }\n",
       "\n",
       "    .dataframe thead th {\n",
       "        text-align: right;\n",
       "    }\n",
       "</style>\n",
       "<table border=\"1\" class=\"dataframe\">\n",
       "  <thead>\n",
       "    <tr style=\"text-align: right;\">\n",
       "      <th></th>\n",
       "      <th>ClaimNb</th>\n",
       "      <th>ClaimAmount</th>\n",
       "      <th>ClaimAbove</th>\n",
       "    </tr>\n",
       "  </thead>\n",
       "  <tbody>\n",
       "    <tr>\n",
       "      <th>66</th>\n",
       "      <td>1</td>\n",
       "      <td>303.00</td>\n",
       "      <td>-19697.00</td>\n",
       "    </tr>\n",
       "    <tr>\n",
       "      <th>93</th>\n",
       "      <td>1</td>\n",
       "      <td>1981.84</td>\n",
       "      <td>-18018.16</td>\n",
       "    </tr>\n",
       "    <tr>\n",
       "      <th>199</th>\n",
       "      <td>1</td>\n",
       "      <td>1456.55</td>\n",
       "      <td>-18543.45</td>\n",
       "    </tr>\n",
       "    <tr>\n",
       "      <th>205</th>\n",
       "      <td>2</td>\n",
       "      <td>10834.00</td>\n",
       "      <td>-9166.00</td>\n",
       "    </tr>\n",
       "    <tr>\n",
       "      <th>223</th>\n",
       "      <td>1</td>\n",
       "      <td>3986.67</td>\n",
       "      <td>-16013.33</td>\n",
       "    </tr>\n",
       "    <tr>\n",
       "      <th>...</th>\n",
       "      <td>...</td>\n",
       "      <td>...</td>\n",
       "      <td>...</td>\n",
       "    </tr>\n",
       "    <tr>\n",
       "      <th>677203</th>\n",
       "      <td>1</td>\n",
       "      <td>1324.40</td>\n",
       "      <td>-18675.60</td>\n",
       "    </tr>\n",
       "    <tr>\n",
       "      <th>677475</th>\n",
       "      <td>1</td>\n",
       "      <td>1769.88</td>\n",
       "      <td>-18230.12</td>\n",
       "    </tr>\n",
       "    <tr>\n",
       "      <th>677499</th>\n",
       "      <td>1</td>\n",
       "      <td>1288.28</td>\n",
       "      <td>-18711.72</td>\n",
       "    </tr>\n",
       "    <tr>\n",
       "      <th>677516</th>\n",
       "      <td>2</td>\n",
       "      <td>12230.40</td>\n",
       "      <td>-7769.60</td>\n",
       "    </tr>\n",
       "    <tr>\n",
       "      <th>677653</th>\n",
       "      <td>1</td>\n",
       "      <td>1452.00</td>\n",
       "      <td>-18548.00</td>\n",
       "    </tr>\n",
       "  </tbody>\n",
       "</table>\n",
       "<p>24944 rows × 3 columns</p>\n",
       "</div>"
      ],
      "text/plain": [
       "        ClaimNb  ClaimAmount  ClaimAbove\n",
       "66            1       303.00   -19697.00\n",
       "93            1      1981.84   -18018.16\n",
       "199           1      1456.55   -18543.45\n",
       "205           2     10834.00    -9166.00\n",
       "223           1      3986.67   -16013.33\n",
       "...         ...          ...         ...\n",
       "677203        1      1324.40   -18675.60\n",
       "677475        1      1769.88   -18230.12\n",
       "677499        1      1288.28   -18711.72\n",
       "677516        2     12230.40    -7769.60\n",
       "677653        1      1452.00   -18548.00\n",
       "\n",
       "[24944 rows x 3 columns]"
      ]
     },
     "execution_count": 212,
     "metadata": {},
     "output_type": "execute_result"
    }
   ],
   "source": [
    "sev_db['ClaimAbove'] =  sev_db['ClaimAmount']-large_claim_tresh\n",
    "sev_db"
   ]
  },
  {
   "cell_type": "code",
   "execution_count": 213,
   "id": "de05dd55-9e26-47fd-94c2-64646754fad2",
   "metadata": {},
   "outputs": [],
   "source": [
    "sev_db['large_claim'] = 1\n",
    "sev_db.loc[sev_db['ClaimAbove']<0, 'large_claim'] = 0\n"
   ]
  },
  {
   "cell_type": "markdown",
   "id": "d1f67468-78a0-44d6-bb8b-58ec8bc608bc",
   "metadata": {},
   "source": [
    "### Identify Large claims.\n"
   ]
  },
  {
   "cell_type": "markdown",
   "id": "c3984e56-439a-4d01-b3a2-932615b0283a",
   "metadata": {},
   "source": [
    "#### Only the excess is separated.  the part of the claim below the treshold remains as a regular claim"
   ]
  },
  {
   "cell_type": "code",
   "execution_count": 216,
   "id": "594b26d0-b54f-47f5-89b7-fa372f891a85",
   "metadata": {},
   "outputs": [
    {
     "data": {
      "text/html": [
       "<div>\n",
       "<style scoped>\n",
       "    .dataframe tbody tr th:only-of-type {\n",
       "        vertical-align: middle;\n",
       "    }\n",
       "\n",
       "    .dataframe tbody tr th {\n",
       "        vertical-align: top;\n",
       "    }\n",
       "\n",
       "    .dataframe thead th {\n",
       "        text-align: right;\n",
       "    }\n",
       "</style>\n",
       "<table border=\"1\" class=\"dataframe\">\n",
       "  <thead>\n",
       "    <tr style=\"text-align: right;\">\n",
       "      <th></th>\n",
       "      <th>ClaimNb</th>\n",
       "      <th>ClaimAmount</th>\n",
       "      <th>ClaimAbove</th>\n",
       "      <th>large_claim</th>\n",
       "      <th>ClaimBelow</th>\n",
       "    </tr>\n",
       "  </thead>\n",
       "  <tbody>\n",
       "    <tr>\n",
       "      <th>66</th>\n",
       "      <td>1</td>\n",
       "      <td>303.00</td>\n",
       "      <td>0.0</td>\n",
       "      <td>0</td>\n",
       "      <td>303.00</td>\n",
       "    </tr>\n",
       "    <tr>\n",
       "      <th>93</th>\n",
       "      <td>1</td>\n",
       "      <td>1981.84</td>\n",
       "      <td>0.0</td>\n",
       "      <td>0</td>\n",
       "      <td>1981.84</td>\n",
       "    </tr>\n",
       "    <tr>\n",
       "      <th>199</th>\n",
       "      <td>1</td>\n",
       "      <td>1456.55</td>\n",
       "      <td>0.0</td>\n",
       "      <td>0</td>\n",
       "      <td>1456.55</td>\n",
       "    </tr>\n",
       "    <tr>\n",
       "      <th>205</th>\n",
       "      <td>2</td>\n",
       "      <td>10834.00</td>\n",
       "      <td>0.0</td>\n",
       "      <td>0</td>\n",
       "      <td>10834.00</td>\n",
       "    </tr>\n",
       "    <tr>\n",
       "      <th>223</th>\n",
       "      <td>1</td>\n",
       "      <td>3986.67</td>\n",
       "      <td>0.0</td>\n",
       "      <td>0</td>\n",
       "      <td>3986.67</td>\n",
       "    </tr>\n",
       "    <tr>\n",
       "      <th>...</th>\n",
       "      <td>...</td>\n",
       "      <td>...</td>\n",
       "      <td>...</td>\n",
       "      <td>...</td>\n",
       "      <td>...</td>\n",
       "    </tr>\n",
       "    <tr>\n",
       "      <th>677203</th>\n",
       "      <td>1</td>\n",
       "      <td>1324.40</td>\n",
       "      <td>0.0</td>\n",
       "      <td>0</td>\n",
       "      <td>1324.40</td>\n",
       "    </tr>\n",
       "    <tr>\n",
       "      <th>677475</th>\n",
       "      <td>1</td>\n",
       "      <td>1769.88</td>\n",
       "      <td>0.0</td>\n",
       "      <td>0</td>\n",
       "      <td>1769.88</td>\n",
       "    </tr>\n",
       "    <tr>\n",
       "      <th>677499</th>\n",
       "      <td>1</td>\n",
       "      <td>1288.28</td>\n",
       "      <td>0.0</td>\n",
       "      <td>0</td>\n",
       "      <td>1288.28</td>\n",
       "    </tr>\n",
       "    <tr>\n",
       "      <th>677516</th>\n",
       "      <td>2</td>\n",
       "      <td>12230.40</td>\n",
       "      <td>0.0</td>\n",
       "      <td>0</td>\n",
       "      <td>12230.40</td>\n",
       "    </tr>\n",
       "    <tr>\n",
       "      <th>677653</th>\n",
       "      <td>1</td>\n",
       "      <td>1452.00</td>\n",
       "      <td>0.0</td>\n",
       "      <td>0</td>\n",
       "      <td>1452.00</td>\n",
       "    </tr>\n",
       "  </tbody>\n",
       "</table>\n",
       "<p>24944 rows × 5 columns</p>\n",
       "</div>"
      ],
      "text/plain": [
       "        ClaimNb  ClaimAmount  ClaimAbove  large_claim  ClaimBelow\n",
       "66            1       303.00         0.0            0      303.00\n",
       "93            1      1981.84         0.0            0     1981.84\n",
       "199           1      1456.55         0.0            0     1456.55\n",
       "205           2     10834.00         0.0            0    10834.00\n",
       "223           1      3986.67         0.0            0     3986.67\n",
       "...         ...          ...         ...          ...         ...\n",
       "677203        1      1324.40         0.0            0     1324.40\n",
       "677475        1      1769.88         0.0            0     1769.88\n",
       "677499        1      1288.28         0.0            0     1288.28\n",
       "677516        2     12230.40         0.0            0    12230.40\n",
       "677653        1      1452.00         0.0            0     1452.00\n",
       "\n",
       "[24944 rows x 5 columns]"
      ]
     },
     "execution_count": 216,
     "metadata": {},
     "output_type": "execute_result"
    }
   ],
   "source": [
    "sev_db.loc[sev_db['ClaimAbove']<0, 'ClaimAbove'] = 0\n",
    "sev_db['ClaimBelow'] = sev_db['ClaimAmount'] - sev_db['ClaimAbove']\n",
    "sev_db"
   ]
  },
  {
   "cell_type": "markdown",
   "id": "f096c36b-fe69-4b3a-8966-2fa8a5e7d3c3",
   "metadata": {},
   "source": [
    "check: should be 0"
   ]
  },
  {
   "cell_type": "code",
   "execution_count": 218,
   "id": "93600b81-2386-4927-9ee9-be67233723f4",
   "metadata": {},
   "outputs": [
    {
     "data": {
      "text/plain": [
       "0"
      ]
     },
     "execution_count": 218,
     "metadata": {},
     "output_type": "execute_result"
    }
   ],
   "source": [
    "round(sev_db['ClaimBelow'].sum() + sev_db['ClaimAbove'].sum() - sev_db['ClaimAmount'].sum())"
   ]
  },
  {
   "cell_type": "markdown",
   "id": "a9cc08d7-f9c4-4f98-aa62-88958314c5b3",
   "metadata": {},
   "source": [
    "### Build metric: \n",
    "first get the percentage of claim amount over certain threshold, then we compute the percentage of claims number over the threshold. Finally, we define the metric, which is percentage of claim amount over threshold divided by percentage of claim number over threshold."
   ]
  },
  {
   "cell_type": "markdown",
   "id": "5349a4ce-54df-408c-a86a-5e57eec9a00b",
   "metadata": {},
   "source": [
    "#### here I assume the percentage is: total amount above / total amount.  "
   ]
  },
  {
   "cell_type": "code",
   "execution_count": 221,
   "id": "725435dd-b355-4698-aa31-5de53c84b06f",
   "metadata": {},
   "outputs": [
    {
     "data": {
      "text/plain": [
       "0.2957644246607698"
      ]
     },
     "execution_count": 221,
     "metadata": {},
     "output_type": "execute_result"
    }
   ],
   "source": [
    "total_large = sev_db['ClaimAbove'].sum()\n",
    "total = sev_db['ClaimAmount'].sum()\n",
    "factor_large_claim_amt = total_large / total\n",
    "factor_large_claim_amt"
   ]
  },
  {
   "cell_type": "code",
   "execution_count": 222,
   "id": "faf373df-f6d3-43dd-97c1-f8ee60c43119",
   "metadata": {},
   "outputs": [
    {
     "name": "stdout",
     "output_type": "stream",
     "text": [
      "230 24944 0.009220654265554842\n"
     ]
    }
   ],
   "source": [
    "total_large = sev_db['large_claim'].sum()\n",
    "total = len(sev_db)\n",
    "factor_large_claim_n = total_large / total\n",
    "print(total_large, total,factor_large_claim_n)"
   ]
  },
  {
   "cell_type": "code",
   "execution_count": 223,
   "id": "2538f18f-21cd-4eee-b237-03e6b3dc2a8e",
   "metadata": {},
   "outputs": [
    {
     "data": {
      "text/plain": [
       "32.076294820601056"
      ]
     },
     "execution_count": 223,
     "metadata": {},
     "output_type": "execute_result"
    }
   ],
   "source": [
    "large_claim_metric = factor_large_claim_amt / factor_large_claim_n\n",
    "large_claim_metric"
   ]
  },
  {
   "cell_type": "markdown",
   "id": "37774bad-8447-4dde-9e4a-ce4f55bc007b",
   "metadata": {
    "tags": [
     "type:NotebookTask"
    ]
   },
   "source": [
    "## 15. Plotting distributions"
   ]
  },
  {
   "cell_type": "markdown",
   "id": "32af4fb7-e3dd-4791-a992-0c50b029e169",
   "metadata": {
    "tags": [
     "@context"
    ]
   },
   "source": [
    "**[Add Context for Task 15]**\n",
    "\n",
    "Visualize both attritional distribution and excess distribution."
   ]
  },
  {
   "cell_type": "markdown",
   "id": "4a5eadbc-a935-47e8-8cf6-b8df4eb70ef9",
   "metadata": {
    "tags": [
     "@instructions"
    ]
   },
   "source": [
    "**[Instructions]**\n",
    "\n",
    "- Plot both attritional distribution and excess distribution given the large loss threshold equals 190,000"
   ]
  },
  {
   "cell_type": "markdown",
   "id": "0d4127d0-9d04-4d66-acba-94ccf68969d4",
   "metadata": {},
   "source": [
    "### Comment\n",
    "- With the 190000 treshold the percentage abouve is now 13%\n",
    "- The attritional loss plot shows a more stable distribution"
   ]
  },
  {
   "cell_type": "markdown",
   "id": "af97526b-af62-4ecf-9151-fef6b0000426",
   "metadata": {},
   "source": [
    "### make dataset now with treshold 190,000"
   ]
  },
  {
   "cell_type": "code",
   "execution_count": 229,
   "id": "3b103d71-e38a-45c3-8633-fee39567ffc2",
   "metadata": {
    "tags": [
     "@sample_code"
    ]
   },
   "outputs": [
    {
     "data": {
      "text/html": [
       "<div>\n",
       "<style scoped>\n",
       "    .dataframe tbody tr th:only-of-type {\n",
       "        vertical-align: middle;\n",
       "    }\n",
       "\n",
       "    .dataframe tbody tr th {\n",
       "        vertical-align: top;\n",
       "    }\n",
       "\n",
       "    .dataframe thead th {\n",
       "        text-align: right;\n",
       "    }\n",
       "</style>\n",
       "<table border=\"1\" class=\"dataframe\">\n",
       "  <thead>\n",
       "    <tr style=\"text-align: right;\">\n",
       "      <th></th>\n",
       "      <th>ClaimNb</th>\n",
       "      <th>ClaimAmount</th>\n",
       "      <th>ClaimAbove</th>\n",
       "      <th>large_claim</th>\n",
       "      <th>ClaimBelow</th>\n",
       "    </tr>\n",
       "  </thead>\n",
       "  <tbody>\n",
       "    <tr>\n",
       "      <th>66</th>\n",
       "      <td>1</td>\n",
       "      <td>303.00</td>\n",
       "      <td>0.0</td>\n",
       "      <td>0</td>\n",
       "      <td>303.00</td>\n",
       "    </tr>\n",
       "    <tr>\n",
       "      <th>93</th>\n",
       "      <td>1</td>\n",
       "      <td>1981.84</td>\n",
       "      <td>0.0</td>\n",
       "      <td>0</td>\n",
       "      <td>1981.84</td>\n",
       "    </tr>\n",
       "    <tr>\n",
       "      <th>199</th>\n",
       "      <td>1</td>\n",
       "      <td>1456.55</td>\n",
       "      <td>0.0</td>\n",
       "      <td>0</td>\n",
       "      <td>1456.55</td>\n",
       "    </tr>\n",
       "    <tr>\n",
       "      <th>205</th>\n",
       "      <td>2</td>\n",
       "      <td>10834.00</td>\n",
       "      <td>0.0</td>\n",
       "      <td>0</td>\n",
       "      <td>10834.00</td>\n",
       "    </tr>\n",
       "    <tr>\n",
       "      <th>223</th>\n",
       "      <td>1</td>\n",
       "      <td>3986.67</td>\n",
       "      <td>0.0</td>\n",
       "      <td>0</td>\n",
       "      <td>3986.67</td>\n",
       "    </tr>\n",
       "    <tr>\n",
       "      <th>...</th>\n",
       "      <td>...</td>\n",
       "      <td>...</td>\n",
       "      <td>...</td>\n",
       "      <td>...</td>\n",
       "      <td>...</td>\n",
       "    </tr>\n",
       "    <tr>\n",
       "      <th>677203</th>\n",
       "      <td>1</td>\n",
       "      <td>1324.40</td>\n",
       "      <td>0.0</td>\n",
       "      <td>0</td>\n",
       "      <td>1324.40</td>\n",
       "    </tr>\n",
       "    <tr>\n",
       "      <th>677475</th>\n",
       "      <td>1</td>\n",
       "      <td>1769.88</td>\n",
       "      <td>0.0</td>\n",
       "      <td>0</td>\n",
       "      <td>1769.88</td>\n",
       "    </tr>\n",
       "    <tr>\n",
       "      <th>677499</th>\n",
       "      <td>1</td>\n",
       "      <td>1288.28</td>\n",
       "      <td>0.0</td>\n",
       "      <td>0</td>\n",
       "      <td>1288.28</td>\n",
       "    </tr>\n",
       "    <tr>\n",
       "      <th>677516</th>\n",
       "      <td>2</td>\n",
       "      <td>12230.40</td>\n",
       "      <td>0.0</td>\n",
       "      <td>0</td>\n",
       "      <td>12230.40</td>\n",
       "    </tr>\n",
       "    <tr>\n",
       "      <th>677653</th>\n",
       "      <td>1</td>\n",
       "      <td>1452.00</td>\n",
       "      <td>0.0</td>\n",
       "      <td>0</td>\n",
       "      <td>1452.00</td>\n",
       "    </tr>\n",
       "  </tbody>\n",
       "</table>\n",
       "<p>24944 rows × 5 columns</p>\n",
       "</div>"
      ],
      "text/plain": [
       "        ClaimNb  ClaimAmount  ClaimAbove  large_claim  ClaimBelow\n",
       "66            1       303.00         0.0            0      303.00\n",
       "93            1      1981.84         0.0            0     1981.84\n",
       "199           1      1456.55         0.0            0     1456.55\n",
       "205           2     10834.00         0.0            0    10834.00\n",
       "223           1      3986.67         0.0            0     3986.67\n",
       "...         ...          ...         ...          ...         ...\n",
       "677203        1      1324.40         0.0            0     1324.40\n",
       "677475        1      1769.88         0.0            0     1769.88\n",
       "677499        1      1288.28         0.0            0     1288.28\n",
       "677516        2     12230.40         0.0            0    12230.40\n",
       "677653        1      1452.00         0.0            0     1452.00\n",
       "\n",
       "[24944 rows x 5 columns]"
      ]
     },
     "execution_count": 229,
     "metadata": {},
     "output_type": "execute_result"
    }
   ],
   "source": [
    "large_claim_tresh = 190000\n",
    "sev_db['ClaimAbove'] =  sev_db['ClaimAmount']-large_claim_tresh\n",
    "sev_db\n",
    "sev_db['large_claim'] = 1\n",
    "sev_db.loc[sev_db['ClaimAbove']<0, 'large_claim'] = 0\n",
    "sev_db.loc[sev_db['ClaimAbove']<0, 'ClaimAbove'] = 0\n",
    "sev_db['ClaimBelow'] = sev_db['ClaimAmount'] - sev_db['ClaimAbove']\n",
    "sev_db"
   ]
  },
  {
   "cell_type": "code",
   "execution_count": 230,
   "id": "3a767394-2f10-4c0e-93a2-0fa93d643127",
   "metadata": {},
   "outputs": [
    {
     "name": "stdout",
     "output_type": "stream",
     "text": [
      "7937579.42 59909216.50000001 0.13249346066810938\n"
     ]
    }
   ],
   "source": [
    "total_large = sev_db['ClaimAbove'].sum()\n",
    "total = sev_db['ClaimAmount'].sum()\n",
    "factor_large_claim_amt = total_large / total\n",
    "print(total_large, total,factor_large_claim_amt)"
   ]
  },
  {
   "cell_type": "code",
   "execution_count": 231,
   "id": "9bc91386-871f-41a0-8e68-b6f2e10d3944",
   "metadata": {},
   "outputs": [
    {
     "name": "stdout",
     "output_type": "stream",
     "text": [
      "20 24944 0.0008017960230917255\n"
     ]
    }
   ],
   "source": [
    "total_large = sev_db['large_claim'].sum()\n",
    "total = len(sev_db)\n",
    "factor_large_claim_n = total_large / total\n",
    "print(total_large, total,factor_large_claim_n)"
   ]
  },
  {
   "cell_type": "code",
   "execution_count": 232,
   "id": "091fe6f7-dae5-4e3f-8dda-da090b8de677",
   "metadata": {
    "tags": [
     "@sample_code"
    ]
   },
   "outputs": [],
   "source": [
    "# attritional distribution"
   ]
  },
  {
   "cell_type": "code",
   "execution_count": 233,
   "id": "7edeeeb7-8c17-437b-8f86-f533ac75d5e4",
   "metadata": {
    "tags": [
     "@sample_code"
    ]
   },
   "outputs": [],
   "source": [
    "# excess distribution"
   ]
  },
  {
   "cell_type": "code",
   "execution_count": 234,
   "id": "4e689ee5-fdd4-4ddf-bf98-facb43db58bb",
   "metadata": {
    "tags": [
     "@sample_code"
    ]
   },
   "outputs": [
    {
     "data": {
      "image/png": "[encoded data removed]",
      "text/plain": [
       "<Figure size 1152x360 with 2 Axes>"
      ]
     },
     "metadata": {
      "needs_background": "light"
     },
     "output_type": "display_data"
    }
   ],
   "source": [
    "fig, axes = plt.subplots(nrows=1, ncols=2, figsize=(16,5))\n",
    "\n",
    "sev_db.hist(column='ClaimBelow', bins=100, log=True, ax=axes[0])\n",
    "sev_db[sev_db['ClaimAbove']>0].hist(column='ClaimAbove', bins=100, log=True, ax=axes[1])\n",
    "\n",
    "\n",
    "axes[0].title.set_text('attritional distribution')\n",
    "axes[1].title.set_text('excess distribution')"
   ]
  }
 ],
 "metadata": {
  "celltoolbar": "Tags",
  "kernelspec": {
   "display_name": "anaconda-2022.05-py39",
   "language": "python",
   "name": "conda-env-anaconda-2022.05-py39-py"
  },
  "language_info": {
   "codemirror_mode": {
    "name": "ipython",
    "version": 3
   },
   "file_extension": ".py",
   "mimetype": "text/x-python",
   "name": "python",
   "nbconvert_exporter": "python",
   "pygments_lexer": "ipython3",
   "version": "3.9.12"
  },
  "vscode": {
   "interpreter": {
    "hash": "bb3127239cd96812d21f504294b44d4719e87dc6b1b58865b265735791272e38"
   }
  }
 },
 "nbformat": 4,
 "nbformat_minor": 5
}
